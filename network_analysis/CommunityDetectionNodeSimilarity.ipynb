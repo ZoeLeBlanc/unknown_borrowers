{
 "cells": [
  {
   "cell_type": "markdown",
   "metadata": {},
   "source": [
    "we have all these missing interactions but do know we have members without data and members with data but no interactions so how can we estimate what those members likely read"
   ]
  },
  {
   "cell_type": "code",
   "execution_count": 44,
   "metadata": {},
   "outputs": [],
   "source": [
    "\n",
    "import pandas as pd\n",
    "pd.options.mode.chained_assignment = None\n",
    "pd.set_option('display.max_columns', None)\n",
    "\n",
    "import warnings\n",
    "warnings.filterwarnings(\"ignore\")\n",
    "\n",
    "import sys\n",
    "sys.path.append(\"..\")\n",
    "from network_analysis.load_datasets import get_updated_shxco_data\n",
    "from network_analysis.generate_network_metrics import *\n",
    "from network_analysis.create_networks import *\n",
    "from network_analysis.read_write_networks import *\n",
    "from network_analysis.visualize_networks import * \n"
   ]
  },
  {
   "cell_type": "markdown",
   "metadata": {},
   "source": [
    "Reading communities? add in additional metadata? can we use that to infer unknown borrowers? use reading/genre \n",
    "\n",
    "questioning of not only can we infer missing data but can we also predict what's missing?\n",
    "\n",
    "1. Drawing outside of the lines and Filling in the Unknowns\n",
    "   1. sample and far from perfect but have some sense of how exceptional based on the data\n",
    "    2. useful to think of s&co as a community of people who read the same books (rather than discrete groups)\n",
    "   1. if we think of it as a network, we can actually explore how much this exceptional behavior skews our existing sample using network stability measures doesn't seem to radically change the overall shape of the network though particular nodes are more stable\n",
    "   2. one thing we can also do is improving the metadata? books easier than humans \n",
    "2. Speculative reading of the past\n",
    "   1. Identify best community detection for members vs books? igraph, networkx, networkit, and stellargraph. Who was likely to run into who?\n",
    "   2. use members then books\n",
    "   3. then use members and book metadata to predict links using link prediction and random forest model\n",
    "   4. Compare to recommender systems and discuss results\n",
    "   5. Models vs modes of reading"
   ]
  },
  {
   "cell_type": "code",
   "execution_count": 45,
   "metadata": {},
   "outputs": [],
   "source": [
    "members_df, books_df, borrow_events, events_df = get_updated_shxco_data(\n",
    "    get_subscription=False)\n",
    "\n",
    "unknown_borrows = borrow_events[borrow_events.start_datetime.isna()]\n",
    "borrow_events = borrow_events[(borrow_events.start_datetime.isna() == False) & (\n",
    "    borrow_events.end_datetime.isna() == False)]\n",
    "all_borrows = borrow_events[borrow_events.start_datetime < '1942-01-01'].copy()\n",
    "\n",
    "unexceptional_borrows = all_borrows[all_borrows.exceptional_types.isna()]\n",
    "\n",
    "## If you want all events regardless of types, use this:\n",
    "# all_borrows = events_df[events_df.item_uri.isna() == False].copy()\n",
    "\n",
    "# unexceptional_borrows = all_borrows[all_borrows.exceptional_types.isna()]\n"
   ]
  },
  {
   "cell_type": "code",
   "execution_count": 46,
   "metadata": {},
   "outputs": [
    {
     "name": "stdout",
     "output_type": "stream",
     "text": [
      "reloading saved graph: ./data/borrow_events_unipartite_projected\n"
     ]
    }
   ],
   "source": [
    "member_attrs = {'uri': 'member_id'}\n",
    "book_attrs = {'uri': 'item_uri'}\n",
    "edge_attrs = {'weight': 'counts'}\n",
    "node_attrs = {}\n",
    "should_process = True\n",
    "write_to_file = True\n",
    "sk_metrics = ['katz', 'louvain']\n",
    "link_metrics = ['pagerank', 'hubs', 'auth']\n",
    "is_projected = True\n",
    "all_borrows_grouped = all_borrows.groupby(\n",
    "    ['member_id', 'item_uri']).size().reset_index(name='counts')\n",
    "unexceptional_borrows_grouped = unexceptional_borrows.groupby(\n",
    "    ['member_id', 'item_uri']).size().reset_index(name='counts')\n",
    "\n",
    "projected_members_graph, projected_members_nodelist, projected_members_edgelist, projected_members, projected_books_graph, projected_books_nodelist, projected_books_edgelist, projected_books = check_reload_build_unipartite_graphs(\n",
    "    all_borrows_grouped, all_borrows, member_attrs, book_attrs, edge_attrs, node_attrs, should_process, write_to_file, './data/borrow_events_unipartite_projected', sk_metrics, link_metrics, members_df, books_df, is_projected)\n",
    "\n"
   ]
  },
  {
   "cell_type": "code",
   "execution_count": 47,
   "metadata": {},
   "outputs": [],
   "source": [
    "nodes_df = pd.DataFrame.from_dict(\n",
    "    dict(projected_members_graph.nodes(data=True)), orient='index')\n"
   ]
  },
  {
   "cell_type": "code",
   "execution_count": 48,
   "metadata": {},
   "outputs": [],
   "source": [
    "label_dict = dict(zip(nodes_df.label, nodes_df.uri))"
   ]
  },
  {
   "cell_type": "code",
   "execution_count": 49,
   "metadata": {},
   "outputs": [],
   "source": [
    "H = nx.relabel_nodes(projected_members_graph, label_dict)"
   ]
  },
  {
   "cell_type": "markdown",
   "metadata": {},
   "source": [
    "Networkx Community Detection"
   ]
  },
  {
   "cell_type": "code",
   "execution_count": 50,
   "metadata": {},
   "outputs": [],
   "source": [
    "subgraph = sorted(\n",
    "    nx.connected_components(H), key=len, reverse=True)\n",
    "graph = H.subgraph(subgraph[0])\n"
   ]
  },
  {
   "cell_type": "code",
   "execution_count": 51,
   "metadata": {},
   "outputs": [],
   "source": [
    "from networkx.algorithms import community\n"
   ]
  },
  {
   "cell_type": "code",
   "execution_count": 52,
   "metadata": {},
   "outputs": [
    {
     "data": {
      "text/plain": [
       "3"
      ]
     },
     "execution_count": 52,
     "metadata": {},
     "output_type": "execute_result"
    }
   ],
   "source": [
    "c = list(community.greedy_modularity_communities(graph))\n",
    "len(c)"
   ]
  },
  {
   "cell_type": "code",
   "execution_count": 53,
   "metadata": {},
   "outputs": [
    {
     "data": {
      "text/plain": [
       "0.12610405003168562"
      ]
     },
     "execution_count": 53,
     "metadata": {},
     "output_type": "execute_result"
    }
   ],
   "source": [
    "community.modularity(graph, c)"
   ]
  },
  {
   "cell_type": "code",
   "execution_count": 54,
   "metadata": {},
   "outputs": [],
   "source": [
    "import community as community_louvain\n",
    "partition = community_louvain.best_partition(graph)"
   ]
  },
  {
   "cell_type": "code",
   "execution_count": 55,
   "metadata": {},
   "outputs": [
    {
     "data": {
      "text/plain": [
       "[0, 1, 2]"
      ]
     },
     "execution_count": 55,
     "metadata": {},
     "output_type": "execute_result"
    }
   ],
   "source": [
    "partition_df = pd.DataFrame.from_dict(partition, orient='index').reset_index()\n",
    "partition_df.columns = ['uri', 'community']\n",
    "partition_df.community.unique().tolist()"
   ]
  },
  {
   "cell_type": "code",
   "execution_count": 56,
   "metadata": {},
   "outputs": [
    {
     "data": {
      "text/plain": [
       "(0.5794201714985708, 0.6037430079983271)"
      ]
     },
     "execution_count": 56,
     "metadata": {},
     "output_type": "execute_result"
    }
   ],
   "source": [
    "community.partition_quality(graph, c)"
   ]
  },
  {
   "cell_type": "code",
   "execution_count": 57,
   "metadata": {},
   "outputs": [
    {
     "data": {
      "text/plain": [
       "(['alderman',\n",
       "  'alvear',\n",
       "  'antoine-may',\n",
       "  'arvanon',\n",
       "  'auger',\n",
       "  'baker-3',\n",
       "  'baldwin-helen-green',\n",
       "  'bazin-de-jessey',\n",
       "  'beaulieu',\n",
       "  'beauvoir-simone-de',\n",
       "  'bernheim',\n",
       "  'bernheim-antoinette',\n",
       "  'bernheim-francoise',\n",
       "  'bertraud-fontaine',\n",
       "  'bidoire-boulenger',\n",
       "  'blackmer',\n",
       "  'blaess',\n",
       "  'bloch-marguerite-herzog',\n",
       "  'bonnerot',\n",
       "  'boscq-marie',\n",
       "  'bouniols-louise-olga',\n",
       "  'bourassin-2',\n",
       "  'bourdet',\n",
       "  'boyd-james',\n",
       "  'boyd-madeleine',\n",
       "  'bremond',\n",
       "  'brinquant-simone',\n",
       "  'brull',\n",
       "  'buratti',\n",
       "  'burnet-mary-scott',\n",
       "  'burt-maud',\n",
       "  'busy',\n",
       "  'butler-h-m',\n",
       "  'cahun',\n",
       "  'camerlynck-guernier',\n",
       "  'camille-georgette',\n",
       "  'camp',\n",
       "  'campbell-arlen',\n",
       "  'carr-philip',\n",
       "  'carroll-akrata-von-schrader',\n",
       "  'cassaigne',\n",
       "  'catel-jean',\n",
       "  'cayeux',\n",
       "  'cayton',\n",
       "  'cazes',\n",
       "  'cesaire',\n",
       "  'chalot',\n",
       "  'chambaz',\n",
       "  'chambrillac',\n",
       "  'chanler',\n",
       "  'chareau-dorothee',\n",
       "  'chaudot',\n",
       "  'chenneviere',\n",
       "  'child-bertha-cushing',\n",
       "  'chonez',\n",
       "  'chopard-2',\n",
       "  'church-barbara',\n",
       "  'church-henry',\n",
       "  'churchill',\n",
       "  'citron-pierre',\n",
       "  'clairin-pierre-eugene',\n",
       "  'clairin-theresa',\n",
       "  'clark-john-darcy',\n",
       "  'claudius',\n",
       "  'clermont-tonnerre',\n",
       "  'clizbe',\n",
       "  'clogenson',\n",
       "  'coche-de-la-ferte',\n",
       "  'coffey',\n",
       "  'colens',\n",
       "  'collins-r-f',\n",
       "  'colly',\n",
       "  'connolly-cyril',\n",
       "  'cornu-odette',\n",
       "  'couet',\n",
       "  'crane-louise',\n",
       "  'crosby-caresse',\n",
       "  'culbert',\n",
       "  'cullerre',\n",
       "  'culley',\n",
       "  'culme-seymour',\n",
       "  'culver-donald',\n",
       "  'dachary',\n",
       "  'dalsace',\n",
       "  'davaine',\n",
       "  'davet',\n",
       "  'delimal',\n",
       "  'delimal-eric',\n",
       "  'denham',\n",
       "  'denis-graterolle',\n",
       "  'denis-pierre',\n",
       "  'dennis-holly',\n",
       "  'dennis-mary-cable',\n",
       "  'denoel-pierre',\n",
       "  'desclos-anne',\n",
       "  'desclos-auguste',\n",
       "  'devies',\n",
       "  'dherbais-de-thun',\n",
       "  'diebold',\n",
       "  'dillon',\n",
       "  'dolan',\n",
       "  'dudley',\n",
       "  'duff-donald',\n",
       "  'dullin',\n",
       "  'dupre-marie-antoinette',\n",
       "  'dupuy',\n",
       "  'duren',\n",
       "  'duthie',\n",
       "  'dyer-louise',\n",
       "  'edwards-thomas',\n",
       "  'eggimann',\n",
       "  'elfvik',\n",
       "  'eloff-fanie',\n",
       "  'enfield',\n",
       "  'engel',\n",
       "  'espitalier',\n",
       "  'estrangin',\n",
       "  'exideuil',\n",
       "  'fabre-cecile',\n",
       "  'farrar',\n",
       "  'faulkner-norma',\n",
       "  'felder',\n",
       "  'fels',\n",
       "  'ferrater',\n",
       "  'finger',\n",
       "  'fischer-marjorie',\n",
       "  'fitzgerald',\n",
       "  'flandrau',\n",
       "  'flanner',\n",
       "  'foltz',\n",
       "  'fombeure',\n",
       "  'forceville',\n",
       "  'ford-ford-madox',\n",
       "  'forest-divonne',\n",
       "  'foret',\n",
       "  'fourcade',\n",
       "  'fournier-jeanne',\n",
       "  'franchot',\n",
       "  'francillon',\n",
       "  'francs',\n",
       "  'frieseke-sarah-anne',\n",
       "  'gascoyne',\n",
       "  'gay-francisque',\n",
       "  'genet-mme',\n",
       "  'gerbault-paul',\n",
       "  'gibault',\n",
       "  'giedion-welcker',\n",
       "  'gilbert-stuart',\n",
       "  'gillet-louis',\n",
       "  'gillet-robert',\n",
       "  'gillie',\n",
       "  'gischia-gerry',\n",
       "  'gischia-leon',\n",
       "  'golotine',\n",
       "  'gosse-emilienne',\n",
       "  'goyert',\n",
       "  'grassot',\n",
       "  'greenich',\n",
       "  'groethuisen',\n",
       "  'guillemin',\n",
       "  'guiringaud',\n",
       "  'haltel',\n",
       "  'hamilton-12',\n",
       "  'harden-e',\n",
       "  'harmsworth-desmond',\n",
       "  'hebant',\n",
       "  'hemingway',\n",
       "  'herbart',\n",
       "  'heurgon-jacques',\n",
       "  'hiler',\n",
       "  'hobhouse',\n",
       "  'hoboken',\n",
       "  'imbs',\n",
       "  'jackson-5',\n",
       "  'jacquet',\n",
       "  'james-t-m',\n",
       "  'jeanneney-marie-laure-monod',\n",
       "  'jolas-maria',\n",
       "  'joyce-giorgio',\n",
       "  'joyce-james',\n",
       "  'joyce-lucia',\n",
       "  'kalbfleisch',\n",
       "  'kaopeitzer',\n",
       "  'kennedy-robert',\n",
       "  'kidder',\n",
       "  'killen',\n",
       "  'king-f',\n",
       "  'kittredge-eleanor-hayden',\n",
       "  'knipper',\n",
       "  'la-gorce',\n",
       "  'lacorne',\n",
       "  'lacroix-e',\n",
       "  'lafoy',\n",
       "  'lambert-jacqueline',\n",
       "  'lamberts',\n",
       "  'lamblin',\n",
       "  'lamirault',\n",
       "  'lamy-marthe',\n",
       "  'langlois',\n",
       "  'lanux-eyre-de',\n",
       "  'lanux-pierre-de',\n",
       "  'laporte',\n",
       "  'le-gallienne-irma',\n",
       "  'le-gallienne-richard',\n",
       "  'lecoeur',\n",
       "  'ledoux',\n",
       "  'leer',\n",
       "  'leibowitz',\n",
       "  'lemonnier',\n",
       "  'leon-paul',\n",
       "  'lerolle',\n",
       "  'lescure-yvonne',\n",
       "  'leveque-susanne',\n",
       "  'levinson-marie',\n",
       "  'levy-catherine',\n",
       "  'lewisohn',\n",
       "  'leyris-betty',\n",
       "  'leyris-pierre',\n",
       "  'linossier-raymonde',\n",
       "  'ller',\n",
       "  'loon',\n",
       "  'lord-eda',\n",
       "  'lorsignol-pierre',\n",
       "  'lubersac',\n",
       "  'lucas-b',\n",
       "  'lucas-mrs',\n",
       "  'ludlow-mary-sophie',\n",
       "  'lyon-martine',\n",
       "  'mackenzie-d-s-s',\n",
       "  'mansfield-katherine',\n",
       "  'mantoy',\n",
       "  'manziarly',\n",
       "  'marcel-gabriel',\n",
       "  'marcilly',\n",
       "  'mardrus',\n",
       "  'margerie',\n",
       "  'marian-willard',\n",
       "  'marotte',\n",
       "  'marsland',\n",
       "  'martin-maud',\n",
       "  'martin-simone',\n",
       "  'martinuzzi',\n",
       "  'masse',\n",
       "  'massey',\n",
       "  'massuger',\n",
       "  'mathews',\n",
       "  'maurice-constantin-weyer',\n",
       "  'maurois',\n",
       "  'maxwell',\n",
       "  'mayran',\n",
       "  'mayre-n-e',\n",
       "  'mazon',\n",
       "  'mcalmon-robert',\n",
       "  'mcgrew-marie-carroll',\n",
       "  'mcnair',\n",
       "  'melot',\n",
       "  'menzies',\n",
       "  'mercanton',\n",
       "  'merleau-ponty',\n",
       "  'merrick-leonard',\n",
       "  'merzbach',\n",
       "  'mespoulet',\n",
       "  'metcalf-thomas',\n",
       "  'meyer-florence',\n",
       "  'mian',\n",
       "  'michaelides-l',\n",
       "  'milhaud',\n",
       "  'miller-10',\n",
       "  'milward-j-d',\n",
       "  'mingalon',\n",
       "  'moal-paul-le',\n",
       "  'monnier-j',\n",
       "  'montricher-cecile-de',\n",
       "  'morgan',\n",
       "  'morinni',\n",
       "  'morison-theodore',\n",
       "  'morrow',\n",
       "  'murphy-dudley',\n",
       "  'murray-john-3',\n",
       "  'oconor',\n",
       "  'oerthel',\n",
       "  'oldenburger',\n",
       "  'oppen',\n",
       "  'orbison-agnes',\n",
       "  'orbison-douglas',\n",
       "  'ottensooser',\n",
       "  'ottocar',\n",
       "  'pader',\n",
       "  'pagan',\n",
       "  'paige',\n",
       "  'parrain',\n",
       "  'pasquier-jean',\n",
       "  'patmore-brigit',\n",
       "  'paul-dubois',\n",
       "  'paul-elliot-2',\n",
       "  'payot',\n",
       "  'peggram',\n",
       "  'pelorson',\n",
       "  'perkins',\n",
       "  'pfeffel',\n",
       "  'pfeiffer-pauline',\n",
       "  'pfeiffer-virginia',\n",
       "  'pfiffer',\n",
       "  'philip',\n",
       "  'philipson',\n",
       "  'picard-pierre',\n",
       "  'pierret',\n",
       "  'plummer',\n",
       "  'poirson',\n",
       "  'ponsonby-david',\n",
       "  'poole-kitty-wickes',\n",
       "  'poorilz',\n",
       "  'porcher',\n",
       "  'porel',\n",
       "  'porter-katherine-anne',\n",
       "  'potocki-de-montalk',\n",
       "  'pottecher-therese',\n",
       "  'pottier',\n",
       "  'pottier-ph',\n",
       "  'pouree',\n",
       "  'pourtales-guy-de',\n",
       "  'prenter',\n",
       "  'prevost-gerard',\n",
       "  'prevost-marcelle-auclair',\n",
       "  'price-phyllis',\n",
       "  'pringle-lady',\n",
       "  'prochasson',\n",
       "  'proix',\n",
       "  'prot',\n",
       "  'putzel',\n",
       "  'puy-fontaine',\n",
       "  'ralli',\n",
       "  'ramniklalk',\n",
       "  'raousset',\n",
       "  'raphael-france',\n",
       "  'reavely',\n",
       "  'reeves',\n",
       "  'regnier',\n",
       "  'reid-john',\n",
       "  'renaudin',\n",
       "  'renoir',\n",
       "  'reverchon',\n",
       "  'reynal',\n",
       "  'reynolds-a-m',\n",
       "  'rhys',\n",
       "  'rice-matilda',\n",
       "  'richard-p',\n",
       "  'richards-orpen',\n",
       "  'richardson-arthur-w-2',\n",
       "  'richardson-mrs-arthur',\n",
       "  'richer',\n",
       "  'rieder',\n",
       "  'rindges',\n",
       "  'rirachowsky',\n",
       "  'ris',\n",
       "  'riviere-jean',\n",
       "  'rivoallan-anatole',\n",
       "  'roberts-3',\n",
       "  'robin',\n",
       "  'rocatallada',\n",
       "  'roditi-edouard',\n",
       "  'roditi-georges',\n",
       "  'roditi-marcel-d',\n",
       "  'roger-levy',\n",
       "  'rogers-charles',\n",
       "  'rogers-samuel',\n",
       "  'rolland-madeleine',\n",
       "  'rollo',\n",
       "  'rolo',\n",
       "  'rooker',\n",
       "  'rose-de',\n",
       "  'roussel-3',\n",
       "  'rowe-dutton',\n",
       "  'royer-sement',\n",
       "  'sachs',\n",
       "  'sage',\n",
       "  'sage-robert',\n",
       "  'sargent',\n",
       "  'sarraute',\n",
       "  'satenstein',\n",
       "  'saunders-olivia',\n",
       "  'saur',\n",
       "  'savage-steele',\n",
       "  'savitsky',\n",
       "  'savy',\n",
       "  'sayre',\n",
       "  'schenk',\n",
       "  'schereck',\n",
       "  'schirmer',\n",
       "  'schlumberger',\n",
       "  'schlumberger-jean',\n",
       "  'schueller',\n",
       "  'scott-a',\n",
       "  'scudder-janet',\n",
       "  'scudder-raymond',\n",
       "  'scudder-thomas',\n",
       "  'seager',\n",
       "  'seilliere',\n",
       "  'service',\n",
       "  'sessions-barbara',\n",
       "  'shapiro-phyllis-w',\n",
       "  'shaw-m-r-b',\n",
       "  'shayerovitch',\n",
       "  'sheldon-james-s',\n",
       "  'shelley-dorothy',\n",
       "  'shelton-caroline',\n",
       "  'sibon',\n",
       "  'simon-juquin',\n",
       "  'smyth-pigott',\n",
       "  'solano',\n",
       "  'somerville',\n",
       "  'sorel',\n",
       "  'sortor',\n",
       "  'soupault',\n",
       "  'speaight-r-l',\n",
       "  'sperry',\n",
       "  'spira',\n",
       "  'steegmuller-francis',\n",
       "  'stein-gertrude',\n",
       "  'stein-leo',\n",
       "  'stevens-george',\n",
       "  'stirling-monica',\n",
       "  'summerell',\n",
       "  'suter',\n",
       "  'swan',\n",
       "  'swasey',\n",
       "  'sweeney-james',\n",
       "  'sykes-christopher',\n",
       "  'syrett',\n",
       "  'sze',\n",
       "  'tabouis',\n",
       "  'tate',\n",
       "  'teissier-jeanine-delpech',\n",
       "  'tery',\n",
       "  'thayer-woodbridge',\n",
       "  'thellier-de-poncheville',\n",
       "  'theves',\n",
       "  'thomas-henri',\n",
       "  'thomassin',\n",
       "  'thoreux',\n",
       "  'tomlinson-e-r',\n",
       "  'tony-mayer',\n",
       "  'torrence',\n",
       "  'tourneux',\n",
       "  'tournier',\n",
       "  'tree',\n",
       "  'treirse',\n",
       "  'trevelyan-julian',\n",
       "  'tritton',\n",
       "  'tuttle-stephen-d',\n",
       "  'ullmann-w-e',\n",
       "  'ulmann',\n",
       "  'ulsh',\n",
       "  'upton',\n",
       "  'valerio',\n",
       "  'valery-francois',\n",
       "  'van-den-bergh',\n",
       "  'vandel',\n",
       "  'varney',\n",
       "  'vechten',\n",
       "  'venable',\n",
       "  'vieillard',\n",
       "  'vieillot',\n",
       "  'viele-mary-wharton',\n",
       "  'vienne',\n",
       "  'vigan',\n",
       "  'villars',\n",
       "  'vincens',\n",
       "  'violette',\n",
       "  'vogein',\n",
       "  'vogue-de',\n",
       "  'vox',\n",
       "  'walker-natalie',\n",
       "  'wallace-lillian',\n",
       "  'wallace-richard',\n",
       "  'waller-robert',\n",
       "  'walsh',\n",
       "  'wang',\n",
       "  'wang-chun-jen',\n",
       "  'warfield',\n",
       "  'waterfield',\n",
       "  'waterfield-gordon',\n",
       "  'watson-george',\n",
       "  'watson-sarah-pressly',\n",
       "  'wauquier',\n",
       "  'weaver-audrey',\n",
       "  'wegner',\n",
       "  'weiss-colette',\n",
       "  'welles-briggs',\n",
       "  'wendel',\n",
       "  'wharton',\n",
       "  'whitman-tania',\n",
       "  'whitridge',\n",
       "  'wibbelz',\n",
       "  'wickham',\n",
       "  'wigram',\n",
       "  'wilde-dorothy',\n",
       "  'wilder-charlotte',\n",
       "  'wilder-thornton',\n",
       "  'wilkinson-tudor',\n",
       "  'williams-marjorie',\n",
       "  'wilson-margaret',\n",
       "  'wilson-natalie',\n",
       "  'winner-harry-e',\n",
       "  'wissotzky',\n",
       "  'wolkowitsch',\n",
       "  'wood-thelma',\n",
       "  'woodward-daphne',\n",
       "  'woolsey',\n",
       "  'worthing-13',\n",
       "  'wyck',\n",
       "  'yard',\n",
       "  'yarrow',\n",
       "  'ybarra-penny',\n",
       "  'yeats-anne',\n",
       "  'zimmer',\n",
       "  'zogheb'],\n",
       " ['genet'])"
      ]
     },
     "execution_count": 57,
     "metadata": {},
     "output_type": "execute_result"
    }
   ],
   "source": [
    "comp = community.girvan_newman(graph)\n",
    "tuple(sorted(c) for c in next(comp))\n"
   ]
  },
  {
   "cell_type": "code",
   "execution_count": 58,
   "metadata": {},
   "outputs": [],
   "source": [
    "# nx.simrank_similarity(graph)"
   ]
  },
  {
   "cell_type": "code",
   "execution_count": 59,
   "metadata": {},
   "outputs": [],
   "source": [
    "from igraph import *\n"
   ]
  },
  {
   "cell_type": "code",
   "execution_count": 60,
   "metadata": {},
   "outputs": [
    {
     "data": {
      "text/plain": [
       "<igraph.Graph at 0x12e231e50>"
      ]
     },
     "execution_count": 60,
     "metadata": {},
     "output_type": "execute_result"
    }
   ],
   "source": [
    "g = Graph.from_networkx(graph)\n",
    "g"
   ]
  },
  {
   "cell_type": "code",
   "execution_count": 61,
   "metadata": {},
   "outputs": [
    {
     "data": {
      "text/plain": [
       "[0, 1, 2, 3]"
      ]
     },
     "execution_count": 61,
     "metadata": {},
     "output_type": "execute_result"
    }
   ],
   "source": [
    "fg_run = g.community_fastgreedy(weights='weight')\n",
    "clusters = fg_run.as_clustering()\n",
    "membership = clusters.membership\n",
    "fg = pd.DataFrame().from_dict(\n",
    "    dict(zip(g.vs['uri'], membership)), orient='index').reset_index()\n",
    "fg.columns = ['uri', 'community']\n",
    "fg.community.unique().tolist()\n"
   ]
  },
  {
   "cell_type": "code",
   "execution_count": 62,
   "metadata": {},
   "outputs": [
    {
     "data": {
      "text/plain": [
       "[0]"
      ]
     },
     "execution_count": 62,
     "metadata": {},
     "output_type": "execute_result"
    }
   ],
   "source": [
    "im_run = g.community_infomap(edge_weights='weight')\n",
    "membership = im_run.membership\n",
    "im = pd.DataFrame().from_dict(dict(zip(g.vs['uri'], membership)), orient='index').reset_index()\n",
    "im.columns = ['uri', 'community']\n",
    "im.community.unique().tolist()"
   ]
  },
  {
   "cell_type": "code",
   "execution_count": 63,
   "metadata": {},
   "outputs": [
    {
     "data": {
      "text/plain": [
       "[0, 1, 2]"
      ]
     },
     "execution_count": 63,
     "metadata": {},
     "output_type": "execute_result"
    }
   ],
   "source": [
    "ei_run = g.community_leading_eigenvector(weights='weight')\n",
    "membership = ei_run.membership\n",
    "ei = pd.DataFrame().from_dict(dict(zip(g.vs['uri'], membership)), orient='index').reset_index()\n",
    "ei.columns = ['uri', 'community']\n",
    "ei.community.unique().tolist()"
   ]
  },
  {
   "cell_type": "code",
   "execution_count": 64,
   "metadata": {},
   "outputs": [],
   "source": [
    "si_run = g.community_spinglass(weights='weight')\n",
    "membership = si_run.membership"
   ]
  },
  {
   "cell_type": "code",
   "execution_count": 65,
   "metadata": {},
   "outputs": [
    {
     "data": {
      "text/plain": [
       "[1, 4, 0, 3, 2, 5]"
      ]
     },
     "execution_count": 65,
     "metadata": {},
     "output_type": "execute_result"
    }
   ],
   "source": [
    "si = pd.DataFrame().from_dict(dict(zip(g.vs['uri'], membership)), orient='index').reset_index()\n",
    "si.columns = ['uri', 'community']\n",
    "si.community.unique().tolist()"
   ]
  },
  {
   "cell_type": "code",
   "execution_count": 67,
   "metadata": {},
   "outputs": [],
   "source": [
    "im_run = g.community_infomap()"
   ]
  },
  {
   "cell_type": "code",
   "execution_count": 69,
   "metadata": {},
   "outputs": [
    {
     "data": {
      "text/plain": [
       "518"
      ]
     },
     "execution_count": 69,
     "metadata": {},
     "output_type": "execute_result"
    }
   ],
   "source": [
    "len(graph.nodes())"
   ]
  },
  {
   "cell_type": "code",
   "execution_count": 70,
   "metadata": {},
   "outputs": [
    {
     "data": {
      "text/plain": [
       "518"
      ]
     },
     "execution_count": 70,
     "metadata": {},
     "output_type": "execute_result"
    }
   ],
   "source": [
    "graph_ints = nx.convert_node_labels_to_integers(graph)\n",
    "len(graph_ints.nodes())"
   ]
  },
  {
   "cell_type": "code",
   "execution_count": 81,
   "metadata": {},
   "outputs": [],
   "source": [
    "import karateclub as kc\n",
    "model = kc.MNMF()\n",
    "model.fit(graph_ints)\n",
    "cluster_membership = model.get_memberships()\n"
   ]
  },
  {
   "cell_type": "code",
   "execution_count": 82,
   "metadata": {},
   "outputs": [
    {
     "data": {
      "text/plain": [
       "community\n",
       "5    154\n",
       "3    111\n",
       "7     87\n",
       "2     28\n",
       "9     27\n",
       "0     23\n",
       "1     23\n",
       "4     23\n",
       "6     21\n",
       "8     21\n",
       "dtype: int64"
      ]
     },
     "execution_count": 82,
     "metadata": {},
     "output_type": "execute_result"
    }
   ],
   "source": [
    "label_df = pd.DataFrame.from_dict(dict(cluster_membership), orient='index').reset_index()\n",
    "label_df.columns = ['uri', 'community']\n",
    "label_df.groupby('community').size().sort_values(ascending=False)"
   ]
  },
  {
   "cell_type": "code",
   "execution_count": 86,
   "metadata": {},
   "outputs": [
    {
     "name": "stderr",
     "output_type": "stream",
     "text": [
      "2021-12-17 18:27:07,265:[WARNING](pygsp.graphs.graph.check_weights): The main diagonal of the weight matrix is not 0!\n"
     ]
    }
   ],
   "source": [
    "model = kc.GraphWave()\n",
    "model.fit(graph_ints)\n",
    "cluster_embedding = model.get_embedding()"
   ]
  },
  {
   "cell_type": "code",
   "execution_count": 89,
   "metadata": {},
   "outputs": [
    {
     "data": {
      "text/plain": [
       "400"
      ]
     },
     "execution_count": 89,
     "metadata": {},
     "output_type": "execute_result"
    }
   ],
   "source": [
    "cluster_embedding.shape[1]"
   ]
  },
  {
   "cell_type": "code",
   "execution_count": 90,
   "metadata": {},
   "outputs": [],
   "source": [
    "from sklearn.manifold import TSNE\n"
   ]
  },
  {
   "cell_type": "code",
   "execution_count": 91,
   "metadata": {},
   "outputs": [],
   "source": [
    "transformed_embedding = TSNE(n_components=2).fit_transform(cluster_embedding)"
   ]
  },
  {
   "cell_type": "code",
   "execution_count": 92,
   "metadata": {},
   "outputs": [],
   "source": [
    "import matplotlib.pyplot as plt"
   ]
  },
  {
   "cell_type": "code",
   "execution_count": 93,
   "metadata": {},
   "outputs": [
    {
     "data": {
      "image/png": "[encoded data removed]",
      "text/plain": [
       "<Figure size 504x504 with 1 Axes>"
      ]
     },
     "metadata": {
      "needs_background": "light"
     },
     "output_type": "display_data"
    }
   ],
   "source": [
    "alpha = 0.7\n",
    "\n",
    "fig, ax = plt.subplots(figsize=(7, 7))\n",
    "ax.scatter(transformed_embedding[0], transformed_embedding[1], alpha=alpha)\n",
    "ax.set(aspect=\"equal\", xlabel=\"$X_1$\", ylabel=\"$X_2$\")\n",
    "# plt.title(\"{} visualization of GraphSAGE embeddings\".format(transform.__name__))\n",
    "plt.show()\n"
   ]
  },
  {
   "cell_type": "code",
   "execution_count": null,
   "metadata": {},
   "outputs": [],
   "source": []
  }
 ],
 "metadata": {
  "interpreter": {
   "hash": "64bc08f1a64889c0d194e5f8836772fcdd5223ec9e3efb4bcd3e9cf106aac237"
  },
  "kernelspec": {
   "display_name": "Python 3.9.7 64-bit ('unknown_borrowers_env': venv)",
   "language": "python",
   "name": "python3"
  },
  "language_info": {
   "codemirror_mode": {
    "name": "ipython",
    "version": 3
   },
   "file_extension": ".py",
   "mimetype": "text/x-python",
   "name": "python",
   "nbconvert_exporter": "python",
   "pygments_lexer": "ipython3",
   "version": "3.9.7"
  },
  "orig_nbformat": 4
 },
 "nbformat": 4,
 "nbformat_minor": 2
}
