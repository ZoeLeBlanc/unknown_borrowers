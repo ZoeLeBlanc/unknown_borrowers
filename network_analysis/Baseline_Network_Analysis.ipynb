{
 "cells": [
  {
   "cell_type": "code",
   "execution_count": 8,
   "metadata": {},
   "outputs": [],
   "source": [
    "import pandas as pd\n",
    "pd.options.mode.chained_assignment = None\n",
    "pd.set_option('display.max_columns', None)\n",
    "import networkx as nx\n",
    "from networkx.algorithms import bipartite\n",
    "# import community\n",
    "from networkx.readwrite import json_graph\n",
    "# import nx_altair as nxa\n",
    "from networkx.algorithms.community import greedy_modularity_communities\n",
    "from pyvis import network as net\n",
    "# from node2vec import Node2Vec\n",
    "import altair as alt\n",
    "import matplotlib.pyplot as plt\n",
    "import numpy as np\n",
    "import itertools\n",
    "import collections\n",
    "from tqdm.notebook import trange, tqdm\n",
    "\n",
    "import warnings\n",
    "warnings.filterwarnings(\"ignore\")\n",
    "\n",
    "import sys\n",
    "sys.path.append(\"..\")\n",
    "from network_analysis.load_datasets import get_updated_shxco_data\n",
    "from network_analysis.generate_network_metrics import *\n",
    "from network_analysis.create_networks import *\n",
    "from network_analysis.read_write_networks import * "
   ]
  },
  {
   "cell_type": "markdown",
   "metadata": {},
   "source": [
    "Exploring the stability of graphs in these groupings:\n",
    "- compare overall graph density\n",
    "- compare node metrics\n",
    "1. All Events **vs** All Events minus Exceptional Ones **vs** All Events minus those of Killen and Raphael France\n",
    "   1. Bipartite\n",
    "      1. All time\n",
    "      2. Seasonal\n",
    "      3. 1920s vs 1930s\n",
    "   2. Unipartite\n",
    "      1. All time\n",
    "      2. Seasonal\n",
    "      3. 1920s vs 1930s\n",
    "\n",
    "Goals:\n",
    "- identify communities\n",
    "- identify shape of network and how we want to divide it for analysis\n",
    "- find out which metrics are most useful for modeling subscribers and book reading habits"
   ]
  },
  {
   "cell_type": "markdown",
   "metadata": {},
   "source": [
    "#### Baseline datasets"
   ]
  },
  {
   "cell_type": "code",
   "execution_count": 9,
   "metadata": {},
   "outputs": [],
   "source": [
    "members_df, books_df, borrow_events, events_df = get_updated_shxco_data()"
   ]
  },
  {
   "cell_type": "code",
   "execution_count": 10,
   "metadata": {},
   "outputs": [],
   "source": [
    "all_events = borrow_events.copy()\n",
    "\n",
    "unexceptional_events = borrow_events[borrow_events.exceptional_types.isna()]\n",
    "\n",
    "no_rk_borrow_events = borrow_events[(borrow_events.member_id != 'killen') & (borrow_events.member_id != 'raphael-france')]\n",
    "no_rk_members_df = members_df[(members_df.member_id != 'killen') & (members_df.member_id != 'raphael-france')]\n"
   ]
  },
  {
   "cell_type": "markdown",
   "metadata": {},
   "source": [
    "### Bipartite Comparisons\n",
    "\n",
    "#### Comparing Across Entire Time of Sco Library"
   ]
  },
  {
   "cell_type": "code",
   "execution_count": 11,
   "metadata": {},
   "outputs": [
    {
     "name": "stdout",
     "output_type": "stream",
     "text": [
      "reloading saved graph: ./data/all_events_bipartite\n",
      "reloading saved graph: ./data/unexceptional_bipartite\n",
      "reloading saved graph: ./data/no_rk_bipartite\n"
     ]
    }
   ],
   "source": [
    "member_attrs = {'uri': 'member_id'}\n",
    "book_attrs = {'uri': 'item_uri'}\n",
    "edge_attrs = {'weight': 'counts'}\n",
    "all_events_grouped = all_events.groupby(['member_id', 'item_uri']).size().reset_index(name='counts')\n",
    "unexceptional_events_grouped = unexceptional_events.groupby(['member_id', 'item_uri']).size().reset_index(name='counts')\n",
    "no_rk_events_grouped = no_rk_borrow_events.groupby(['member_id', 'item_uri']).size().reset_index(name='counts')\n",
    "should_process = True\n",
    "write_to_file = True\n",
    "sk_metrics = ['katz', 'louvain']\n",
    "link_metrics = ['HITS', 'CoHITS', 'BiRank', 'BGRM']\n",
    "\n",
    "\n",
    "all_events_bipartite_graph, all_events_bipartite_nodelist, all_events_bipartite_edgelist, all_events_members, all_events_books = check_reload_build_bipartite_graphs(all_events_grouped, member_attrs, book_attrs, edge_attrs, should_process, write_to_file, './data/all_events_bipartite', sk_metrics, link_metrics, members_df, books_df)\n",
    "\n",
    "unexceptional_bipartite_graph, unexceptional_bipartite_nodelist, unexceptional_bipartite_edgelist, unexceptional_members, unexceptional_books = check_reload_build_bipartite_graphs(unexceptional_events_grouped, member_attrs, book_attrs, edge_attrs, should_process, write_to_file,'./data/unexceptional_bipartite', sk_metrics, link_metrics, members_df, books_df)\n",
    "\n",
    "no_rk_bipartite_graph, no_rk_bipartite_nodelist, no_rk_bipartite_edgelist, no_rk_members, no_rk_books = check_reload_build_bipartite_graphs(no_rk_events_grouped, member_attrs, book_attrs, edge_attrs, should_process, write_to_file, './data/no_rk_bipartite', sk_metrics, link_metrics, members_df, books_df)\n"
   ]
  },
  {
   "cell_type": "code",
   "execution_count": 12,
   "metadata": {},
   "outputs": [],
   "source": [
    "columns = no_rk_books.columns.to_list()\n",
    "columns = [c for c in columns if ('local' in c) | ('global' in c)]\n",
    "no_rk_books_corr = no_rk_books[columns].corr()\n",
    "all_events_books_corr = all_events_books[columns].corr()\n",
    "unexceptional_books_corr = unexceptional_books[columns].corr()\n",
    "no_rk_members_corr = no_rk_members[columns].corr()\n",
    "all_events_members_corr = all_events_members[columns].corr()\n",
    "unexceptional_members_corr = unexceptional_members[columns].corr()\n",
    "\n",
    "\n",
    "def generate_corr_chart(corr_df, title):\n",
    "    # data preparation\n",
    "    pivot_cols = list(corr_df.columns)\n",
    "    corr_df['cat'] = corr_df.index\n",
    "\n",
    "    base = alt.Chart(corr_df).transform_fold(pivot_cols).encode(\n",
    "        x=\"cat:N\",  y='key:N').properties(height=300, width=300, title=title)\n",
    "    boxes = base.mark_rect().encode(color=alt.Color(\n",
    "        \"value:Q\", scale=alt.Scale(scheme=\"redyellowblue\")))\n",
    "    labels = base.mark_text(size=5, color=\"grey\").encode(\n",
    "        text=alt.Text(\"value:Q\", format=\"0.1f\"))\n",
    "    chart = boxes + labels\n",
    "    return chart"
   ]
  },
  {
   "cell_type": "code",
   "execution_count": 13,
   "metadata": {},
   "outputs": [
    {
     "data": {
      "text/html": [
       "\n",
       "<div id=\"altair-viz-cf0dc01d26d94928b0601840c84eb7ed\"></div>\n",
       "<script type=\"text/javascript\">\n",
       "  (function(spec, embedOpt){\n",
       "    let outputDiv = document.currentScript.previousElementSibling;\n",
       "    if (outputDiv.id !== \"altair-viz-cf0dc01d26d94928b0601840c84eb7ed\") {\n",
       "      outputDiv = document.getElementById(\"altair-viz-cf0dc01d26d94928b0601840c84eb7ed\");\n",
       "    }\n",
       "    const paths = {\n",
       "      \"vega\": \"https://cdn.jsdelivr.net/npm//vega@5?noext\",\n",
       "      \"vega-lib\": \"https://cdn.jsdelivr.net/npm//vega-lib?noext\",\n",
       "      \"vega-lite\": \"https://cdn.jsdelivr.net/npm//vega-lite@4.8.1?noext\",\n",
       "      \"vega-embed\": \"https://cdn.jsdelivr.net/npm//vega-embed@6?noext\",\n",
       "    };\n",
       "\n",
       "    function loadScript(lib) {\n",
       "      return new Promise(function(resolve, reject) {\n",
       "        var s = document.createElement('script');\n",
       "        s.src = paths[lib];\n",
       "        s.async = true;\n",
       "        s.onload = () => resolve(paths[lib]);\n",
       "        s.onerror = () => reject(`Error loading script: ${paths[lib]}`);\n",
       "        document.getElementsByTagName(\"head\")[0].appendChild(s);\n",
       "      });\n",
       "    }\n",
       "\n",
       "    function showError(err) {\n",
       "      outputDiv.innerHTML = `<div class=\"error\" style=\"color:red;\">${err}</div>`;\n",
       "      throw err;\n",
       "    }\n",
       "\n",
       "    function displayChart(vegaEmbed) {\n",
       "      vegaEmbed(outputDiv, spec, embedOpt)\n",
       "        .catch(err => showError(`Javascript Error: ${err.message}<br>This usually means there's a typo in your chart specification. See the javascript console for the full traceback.`));\n",
       "    }\n",
       "\n",
       "    if(typeof define === \"function\" && define.amd) {\n",
       "      requirejs.config({paths});\n",
       "      require([\"vega-embed\"], displayChart, err => showError(`Error loading script: ${err.message}`));\n",
       "    } else if (typeof vegaEmbed === \"function\") {\n",
       "      displayChart(vegaEmbed);\n",
       "    } else {\n",
       "      loadScript(\"vega\")\n",
       "        .then(() => loadScript(\"vega-lite\"))\n",
       "        .then(() => loadScript(\"vega-embed\"))\n",
       "        .catch(showError)\n",
       "        .then(() => displayChart(vegaEmbed));\n",
       "    }\n",
       "  })({\"config\": {\"view\": {\"continuousWidth\": 400, \"continuousHeight\": 300}}, \"hconcat\": [{\"layer\": [{\"mark\": \"rect\", \"encoding\": {\"color\": {\"type\": \"quantitative\", \"field\": \"value\", \"scale\": {\"scheme\": \"redyellowblue\"}}, \"x\": {\"type\": \"nominal\", \"field\": \"cat\"}, \"y\": {\"type\": \"nominal\", \"field\": \"key\"}}, \"height\": 300, \"title\": \"member correlations for all events data\", \"transform\": [{\"fold\": [\"global_degree\", \"local_degree\", \"global_clustering\", \"local_clustering\", \"global_closeness\", \"local_closeness\", \"global_betweenness\", \"local_betweenness\", \"local_katz\", \"local_louvain\", \"local_HITS\", \"local_CoHITS\", \"local_BiRank\", \"local_BGRM\", \"global_katz\", \"global_louvain\", \"global_HITS\", \"global_CoHITS\", \"global_BiRank\", \"global_BGRM\"]}], \"width\": 300}, {\"mark\": {\"type\": \"text\", \"color\": \"grey\", \"size\": 5}, \"encoding\": {\"text\": {\"type\": \"quantitative\", \"field\": \"value\", \"format\": \"0.1f\"}, \"x\": {\"type\": \"nominal\", \"field\": \"cat\"}, \"y\": {\"type\": \"nominal\", \"field\": \"key\"}}, \"height\": 300, \"title\": \"member correlations for all events data\", \"transform\": [{\"fold\": [\"global_degree\", \"local_degree\", \"global_clustering\", \"local_clustering\", \"global_closeness\", \"local_closeness\", \"global_betweenness\", \"local_betweenness\", \"local_katz\", \"local_louvain\", \"local_HITS\", \"local_CoHITS\", \"local_BiRank\", \"local_BGRM\", \"global_katz\", \"global_louvain\", \"global_HITS\", \"global_CoHITS\", \"global_BiRank\", \"global_BGRM\"]}], \"width\": 300}], \"data\": {\"name\": \"data-7e8b4e8a3b558739cd076ef56210d3e0\"}}, {\"layer\": [{\"mark\": \"rect\", \"encoding\": {\"color\": {\"type\": \"quantitative\", \"field\": \"value\", \"scale\": {\"scheme\": \"redyellowblue\"}}, \"x\": {\"type\": \"nominal\", \"field\": \"cat\"}, \"y\": {\"type\": \"nominal\", \"field\": \"key\"}}, \"height\": 300, \"title\": \"member correlations for unexceptional data\", \"transform\": [{\"fold\": [\"global_degree\", \"local_degree\", \"global_clustering\", \"local_clustering\", \"global_closeness\", \"local_closeness\", \"global_betweenness\", \"local_betweenness\", \"local_katz\", \"local_louvain\", \"local_HITS\", \"local_CoHITS\", \"local_BiRank\", \"local_BGRM\", \"global_katz\", \"global_louvain\", \"global_HITS\", \"global_CoHITS\", \"global_BiRank\", \"global_BGRM\"]}], \"width\": 300}, {\"mark\": {\"type\": \"text\", \"color\": \"grey\", \"size\": 5}, \"encoding\": {\"text\": {\"type\": \"quantitative\", \"field\": \"value\", \"format\": \"0.1f\"}, \"x\": {\"type\": \"nominal\", \"field\": \"cat\"}, \"y\": {\"type\": \"nominal\", \"field\": \"key\"}}, \"height\": 300, \"title\": \"member correlations for unexceptional data\", \"transform\": [{\"fold\": [\"global_degree\", \"local_degree\", \"global_clustering\", \"local_clustering\", \"global_closeness\", \"local_closeness\", \"global_betweenness\", \"local_betweenness\", \"local_katz\", \"local_louvain\", \"local_HITS\", \"local_CoHITS\", \"local_BiRank\", \"local_BGRM\", \"global_katz\", \"global_louvain\", \"global_HITS\", \"global_CoHITS\", \"global_BiRank\", \"global_BGRM\"]}], \"width\": 300}], \"data\": {\"name\": \"data-ef48fc1e338fe6b428573e1594085f3a\"}}, {\"layer\": [{\"mark\": \"rect\", \"encoding\": {\"color\": {\"type\": \"quantitative\", \"field\": \"value\", \"scale\": {\"scheme\": \"redyellowblue\"}}, \"x\": {\"type\": \"nominal\", \"field\": \"cat\"}, \"y\": {\"type\": \"nominal\", \"field\": \"key\"}}, \"height\": 300, \"title\": \"member correlations for no rk data\", \"transform\": [{\"fold\": [\"global_degree\", \"local_degree\", \"global_clustering\", \"local_clustering\", \"global_closeness\", \"local_closeness\", \"global_betweenness\", \"local_betweenness\", \"local_katz\", \"local_louvain\", \"local_HITS\", \"local_CoHITS\", \"local_BiRank\", \"local_BGRM\", \"global_katz\", \"global_louvain\", \"global_HITS\", \"global_CoHITS\", \"global_BiRank\", \"global_BGRM\"]}], \"width\": 300}, {\"mark\": {\"type\": \"text\", \"color\": \"grey\", \"size\": 5}, \"encoding\": {\"text\": {\"type\": \"quantitative\", \"field\": \"value\", \"format\": \"0.1f\"}, \"x\": {\"type\": \"nominal\", \"field\": \"cat\"}, \"y\": {\"type\": \"nominal\", \"field\": \"key\"}}, \"height\": 300, \"title\": \"member correlations for no rk data\", \"transform\": [{\"fold\": [\"global_degree\", \"local_degree\", \"global_clustering\", \"local_clustering\", \"global_closeness\", \"local_closeness\", \"global_betweenness\", \"local_betweenness\", \"local_katz\", \"local_louvain\", \"local_HITS\", \"local_CoHITS\", \"local_BiRank\", \"local_BGRM\", \"global_katz\", \"global_louvain\", \"global_HITS\", \"global_CoHITS\", \"global_BiRank\", \"global_BGRM\"]}], \"width\": 300}], \"data\": {\"name\": \"data-05984850f39a9ea7bfe6e84350011901\"}}], \"$schema\": \"https://vega.github.io/schema/vega-lite/v4.8.1.json\", \"datasets\": {\"data-7e8b4e8a3b558739cd076ef56210d3e0\": [{\"global_degree\": 1.0, \"local_degree\": 0.04900504971105743, \"global_clustering\": -0.18121380980650686, \"local_clustering\": -0.18121380980650686, \"global_closeness\": 0.12926993007902887, \"local_closeness\": 0.15004490964344241, \"global_betweenness\": 0.9575256012819372, \"local_betweenness\": 0.9575256057373851, \"local_katz\": 0.9832436987630936, \"local_louvain\": -0.03161146305091762, \"local_HITS\": -0.015053099230488469, \"local_CoHITS\": -0.03082832016635067, \"local_BiRank\": -0.05417549596650676, \"local_BGRM\": -0.05494301336560266, \"global_katz\": 0.9832436987630936, \"global_louvain\": -0.06446817853131363, \"global_HITS\": 0.17163544384458682, \"global_CoHITS\": 0.9956287844079929, \"global_BiRank\": 0.8684785876551651, \"global_BGRM\": -0.0745556333583997, \"cat\": \"global_degree\"}, {\"global_degree\": 0.04900504971105743, \"local_degree\": 1.0, \"global_clustering\": -0.2722499977920539, \"local_clustering\": -0.2722499977920539, \"global_closeness\": 0.959687590726931, \"local_closeness\": 0.9488932750076551, \"global_betweenness\": 0.06881810830562153, \"local_betweenness\": 0.06881791582873394, \"local_katz\": 0.05461116680833554, \"local_louvain\": -0.17614698315291777, \"local_HITS\": 0.970313285417269, \"local_CoHITS\": 0.9968102454807658, \"local_BiRank\": 0.9924175870563102, \"local_BGRM\": 0.9480469106562454, \"global_katz\": 0.05461116680833554, \"global_louvain\": 0.47778440571255015, \"global_HITS\": 0.010460372709912678, \"global_CoHITS\": 0.07668775310025557, \"global_BiRank\": 0.14749825878971803, \"global_BGRM\": 0.9185068580442632, \"cat\": \"local_degree\"}, {\"global_degree\": -0.18121380980650686, \"local_degree\": -0.2722499977920539, \"global_clustering\": 1.0, \"local_clustering\": 1.0, \"global_closeness\": -0.33741156925511084, \"local_closeness\": -0.34486077804530096, \"global_betweenness\": -0.13816505006165586, \"local_betweenness\": -0.13816500034469556, \"local_katz\": -0.1421198551786094, \"local_louvain\": 0.04900949784496722, \"local_HITS\": -0.2531529545467596, \"local_CoHITS\": -0.2579767226171292, \"local_BiRank\": -0.2532981063007892, \"local_BGRM\": -0.24108989023937819, \"global_katz\": -0.1421198551786094, \"global_louvain\": -0.1177842514150668, \"global_HITS\": -0.029618707501513755, \"global_CoHITS\": -0.18794427182491466, \"global_BiRank\": -0.29987101367976965, \"global_BGRM\": -0.22337149745235232, \"cat\": \"global_clustering\"}, {\"global_degree\": -0.18121380980650686, \"local_degree\": -0.2722499977920539, \"global_clustering\": 1.0, \"local_clustering\": 1.0, \"global_closeness\": -0.33741156925511084, \"local_closeness\": -0.34486077804530096, \"global_betweenness\": -0.13816505006165586, \"local_betweenness\": -0.13816500034469556, \"local_katz\": -0.1421198551786094, \"local_louvain\": 0.04900949784496722, \"local_HITS\": -0.2531529545467596, \"local_CoHITS\": -0.2579767226171292, \"local_BiRank\": -0.2532981063007892, \"local_BGRM\": -0.24108989023937819, \"global_katz\": -0.1421198551786094, \"global_louvain\": -0.1177842514150668, \"global_HITS\": -0.029618707501513755, \"global_CoHITS\": -0.18794427182491466, \"global_BiRank\": -0.29987101367976965, \"global_BGRM\": -0.22337149745235232, \"cat\": \"local_clustering\"}, {\"global_degree\": 0.12926993007902887, \"local_degree\": 0.959687590726931, \"global_clustering\": -0.33741156925511084, \"local_clustering\": -0.33741156925511084, \"global_closeness\": 1.0, \"local_closeness\": 0.9992836519805255, \"global_betweenness\": 0.1004329054517735, \"local_betweenness\": 0.1004327222029351, \"local_katz\": 0.12260508915440096, \"local_louvain\": -0.18669254621151055, \"local_HITS\": 0.9250794317824046, \"local_CoHITS\": 0.9499121829899034, \"local_BiRank\": 0.9442531270296678, \"local_BGRM\": 0.9014772304215659, \"global_katz\": 0.12260508915440096, \"global_louvain\": 0.43737203939708363, \"global_HITS\": 0.02010853529293207, \"global_CoHITS\": 0.14984983489069717, \"global_BiRank\": 0.30179314337492796, \"global_BGRM\": 0.8492380960020371, \"cat\": \"global_closeness\"}, {\"global_degree\": 0.15004490964344241, \"local_degree\": 0.9488932750076551, \"global_clustering\": -0.34486077804530096, \"local_clustering\": -0.34486077804530096, \"global_closeness\": 0.9992836519805255, \"local_closeness\": 1.0, \"global_betweenness\": 0.11523189734121875, \"local_betweenness\": 0.11523171650830817, \"local_katz\": 0.14179385502677705, \"local_louvain\": -0.1870020488106006, \"local_HITS\": 0.9131641176899004, \"local_CoHITS\": 0.9374348537240881, \"local_BiRank\": 0.9313807366125625, \"local_BGRM\": 0.8890830023295215, \"global_katz\": 0.14179385502677705, \"global_louvain\": 0.4288200992176098, \"global_HITS\": 0.023209119934081677, \"global_CoHITS\": 0.16960145671700472, \"global_BiRank\": 0.32833841019351984, \"global_BGRM\": 0.8343301195425596, \"cat\": \"local_closeness\"}, {\"global_degree\": 0.9575256012819372, \"local_degree\": 0.06881810830562153, \"global_clustering\": -0.13816505006165586, \"local_clustering\": -0.13816505006165586, \"global_closeness\": 0.1004329054517735, \"local_closeness\": 0.11523189734121875, \"global_betweenness\": 1.0, \"local_betweenness\": 0.99999999999987, \"local_katz\": 0.9580395964262908, \"local_louvain\": -0.007070351449164898, \"local_HITS\": -0.00789251730160864, \"local_CoHITS\": -0.007312724161596317, \"local_BiRank\": -0.030326395385945244, \"local_BGRM\": -0.031432933047656125, \"global_katz\": 0.9580395964262908, \"global_louvain\": -0.027238136940535663, \"global_HITS\": 0.10201121543975854, \"global_CoHITS\": 0.9651425635351838, \"global_BiRank\": 0.7307185604689762, \"global_BGRM\": -0.04078345810167481, \"cat\": \"global_betweenness\"}, {\"global_degree\": 0.9575256057373851, \"local_degree\": 0.06881791582873394, \"global_clustering\": -0.13816500034469556, \"local_clustering\": -0.13816500034469556, \"global_closeness\": 0.1004327222029351, \"local_closeness\": 0.11523171650830817, \"global_betweenness\": 0.99999999999987, \"local_betweenness\": 1.0, \"local_katz\": 0.9580395999630338, \"local_louvain\": -0.007070318048680776, \"local_HITS\": -0.007892704873954659, \"local_CoHITS\": -0.007312917176465154, \"local_BiRank\": -0.03032655755591197, \"local_BGRM\": -0.03143298801128084, \"global_katz\": 0.9580395999630338, \"global_louvain\": -0.027238203205921335, \"global_HITS\": 0.10201121629341091, \"global_CoHITS\": 0.9651425620702407, \"global_BiRank\": 0.7307185424019589, \"global_BGRM\": -0.04078348786756245, \"cat\": \"local_betweenness\"}, {\"global_degree\": 0.9832436987630936, \"local_degree\": 0.05461116680833554, \"global_clustering\": -0.1421198551786094, \"local_clustering\": -0.1421198551786094, \"global_closeness\": 0.12260508915440096, \"local_closeness\": 0.14179385502677705, \"global_betweenness\": 0.9580395964262908, \"local_betweenness\": 0.9580395999630338, \"local_katz\": 1.0, \"local_louvain\": -0.04033221335676722, \"local_HITS\": -0.011575631183946698, \"local_CoHITS\": -0.02399455460944978, \"local_BiRank\": -0.04695694739545033, \"local_BGRM\": -0.04758716708990106, \"global_katz\": 1.0, \"global_louvain\": -0.06740111524036946, \"global_HITS\": 0.15598999308212685, \"global_CoHITS\": 0.9747957827254354, \"global_BiRank\": 0.8054780058638247, \"global_BGRM\": -0.06744671182912894, \"cat\": \"local_katz\"}, {\"global_degree\": -0.03161146305091762, \"local_degree\": -0.17614698315291777, \"global_clustering\": 0.04900949784496722, \"local_clustering\": 0.04900949784496722, \"global_closeness\": -0.18669254621151055, \"local_closeness\": -0.1870020488106006, \"global_betweenness\": -0.007070351449164898, \"local_betweenness\": -0.007070318048680776, \"local_katz\": -0.04033221335676722, \"local_louvain\": 1.0, \"local_HITS\": -0.14891343521475395, \"local_CoHITS\": -0.1732726293402768, \"local_BiRank\": -0.17246253055912786, \"local_BGRM\": -0.16466437229160422, \"global_katz\": -0.04033221335676723, \"global_louvain\": 0.7731954722202231, \"global_HITS\": 0.080937015254519, \"global_CoHITS\": -0.018397300665908323, \"global_BiRank\": -0.05088917589778625, \"global_BGRM\": -0.1556477783466248, \"cat\": \"local_louvain\"}, {\"global_degree\": -0.015053099230488469, \"local_degree\": 0.970313285417269, \"global_clustering\": -0.2531529545467596, \"local_clustering\": -0.2531529545467596, \"global_closeness\": 0.9250794317824046, \"local_closeness\": 0.9131641176899004, \"global_betweenness\": -0.00789251730160864, \"local_betweenness\": -0.007892704873954659, \"local_katz\": -0.011575631183946698, \"local_louvain\": -0.14891343521475395, \"local_HITS\": 1.0, \"local_CoHITS\": 0.9724656494003705, \"local_BiRank\": 0.969437038034989, \"local_BGRM\": 0.9262458755811847, \"global_katz\": -0.011575631183946692, \"global_louvain\": 0.48727205825639325, \"global_HITS\": 0.2295326777988554, \"global_CoHITS\": 0.021457867595306487, \"global_BiRank\": 0.09878168576173835, \"global_BGRM\": 0.8984742824169043, \"cat\": \"local_HITS\"}, {\"global_degree\": -0.03082832016635067, \"local_degree\": 0.9968102454807658, \"global_clustering\": -0.2579767226171292, \"local_clustering\": -0.2579767226171292, \"global_closeness\": 0.9499121829899034, \"local_closeness\": 0.9374348537240881, \"global_betweenness\": -0.007312724161596317, \"local_betweenness\": -0.007312917176465154, \"local_katz\": -0.02399455460944978, \"local_louvain\": -0.1732726293402768, \"local_HITS\": 0.9724656494003705, \"local_CoHITS\": 1.0, \"local_BiRank\": 0.9974574216237234, \"local_BGRM\": 0.9530965772528839, \"global_katz\": -0.023994554609449773, \"global_louvain\": 0.4836955814049712, \"global_HITS\": -0.002197151008924961, \"global_CoHITS\": -0.0025652585806143105, \"global_BiRank\": 0.07823079027734439, \"global_BGRM\": 0.9251915666021077, \"cat\": \"local_CoHITS\"}, {\"global_degree\": -0.05417549596650676, \"local_degree\": 0.9924175870563102, \"global_clustering\": -0.2532981063007892, \"local_clustering\": -0.2532981063007892, \"global_closeness\": 0.9442531270296678, \"local_closeness\": 0.9313807366125625, \"global_betweenness\": -0.030326395385945244, \"local_betweenness\": -0.03032655755591197, \"local_katz\": -0.04695694739545033, \"local_louvain\": -0.17246253055912786, \"local_HITS\": 0.969437038034989, \"local_CoHITS\": 0.9974574216237234, \"local_BiRank\": 1.0, \"local_BGRM\": 0.9713716942281114, \"global_katz\": -0.04695694739545033, \"global_louvain\": 0.48736479540289196, \"global_HITS\": -0.007098651089225575, \"global_CoHITS\": -0.026176718932116712, \"global_BiRank\": 0.058105902370413826, \"global_BGRM\": 0.9469909895596325, \"cat\": \"local_BiRank\"}, {\"global_degree\": -0.05494301336560266, \"local_degree\": 0.9480469106562454, \"global_clustering\": -0.24108989023937819, \"local_clustering\": -0.24108989023937819, \"global_closeness\": 0.9014772304215659, \"local_closeness\": 0.8890830023295215, \"global_betweenness\": -0.031432933047656125, \"local_betweenness\": -0.03143298801128084, \"local_katz\": -0.04758716708990106, \"local_louvain\": -0.16466437229160422, \"local_HITS\": 0.9262458755811847, \"local_CoHITS\": 0.9530965772528839, \"local_BiRank\": 0.9713716942281114, \"local_BGRM\": 1.0, \"global_katz\": -0.04758716708990106, \"global_louvain\": 0.48066111922952004, \"global_HITS\": -0.007423676643933689, \"global_CoHITS\": -0.028386034792954297, \"global_BiRank\": 0.05080900849346188, \"global_BGRM\": 0.9878142469077308, \"cat\": \"local_BGRM\"}, {\"global_degree\": 0.9832436987630936, \"local_degree\": 0.05461116680833554, \"global_clustering\": -0.1421198551786094, \"local_clustering\": -0.1421198551786094, \"global_closeness\": 0.12260508915440096, \"local_closeness\": 0.14179385502677705, \"global_betweenness\": 0.9580395964262908, \"local_betweenness\": 0.9580395999630338, \"local_katz\": 1.0, \"local_louvain\": -0.04033221335676723, \"local_HITS\": -0.011575631183946692, \"local_CoHITS\": -0.023994554609449773, \"local_BiRank\": -0.04695694739545033, \"local_BGRM\": -0.04758716708990106, \"global_katz\": 1.0, \"global_louvain\": -0.06740111524036946, \"global_HITS\": 0.15598999308212685, \"global_CoHITS\": 0.9747957827254354, \"global_BiRank\": 0.8054780058638247, \"global_BGRM\": -0.06744671182912894, \"cat\": \"global_katz\"}, {\"global_degree\": -0.06446817853131363, \"local_degree\": 0.47778440571255015, \"global_clustering\": -0.1177842514150668, \"local_clustering\": -0.1177842514150668, \"global_closeness\": 0.43737203939708363, \"local_closeness\": 0.4288200992176098, \"global_betweenness\": -0.027238136940535663, \"local_betweenness\": -0.027238203205921335, \"local_katz\": -0.06740111524036946, \"local_louvain\": 0.7731954722202231, \"local_HITS\": 0.48727205825639325, \"local_CoHITS\": 0.4836955814049712, \"local_BiRank\": 0.48736479540289196, \"local_BGRM\": 0.48066111922952004, \"global_katz\": -0.06740111524036946, \"global_louvain\": 1.0, \"global_HITS\": 0.06652695518430769, \"global_CoHITS\": -0.03493315544536976, \"global_BiRank\": -0.010183324580439941, \"global_BGRM\": 0.4740280690256314, \"cat\": \"global_louvain\"}, {\"global_degree\": 0.17163544384458682, \"local_degree\": 0.010460372709912678, \"global_clustering\": -0.029618707501513755, \"local_clustering\": -0.029618707501513755, \"global_closeness\": 0.02010853529293207, \"local_closeness\": 0.023209119934081677, \"global_betweenness\": 0.10201121543975854, \"local_betweenness\": 0.10201121629341091, \"local_katz\": 0.15598999308212685, \"local_louvain\": 0.080937015254519, \"local_HITS\": 0.2295326777988554, \"local_CoHITS\": -0.002197151008924961, \"local_BiRank\": -0.007098651089225575, \"local_BGRM\": -0.007423676643933689, \"global_katz\": 0.15598999308212685, \"global_louvain\": 0.06652695518430769, \"global_HITS\": 1.0, \"global_CoHITS\": 0.2101252571466472, \"global_BiRank\": 0.19022308769390162, \"global_BGRM\": -0.01187510904775367, \"cat\": \"global_HITS\"}, {\"global_degree\": 0.9956287844079929, \"local_degree\": 0.07668775310025557, \"global_clustering\": -0.18794427182491466, \"local_clustering\": -0.18794427182491466, \"global_closeness\": 0.14984983489069717, \"local_closeness\": 0.16960145671700472, \"global_betweenness\": 0.9651425635351838, \"local_betweenness\": 0.9651425620702407, \"local_katz\": 0.9747957827254354, \"local_louvain\": -0.018397300665908323, \"local_HITS\": 0.021457867595306487, \"local_CoHITS\": -0.0025652585806143105, \"local_BiRank\": -0.026176718932116712, \"local_BGRM\": -0.028386034792954297, \"global_katz\": 0.9747957827254354, \"global_louvain\": -0.03493315544536976, \"global_HITS\": 0.2101252571466472, \"global_CoHITS\": 1.0, \"global_BiRank\": 0.867127099967258, \"global_BGRM\": -0.0452323141275346, \"cat\": \"global_CoHITS\"}, {\"global_degree\": 0.8684785876551651, \"local_degree\": 0.14749825878971803, \"global_clustering\": -0.29987101367976965, \"local_clustering\": -0.29987101367976965, \"global_closeness\": 0.30179314337492796, \"local_closeness\": 0.32833841019351984, \"global_betweenness\": 0.7307185604689762, \"local_betweenness\": 0.7307185424019589, \"local_katz\": 0.8054780058638247, \"local_louvain\": -0.05088917589778625, \"local_HITS\": 0.09878168576173835, \"local_CoHITS\": 0.07823079027734439, \"local_BiRank\": 0.058105902370413826, \"local_BGRM\": 0.05080900849346188, \"global_katz\": 0.8054780058638247, \"global_louvain\": -0.010183324580439941, \"global_HITS\": 0.19022308769390162, \"global_CoHITS\": 0.867127099967258, \"global_BiRank\": 1.0, \"global_BGRM\": 0.025200427698654552, \"cat\": \"global_BiRank\"}, {\"global_degree\": -0.0745556333583997, \"local_degree\": 0.9185068580442632, \"global_clustering\": -0.22337149745235232, \"local_clustering\": -0.22337149745235232, \"global_closeness\": 0.8492380960020371, \"local_closeness\": 0.8343301195425596, \"global_betweenness\": -0.04078345810167481, \"local_betweenness\": -0.04078348786756245, \"local_katz\": -0.06744671182912894, \"local_louvain\": -0.1556477783466248, \"local_HITS\": 0.8984742824169043, \"local_CoHITS\": 0.9251915666021077, \"local_BiRank\": 0.9469909895596325, \"local_BGRM\": 0.9878142469077308, \"global_katz\": -0.06744671182912894, \"global_louvain\": 0.4740280690256314, \"global_HITS\": -0.01187510904775367, \"global_CoHITS\": -0.0452323141275346, \"global_BiRank\": 0.025200427698654552, \"global_BGRM\": 1.0, \"cat\": \"global_BGRM\"}], \"data-ef48fc1e338fe6b428573e1594085f3a\": [{\"global_degree\": 1.0, \"local_degree\": 0.023053858144721013, \"global_clustering\": -0.21943679830272325, \"local_clustering\": -0.21943679830272325, \"global_closeness\": 0.08836866500606011, \"local_closeness\": 0.10695255007261881, \"global_betweenness\": 0.9687937144287694, \"local_betweenness\": 0.9687937156489269, \"local_katz\": 0.9781267845962178, \"local_louvain\": -0.06242888380989249, \"local_HITS\": -0.013279421743348277, \"local_CoHITS\": -0.036798982783025264, \"local_BiRank\": -0.05921886244354007, \"local_BGRM\": -0.061021384236708345, \"global_katz\": 0.9781267845962178, \"global_louvain\": -0.09684298240667223, \"global_HITS\": 0.8566613017750051, \"global_CoHITS\": 0.997238697129367, \"global_BiRank\": 0.850727169783845, \"global_BGRM\": -0.08103606024032904, \"cat\": \"global_degree\"}, {\"global_degree\": 0.023053858144721013, \"local_degree\": 1.0, \"global_clustering\": -0.28699008956536937, \"local_clustering\": -0.28699008956536937, \"global_closeness\": 0.9722526573918249, \"local_closeness\": 0.9640845954222249, \"global_betweenness\": 0.04605349958850405, \"local_betweenness\": 0.04605344947503754, \"local_katz\": 0.0353593806183602, \"local_louvain\": -0.19919421016872638, \"local_HITS\": 0.9989117434941388, \"local_CoHITS\": 0.9982072435944409, \"local_BiRank\": 0.995984127012063, \"local_BGRM\": 0.9802008688056294, \"global_katz\": 0.0353593806183602, \"global_louvain\": 0.5278040291312284, \"global_HITS\": 0.03822690560574658, \"global_CoHITS\": 0.05164379793204998, \"global_BiRank\": 0.12397649208940603, \"global_BGRM\": 0.9621814231426842, \"cat\": \"local_degree\"}, {\"global_degree\": -0.21943679830272325, \"local_degree\": -0.28699008956536937, \"global_clustering\": 1.0, \"local_clustering\": 1.0, \"global_closeness\": -0.37504424978445766, \"local_closeness\": -0.38665846928046144, \"global_betweenness\": -0.15930914380791666, \"local_betweenness\": -0.15930913006701936, \"local_katz\": -0.1688554478212712, \"local_louvain\": 0.10900251329563969, \"local_HITS\": -0.27559845689924384, \"local_CoHITS\": -0.2737192997432279, \"local_BiRank\": -0.26887558257803695, \"local_BGRM\": -0.2635146062939757, \"global_katz\": -0.1688554478212712, \"global_louvain\": -0.09443739722726079, \"global_HITS\": -0.13421480973390468, \"global_CoHITS\": -0.22607512274054423, \"global_BiRank\": -0.3873298306141567, \"global_BGRM\": -0.23889793769463102, \"cat\": \"global_clustering\"}, {\"global_degree\": -0.21943679830272325, \"local_degree\": -0.28699008956536937, \"global_clustering\": 1.0, \"local_clustering\": 1.0, \"global_closeness\": -0.37504424978445766, \"local_closeness\": -0.38665846928046144, \"global_betweenness\": -0.15930914380791666, \"local_betweenness\": -0.15930913006701936, \"local_katz\": -0.1688554478212712, \"local_louvain\": 0.10900251329563969, \"local_HITS\": -0.27559845689924384, \"local_CoHITS\": -0.2737192997432279, \"local_BiRank\": -0.26887558257803695, \"local_BGRM\": -0.2635146062939757, \"global_katz\": -0.1688554478212712, \"global_louvain\": -0.09443739722726079, \"global_HITS\": -0.13421480973390468, \"global_CoHITS\": -0.22607512274054423, \"global_BiRank\": -0.3873298306141567, \"global_BGRM\": -0.23889793769463102, \"cat\": \"local_clustering\"}, {\"global_degree\": 0.08836866500606011, \"local_degree\": 0.9722526573918249, \"global_clustering\": -0.37504424978445766, \"local_clustering\": -0.37504424978445766, \"global_closeness\": 1.0, \"local_closeness\": 0.9994184426139239, \"global_betweenness\": 0.07522485005695695, \"local_betweenness\": 0.07522480155971407, \"local_katz\": 0.08312484543428438, \"local_louvain\": -0.23469326036138485, \"local_HITS\": 0.9672783386944163, \"local_CoHITS\": 0.9664728141205124, \"local_BiRank\": 0.963157698471328, \"local_BGRM\": 0.9474746748469932, \"global_katz\": 0.08312484543428438, \"global_louvain\": 0.47411441544067157, \"global_HITS\": 0.06685596216046469, \"global_CoHITS\": 0.1123280917595419, \"global_BiRank\": 0.2507772852889844, \"global_BGRM\": 0.9080306474057412, \"cat\": \"global_closeness\"}, {\"global_degree\": 0.10695255007261881, \"local_degree\": 0.9640845954222249, \"global_clustering\": -0.38665846928046144, \"local_clustering\": -0.38665846928046144, \"global_closeness\": 0.9994184426139239, \"local_closeness\": 1.0, \"global_betweenness\": 0.08896480341733812, \"local_betweenness\": 0.08896475538374048, \"local_katz\": 0.0992786943911277, \"local_louvain\": -0.2386741081688425, \"local_HITS\": 0.9582524773814639, \"local_CoHITS\": 0.9571850812554084, \"local_BiRank\": 0.9535074262038589, \"local_BGRM\": 0.9378978349770726, \"global_katz\": 0.0992786943911277, \"global_louvain\": 0.463885697972819, \"global_HITS\": 0.07936257855131239, \"global_CoHITS\": 0.1301753486670827, \"global_BiRank\": 0.2747169488412912, \"global_BGRM\": 0.8957260399120025, \"cat\": \"local_closeness\"}, {\"global_degree\": 0.9687937144287694, \"local_degree\": 0.04605349958850405, \"global_clustering\": -0.15930914380791666, \"local_clustering\": -0.15930914380791666, \"global_closeness\": 0.07522485005695695, \"local_closeness\": 0.08896480341733812, \"global_betweenness\": 1.0, \"local_betweenness\": 0.9999999999999831, \"local_katz\": 0.976999171355049, \"local_louvain\": -0.03586230061290263, \"local_HITS\": 0.013200665486973637, \"local_CoHITS\": -0.011741382010459721, \"local_BiRank\": -0.033975721503006415, \"local_BGRM\": -0.035697405038911105, \"global_katz\": 0.976999171355049, \"global_louvain\": -0.05612429640234852, \"global_HITS\": 0.8718102548018379, \"global_CoHITS\": 0.9748012177340994, \"global_BiRank\": 0.7312815428978481, \"global_BGRM\": -0.0458824105880928, \"cat\": \"global_betweenness\"}, {\"global_degree\": 0.9687937156489269, \"local_degree\": 0.04605344947503754, \"global_clustering\": -0.15930913006701936, \"local_clustering\": -0.15930913006701936, \"global_closeness\": 0.07522480155971407, \"local_closeness\": 0.08896475538374048, \"global_betweenness\": 0.9999999999999831, \"local_betweenness\": 1.0, \"local_katz\": 0.9769991719725191, \"local_louvain\": -0.035862290828541206, \"local_HITS\": 0.013200615333007659, \"local_CoHITS\": -0.011741432183945301, \"local_BiRank\": -0.03397576510397708, \"local_BGRM\": -0.03569742141016348, \"global_katz\": 0.9769991719725191, \"global_louvain\": -0.056124315703269305, \"global_HITS\": 0.8718102549496012, \"global_CoHITS\": 0.9748012174286275, \"global_BiRank\": 0.7312815383236474, \"global_BGRM\": -0.04588242093826939, \"cat\": \"local_betweenness\"}, {\"global_degree\": 0.9781267845962178, \"local_degree\": 0.0353593806183602, \"global_clustering\": -0.1688554478212712, \"local_clustering\": -0.1688554478212712, \"global_closeness\": 0.08312484543428438, \"local_closeness\": 0.0992786943911277, \"global_betweenness\": 0.976999171355049, \"local_betweenness\": 0.9769991719725191, \"local_katz\": 1.0, \"local_louvain\": -0.07193216228780865, \"local_HITS\": 0.0027704381592338874, \"local_CoHITS\": -0.02326078877847133, \"local_BiRank\": -0.04534865948520922, \"local_BGRM\": -0.04698732012793742, \"global_katz\": 1.0, \"global_louvain\": -0.09503938056817086, \"global_HITS\": 0.8901780755647697, \"global_CoHITS\": 0.972973512182846, \"global_BiRank\": 0.7591797495949479, \"global_BGRM\": -0.06510636614412188, \"cat\": \"local_katz\"}, {\"global_degree\": -0.06242888380989249, \"local_degree\": -0.19919421016872638, \"global_clustering\": 0.10900251329563969, \"local_clustering\": 0.10900251329563969, \"global_closeness\": -0.23469326036138485, \"local_closeness\": -0.2386741081688425, \"global_betweenness\": -0.03586230061290263, \"local_betweenness\": -0.035862290828541206, \"local_katz\": -0.07193216228780865, \"local_louvain\": 1.0, \"local_HITS\": -0.19512673867414704, \"local_CoHITS\": -0.19497147124877268, \"local_BiRank\": -0.193661542974096, \"local_BGRM\": -0.1904012281063402, \"global_katz\": -0.07193216228780867, \"global_louvain\": 0.7203748697467903, \"global_HITS\": -0.026309997204689992, \"global_CoHITS\": -0.05185665140030319, \"global_BiRank\": -0.08068789811498876, \"global_BGRM\": -0.16600488537503177, \"cat\": \"local_louvain\"}, {\"global_degree\": -0.013279421743348277, \"local_degree\": 0.9989117434941388, \"global_clustering\": -0.27559845689924384, \"local_clustering\": -0.27559845689924384, \"global_closeness\": 0.9672783386944163, \"local_closeness\": 0.9582524773814639, \"global_betweenness\": 0.013200665486973637, \"local_betweenness\": 0.013200615333007659, \"local_katz\": 0.0027704381592338874, \"local_louvain\": -0.19512673867414704, \"local_HITS\": 1.0, \"local_CoHITS\": 0.9993077653369997, \"local_BiRank\": 0.997869405819008, \"local_BGRM\": 0.9821676521638294, \"global_katz\": 0.002770438159233884, \"global_louvain\": 0.532686498479173, \"global_HITS\": 0.022183586089378756, \"global_CoHITS\": 0.01596237004958748, \"global_BiRank\": 0.08809450751239924, \"global_BGRM\": 0.9650893283849156, \"cat\": \"local_HITS\"}, {\"global_degree\": -0.036798982783025264, \"local_degree\": 0.9982072435944409, \"global_clustering\": -0.2737192997432279, \"local_clustering\": -0.2737192997432279, \"global_closeness\": 0.9664728141205124, \"local_closeness\": 0.9571850812554084, \"global_betweenness\": -0.011741382010459721, \"local_betweenness\": -0.011741432183945301, \"local_katz\": -0.02326078877847133, \"local_louvain\": -0.19497147124877268, \"local_HITS\": 0.9993077653369997, \"local_CoHITS\": 1.0, \"local_BiRank\": 0.9991153202919565, \"local_BGRM\": 0.9834405287297453, \"global_katz\": -0.02326078877847133, \"global_louvain\": 0.5337260143348784, \"global_HITS\": -0.01280729520464885, \"global_CoHITS\": -0.007937374993730787, \"global_BiRank\": 0.07309038870847774, \"global_BGRM\": 0.9667061997746501, \"cat\": \"local_CoHITS\"}, {\"global_degree\": -0.05921886244354007, \"local_degree\": 0.995984127012063, \"global_clustering\": -0.26887558257803695, \"local_clustering\": -0.26887558257803695, \"global_closeness\": 0.963157698471328, \"local_closeness\": 0.9535074262038589, \"global_betweenness\": -0.033975721503006415, \"local_betweenness\": -0.03397576510397708, \"local_katz\": -0.04534865948520922, \"local_louvain\": -0.193661542974096, \"local_HITS\": 0.997869405819008, \"local_CoHITS\": 0.9991153202919565, \"local_BiRank\": 1.0, \"local_BGRM\": 0.989500176588865, \"global_katz\": -0.04534865948520921, \"global_louvain\": 0.5360682315917179, \"global_HITS\": -0.0325426908897397, \"global_CoHITS\": -0.030467236163260157, \"global_BiRank\": 0.054482797524105786, \"global_BGRM\": 0.9741406593595564, \"cat\": \"local_BiRank\"}, {\"global_degree\": -0.061021384236708345, \"local_degree\": 0.9802008688056294, \"global_clustering\": -0.2635146062939757, \"local_clustering\": -0.2635146062939757, \"global_closeness\": 0.9474746748469932, \"local_closeness\": 0.9378978349770726, \"global_betweenness\": -0.035697405038911105, \"local_betweenness\": -0.03569742141016348, \"local_katz\": -0.04698732012793742, \"local_louvain\": -0.1904012281063402, \"local_HITS\": 0.9821676521638294, \"local_CoHITS\": 0.9834405287297453, \"local_BiRank\": 0.989500176588865, \"local_BGRM\": 1.0, \"global_katz\": -0.04698732012793741, \"global_louvain\": 0.5337758633685715, \"global_HITS\": -0.03402137027269635, \"global_CoHITS\": -0.032777135067395026, \"global_BiRank\": 0.05004145902127352, \"global_BGRM\": 0.989060986623777, \"cat\": \"local_BGRM\"}, {\"global_degree\": 0.9781267845962178, \"local_degree\": 0.0353593806183602, \"global_clustering\": -0.1688554478212712, \"local_clustering\": -0.1688554478212712, \"global_closeness\": 0.08312484543428438, \"local_closeness\": 0.0992786943911277, \"global_betweenness\": 0.976999171355049, \"local_betweenness\": 0.9769991719725191, \"local_katz\": 1.0, \"local_louvain\": -0.07193216228780867, \"local_HITS\": 0.002770438159233884, \"local_CoHITS\": -0.02326078877847133, \"local_BiRank\": -0.04534865948520921, \"local_BGRM\": -0.04698732012793741, \"global_katz\": 1.0, \"global_louvain\": -0.09503938056817086, \"global_HITS\": 0.8901780755647697, \"global_CoHITS\": 0.972973512182846, \"global_BiRank\": 0.7591797495949479, \"global_BGRM\": -0.06510636614412188, \"cat\": \"global_katz\"}, {\"global_degree\": -0.09684298240667223, \"local_degree\": 0.5278040291312284, \"global_clustering\": -0.09443739722726079, \"local_clustering\": -0.09443739722726079, \"global_closeness\": 0.47411441544067157, \"local_closeness\": 0.463885697972819, \"global_betweenness\": -0.05612429640234852, \"local_betweenness\": -0.056124315703269305, \"local_katz\": -0.09503938056817086, \"local_louvain\": 0.7203748697467903, \"local_HITS\": 0.532686498479173, \"local_CoHITS\": 0.5337260143348784, \"local_BiRank\": 0.5360682315917179, \"local_BGRM\": 0.5337758633685715, \"global_katz\": -0.09503938056817086, \"global_louvain\": 1.0, \"global_HITS\": -0.04675095089143589, \"global_CoHITS\": -0.06763973095893422, \"global_BiRank\": -0.033093626747729324, \"global_BGRM\": 0.5443904222536787, \"cat\": \"global_louvain\"}, {\"global_degree\": 0.8566613017750051, \"local_degree\": 0.03822690560574658, \"global_clustering\": -0.13421480973390468, \"local_clustering\": -0.13421480973390468, \"global_closeness\": 0.06685596216046469, \"local_closeness\": 0.07936257855131239, \"global_betweenness\": 0.8718102548018379, \"local_betweenness\": 0.8718102549496012, \"local_katz\": 0.8901780755647697, \"local_louvain\": -0.026309997204689992, \"local_HITS\": 0.022183586089378756, \"local_CoHITS\": -0.01280729520464885, \"local_BiRank\": -0.0325426908897397, \"local_BGRM\": -0.03402137027269635, \"global_katz\": 0.8901780755647697, \"global_louvain\": -0.04675095089143589, \"global_HITS\": 1.0, \"global_CoHITS\": 0.8646684525037147, \"global_BiRank\": 0.6435799265656077, \"global_BGRM\": -0.04777240670475487, \"cat\": \"global_HITS\"}, {\"global_degree\": 0.997238697129367, \"local_degree\": 0.05164379793204998, \"global_clustering\": -0.22607512274054423, \"local_clustering\": -0.22607512274054423, \"global_closeness\": 0.1123280917595419, \"local_closeness\": 0.1301753486670827, \"global_betweenness\": 0.9748012177340994, \"local_betweenness\": 0.9748012174286275, \"local_katz\": 0.972973512182846, \"local_louvain\": -0.05185665140030319, \"local_HITS\": 0.01596237004958748, \"local_CoHITS\": -0.007937374993730787, \"local_BiRank\": -0.030467236163260157, \"local_BGRM\": -0.032777135067395026, \"global_katz\": 0.972973512182846, \"global_louvain\": -0.06763973095893422, \"global_HITS\": 0.8646684525037147, \"global_CoHITS\": 1.0, \"global_BiRank\": 0.8541942353151892, \"global_BGRM\": -0.050040039835168214, \"cat\": \"global_CoHITS\"}, {\"global_degree\": 0.850727169783845, \"local_degree\": 0.12397649208940603, \"global_clustering\": -0.3873298306141567, \"local_clustering\": -0.3873298306141567, \"global_closeness\": 0.2507772852889844, \"local_closeness\": 0.2747169488412912, \"global_betweenness\": 0.7312815428978481, \"local_betweenness\": 0.7312815383236474, \"local_katz\": 0.7591797495949479, \"local_louvain\": -0.08068789811498876, \"local_HITS\": 0.08809450751239924, \"local_CoHITS\": 0.07309038870847774, \"local_BiRank\": 0.054482797524105786, \"local_BGRM\": 0.05004145902127352, \"global_katz\": 0.7591797495949479, \"global_louvain\": -0.033093626747729324, \"global_HITS\": 0.6435799265656077, \"global_CoHITS\": 0.8541942353151892, \"global_BiRank\": 1.0, \"global_BGRM\": 0.023228972176879865, \"cat\": \"global_BiRank\"}, {\"global_degree\": -0.08103606024032904, \"local_degree\": 0.9621814231426842, \"global_clustering\": -0.23889793769463102, \"local_clustering\": -0.23889793769463102, \"global_closeness\": 0.9080306474057412, \"local_closeness\": 0.8957260399120025, \"global_betweenness\": -0.0458824105880928, \"local_betweenness\": -0.04588242093826939, \"local_katz\": -0.06510636614412188, \"local_louvain\": -0.16600488537503177, \"local_HITS\": 0.9650893283849156, \"local_CoHITS\": 0.9667061997746501, \"local_BiRank\": 0.9741406593595564, \"local_BGRM\": 0.989060986623777, \"global_katz\": -0.06510636614412188, \"global_louvain\": 0.5443904222536787, \"global_HITS\": -0.04777240670475487, \"global_CoHITS\": -0.050040039835168214, \"global_BiRank\": 0.023228972176879865, \"global_BGRM\": 1.0, \"cat\": \"global_BGRM\"}], \"data-05984850f39a9ea7bfe6e84350011901\": [{\"global_degree\": 1.0, \"local_degree\": -0.008005280686230149, \"global_clustering\": -0.23694829766454906, \"local_clustering\": -0.23694829766454906, \"global_closeness\": 0.15147792877015417, \"local_closeness\": 0.17794569551323108, \"global_betweenness\": 0.9554897781289663, \"local_betweenness\": 0.9554897856039631, \"local_katz\": 0.9594195735268098, \"local_louvain\": -0.04848138665223457, \"local_HITS\": -0.015801532784528675, \"local_CoHITS\": -0.06039392629469143, \"local_BiRank\": -0.07597355807145596, \"local_BGRM\": -0.07601095966799032, \"global_katz\": 0.9594195735268098, \"global_louvain\": -0.09244944828959252, \"global_HITS\": 0.25175351396425916, \"global_CoHITS\": 0.9916664923032121, \"global_BiRank\": 0.9157811260352828, \"global_BGRM\": -0.10376681016684483, \"cat\": \"global_degree\"}, {\"global_degree\": -0.008005280686230149, \"local_degree\": 1.0, \"global_clustering\": -0.2663019731884063, \"local_clustering\": -0.2663019731884063, \"global_closeness\": 0.9601076248779701, \"local_closeness\": 0.9487759702560571, \"global_betweenness\": 0.012904238620506242, \"local_betweenness\": 0.012903904322401967, \"local_katz\": -0.0042863778967617006, \"local_louvain\": -0.194000657194779, \"local_HITS\": 0.9719475707677473, \"local_CoHITS\": 0.9986233704085572, \"local_BiRank\": 0.9954213639207456, \"local_BGRM\": 0.9510088823090762, \"global_katz\": -0.0042863778967617006, \"global_louvain\": 0.4275509050046622, \"global_HITS\": 0.010341088823199148, \"global_CoHITS\": 0.029995316379600474, \"global_BiRank\": 0.11065284245541841, \"global_BGRM\": 0.9206164751142992, \"cat\": \"local_degree\"}, {\"global_degree\": -0.23694829766454906, \"local_degree\": -0.2663019731884063, \"global_clustering\": 1.0, \"local_clustering\": 1.0, \"global_closeness\": -0.33822661697105366, \"local_closeness\": -0.34651186809877305, \"global_betweenness\": -0.20744275776515367, \"local_betweenness\": -0.20744267067274158, \"local_katz\": -0.18369292582973865, \"local_louvain\": 0.0683926945616949, \"local_HITS\": -0.24938029341647597, \"local_CoHITS\": -0.25348308117400226, \"local_BiRank\": -0.24914121995785662, \"local_BGRM\": -0.23701915864653436, \"global_katz\": -0.18369292582973865, \"global_louvain\": -0.08823388473237018, \"global_HITS\": -0.031952515455838264, \"global_CoHITS\": -0.2492600895782924, \"global_BiRank\": -0.33398123761420684, \"global_BGRM\": -0.22092343957073154, \"cat\": \"global_clustering\"}, {\"global_degree\": -0.23694829766454906, \"local_degree\": -0.2663019731884063, \"global_clustering\": 1.0, \"local_clustering\": 1.0, \"global_closeness\": -0.33822661697105366, \"local_closeness\": -0.34651186809877305, \"global_betweenness\": -0.20744275776515367, \"local_betweenness\": -0.20744267067274158, \"local_katz\": -0.18369292582973865, \"local_louvain\": 0.0683926945616949, \"local_HITS\": -0.24938029341647597, \"local_CoHITS\": -0.25348308117400226, \"local_BiRank\": -0.24914121995785662, \"local_BGRM\": -0.23701915864653436, \"global_katz\": -0.18369292582973865, \"global_louvain\": -0.08823388473237018, \"global_HITS\": -0.031952515455838264, \"global_CoHITS\": -0.2492600895782924, \"global_BiRank\": -0.33398123761420684, \"global_BGRM\": -0.22092343957073154, \"cat\": \"local_clustering\"}, {\"global_degree\": 0.15147792877015417, \"local_degree\": 0.9601076248779701, \"global_clustering\": -0.33822661697105366, \"local_clustering\": -0.33822661697105366, \"global_closeness\": 1.0, \"local_closeness\": 0.9992546289656755, \"global_betweenness\": 0.13037256692601878, \"local_betweenness\": 0.1303722475793724, \"local_katz\": 0.15002339076576532, \"local_louvain\": -0.20002054025820346, \"local_HITS\": 0.9249728754093477, \"local_CoHITS\": 0.9503396029744401, \"local_BiRank\": 0.9450952909309228, \"local_BGRM\": 0.9022466106781886, \"global_katz\": 0.15002339076576532, \"global_louvain\": 0.3910390081297433, \"global_HITS\": 0.021506508829811456, \"global_CoHITS\": 0.18109438743199843, \"global_BiRank\": 0.3078292020094359, \"global_BGRM\": 0.8492150152075533, \"cat\": \"global_closeness\"}, {\"global_degree\": 0.17794569551323108, \"local_degree\": 0.9487759702560571, \"global_clustering\": -0.34651186809877305, \"local_clustering\": -0.34651186809877305, \"global_closeness\": 0.9992546289656755, \"local_closeness\": 1.0, \"global_betweenness\": 0.1516019633042506, \"local_betweenness\": 0.1516016479797991, \"local_katz\": 0.17553989175481313, \"local_louvain\": -0.19979276353550568, \"local_HITS\": 0.912969922148293, \"local_CoHITS\": 0.9376294462440533, \"local_BiRank\": 0.9320459898558292, \"local_BGRM\": 0.8896771318636746, \"global_katz\": 0.17553989175481313, \"global_louvain\": 0.3832530142488516, \"global_HITS\": 0.02483120426801461, \"global_CoHITS\": 0.20629198413104655, \"global_BiRank\": 0.3370083996722488, \"global_BGRM\": 0.8340740718212779, \"cat\": \"local_closeness\"}, {\"global_degree\": 0.9554897781289663, \"local_degree\": 0.012904238620506242, \"global_clustering\": -0.20744275776515367, \"local_clustering\": -0.20744275776515367, \"global_closeness\": 0.13037256692601878, \"local_closeness\": 0.1516019633042506, \"global_betweenness\": 1.0, \"local_betweenness\": 0.9999999999996096, \"local_katz\": 0.9054291296846091, \"local_louvain\": -0.02234365253159286, \"local_HITS\": -0.003904868766614793, \"local_CoHITS\": -0.03690556881155693, \"local_BiRank\": -0.05223856510769057, \"local_BGRM\": -0.05261049042088973, \"global_katz\": 0.9054291296846091, \"global_louvain\": -0.05389148039515617, \"global_HITS\": 0.2046485079524373, \"global_CoHITS\": 0.9633371043865736, \"global_BiRank\": 0.8179904467904938, \"global_BGRM\": -0.0686221433732371, \"cat\": \"global_betweenness\"}, {\"global_degree\": 0.9554897856039631, \"local_degree\": 0.012903904322401967, \"global_clustering\": -0.20744267067274158, \"local_clustering\": -0.20744267067274158, \"global_closeness\": 0.1303722475793724, \"local_closeness\": 0.1516016479797991, \"global_betweenness\": 0.9999999999996096, \"local_betweenness\": 1.0, \"local_katz\": 0.905429137260905, \"local_louvain\": -0.022343588504058324, \"local_HITS\": -0.003905193574241307, \"local_CoHITS\": -0.036905902979015505, \"local_BiRank\": -0.05223884569251222, \"local_BGRM\": -0.05261058509069908, \"global_katz\": 0.905429137260905, \"global_louvain\": -0.053891583300368494, \"global_HITS\": 0.20464850672202953, \"global_CoHITS\": 0.9633370977987841, \"global_BiRank\": 0.8179904114210824, \"global_BGRM\": -0.0686221939559399, \"cat\": \"local_betweenness\"}, {\"global_degree\": 0.9594195735268098, \"local_degree\": -0.0042863778967617006, \"global_clustering\": -0.18369292582973865, \"local_clustering\": -0.18369292582973865, \"global_closeness\": 0.15002339076576532, \"local_closeness\": 0.17553989175481313, \"global_betweenness\": 0.9054291296846091, \"local_betweenness\": 0.905429137260905, \"local_katz\": 1.0, \"local_louvain\": -0.03194921446898414, \"local_HITS\": -0.009395180538084883, \"local_CoHITS\": -0.05485539919846382, \"local_BiRank\": -0.06951954401735289, \"local_BGRM\": -0.06922999999463589, \"global_katz\": 1.0, \"global_louvain\": -0.07323967519476894, \"global_HITS\": 0.25173423087286523, \"global_CoHITS\": 0.9356032434801697, \"global_BiRank\": 0.8453868734758133, \"global_BGRM\": -0.0998707834223266, \"cat\": \"local_katz\"}, {\"global_degree\": -0.04848138665223457, \"local_degree\": -0.194000657194779, \"global_clustering\": 0.0683926945616949, \"local_clustering\": 0.0683926945616949, \"global_closeness\": -0.20002054025820346, \"local_closeness\": -0.19979276353550568, \"global_betweenness\": -0.02234365253159286, \"local_betweenness\": -0.022343588504058324, \"local_katz\": -0.03194921446898414, \"local_louvain\": 1.0, \"local_HITS\": -0.16311459343324447, \"local_CoHITS\": -0.19070638201004766, \"local_BiRank\": -0.18974904940617257, \"local_BGRM\": -0.18109840151183268, \"global_katz\": -0.03194921446898414, \"global_louvain\": 0.7993127124009268, \"global_HITS\": 0.08848907765683353, \"global_CoHITS\": -0.03416338086114253, \"global_BiRank\": -0.07727178461163822, \"global_BGRM\": -0.1734845442487187, \"cat\": \"local_louvain\"}, {\"global_degree\": -0.015801532784528675, \"local_degree\": 0.9719475707677473, \"global_clustering\": -0.24938029341647597, \"local_clustering\": -0.24938029341647597, \"global_closeness\": 0.9249728754093477, \"local_closeness\": 0.912969922148293, \"global_betweenness\": -0.003904868766614793, \"local_betweenness\": -0.003905193574241307, \"local_katz\": -0.009395180538084883, \"local_louvain\": -0.16311459343324447, \"local_HITS\": 1.0, \"local_CoHITS\": 0.9713259845853806, \"local_BiRank\": 0.9680189514626115, \"local_BGRM\": 0.9248759876246819, \"global_katz\": -0.009395180538084883, \"global_louvain\": 0.43917225503781665, \"global_HITS\": 0.23550218266492678, \"global_CoHITS\": 0.0367917814314088, \"global_BiRank\": 0.09345060795694246, \"global_BGRM\": 0.8962163913660138, \"cat\": \"local_HITS\"}, {\"global_degree\": -0.06039392629469143, \"local_degree\": 0.9986233704085572, \"global_clustering\": -0.25348308117400226, \"local_clustering\": -0.25348308117400226, \"global_closeness\": 0.9503396029744401, \"local_closeness\": 0.9376294462440533, \"global_betweenness\": -0.03690556881155693, \"local_betweenness\": -0.036905902979015505, \"local_katz\": -0.05485539919846382, \"local_louvain\": -0.19070638201004766, \"local_HITS\": 0.9713259845853806, \"local_CoHITS\": 1.0, \"local_BiRank\": 0.9976091821026213, \"local_BGRM\": 0.9532580728217699, \"global_katz\": -0.05485539919846382, \"global_louvain\": 0.43199348097578033, \"global_HITS\": -0.001651129417536388, \"global_CoHITS\": -0.021737229098426476, \"global_BiRank\": 0.06259396238193438, \"global_BGRM\": 0.9244650894238354, \"cat\": \"local_CoHITS\"}, {\"global_degree\": -0.07597355807145596, \"local_degree\": 0.9954213639207456, \"global_clustering\": -0.24914121995785662, \"local_clustering\": -0.24914121995785662, \"global_closeness\": 0.9450952909309228, \"local_closeness\": 0.9320459898558292, \"global_betweenness\": -0.05223856510769057, \"local_betweenness\": -0.05223884569251222, \"local_katz\": -0.06951954401735289, \"local_louvain\": -0.18974904940617257, \"local_HITS\": 0.9680189514626115, \"local_CoHITS\": 0.9976091821026213, \"local_BiRank\": 1.0, \"local_BGRM\": 0.971370422815087, \"global_katz\": -0.06951954401735289, \"global_louvain\": 0.4352455277569841, \"global_HITS\": -0.006899524194288326, \"global_CoHITS\": -0.03766328709501835, \"global_BiRank\": 0.04798339723551756, \"global_BGRM\": 0.946091809137026, \"cat\": \"local_BiRank\"}, {\"global_degree\": -0.07601095966799032, \"local_degree\": 0.9510088823090762, \"global_clustering\": -0.23701915864653436, \"local_clustering\": -0.23701915864653436, \"global_closeness\": 0.9022466106781886, \"local_closeness\": 0.8896771318636746, \"global_betweenness\": -0.05261049042088973, \"local_betweenness\": -0.05261058509069908, \"local_katz\": -0.06922999999463589, \"local_louvain\": -0.18109840151183268, \"local_HITS\": 0.9248759876246819, \"local_CoHITS\": 0.9532580728217699, \"local_BiRank\": 0.971370422815087, \"local_BGRM\": 1.0, \"global_katz\": -0.06922999999463589, \"global_louvain\": 0.42905367394296073, \"global_HITS\": -0.007264717932779273, \"global_CoHITS\": -0.03969044696274201, \"global_BiRank\": 0.04110177152331185, \"global_BGRM\": 0.9869390394897007, \"cat\": \"local_BGRM\"}, {\"global_degree\": 0.9594195735268098, \"local_degree\": -0.0042863778967617006, \"global_clustering\": -0.18369292582973865, \"local_clustering\": -0.18369292582973865, \"global_closeness\": 0.15002339076576532, \"local_closeness\": 0.17553989175481313, \"global_betweenness\": 0.9054291296846091, \"local_betweenness\": 0.905429137260905, \"local_katz\": 1.0, \"local_louvain\": -0.03194921446898414, \"local_HITS\": -0.009395180538084883, \"local_CoHITS\": -0.05485539919846382, \"local_BiRank\": -0.06951954401735289, \"local_BGRM\": -0.06922999999463589, \"global_katz\": 1.0, \"global_louvain\": -0.07323967519476894, \"global_HITS\": 0.25173423087286523, \"global_CoHITS\": 0.9356032434801697, \"global_BiRank\": 0.8453868734758133, \"global_BGRM\": -0.0998707834223266, \"cat\": \"global_katz\"}, {\"global_degree\": -0.09244944828959252, \"local_degree\": 0.4275509050046622, \"global_clustering\": -0.08823388473237018, \"local_clustering\": -0.08823388473237018, \"global_closeness\": 0.3910390081297433, \"local_closeness\": 0.3832530142488516, \"global_betweenness\": -0.05389148039515617, \"local_betweenness\": -0.053891583300368494, \"local_katz\": -0.07323967519476894, \"local_louvain\": 0.7993127124009268, \"local_HITS\": 0.43917225503781665, \"local_CoHITS\": 0.43199348097578033, \"local_BiRank\": 0.4352455277569841, \"local_BGRM\": 0.42905367394296073, \"global_katz\": -0.07323967519476894, \"global_louvain\": 1.0, \"global_HITS\": 0.07630591961980861, \"global_CoHITS\": -0.05608652932121115, \"global_BiRank\": -0.043650511086231046, \"global_BGRM\": 0.42134869756682125, \"cat\": \"global_louvain\"}, {\"global_degree\": 0.25175351396425916, \"local_degree\": 0.010341088823199148, \"global_clustering\": -0.031952515455838264, \"local_clustering\": -0.031952515455838264, \"global_closeness\": 0.021506508829811456, \"local_closeness\": 0.02483120426801461, \"global_betweenness\": 0.2046485079524373, \"local_betweenness\": 0.20464850672202953, \"local_katz\": 0.25173423087286523, \"local_louvain\": 0.08848907765683353, \"local_HITS\": 0.23550218266492678, \"local_CoHITS\": -0.001651129417536388, \"local_BiRank\": -0.006899524194288326, \"local_BGRM\": -0.007264717932779273, \"global_katz\": 0.25173423087286523, \"global_louvain\": 0.07630591961980861, \"global_HITS\": 1.0, \"global_CoHITS\": 0.3143232875975437, \"global_BiRank\": 0.20423741063349626, \"global_BGRM\": -0.011909874578263592, \"cat\": \"global_HITS\"}, {\"global_degree\": 0.9916664923032121, \"local_degree\": 0.029995316379600474, \"global_clustering\": -0.2492600895782924, \"local_clustering\": -0.2492600895782924, \"global_closeness\": 0.18109438743199843, \"local_closeness\": 0.20629198413104655, \"global_betweenness\": 0.9633371043865736, \"local_betweenness\": 0.9633370977987841, \"local_katz\": 0.9356032434801697, \"local_louvain\": -0.03416338086114253, \"local_HITS\": 0.0367917814314088, \"local_CoHITS\": -0.021737229098426476, \"local_BiRank\": -0.03766328709501835, \"local_BGRM\": -0.03969044696274201, \"global_katz\": 0.9356032434801697, \"global_louvain\": -0.05608652932121115, \"global_HITS\": 0.3143232875975437, \"global_CoHITS\": 1.0, \"global_BiRank\": 0.919357340758556, \"global_BGRM\": -0.06348143907339301, \"cat\": \"global_CoHITS\"}, {\"global_degree\": 0.9157811260352828, \"local_degree\": 0.11065284245541841, \"global_clustering\": -0.33398123761420684, \"local_clustering\": -0.33398123761420684, \"global_closeness\": 0.3078292020094359, \"local_closeness\": 0.3370083996722488, \"global_betweenness\": 0.8179904467904938, \"local_betweenness\": 0.8179904114210824, \"local_katz\": 0.8453868734758133, \"local_louvain\": -0.07727178461163822, \"local_HITS\": 0.09345060795694246, \"local_CoHITS\": 0.06259396238193438, \"local_BiRank\": 0.04798339723551756, \"local_BGRM\": 0.04110177152331185, \"global_katz\": 0.8453868734758133, \"global_louvain\": -0.043650511086231046, \"global_HITS\": 0.20423741063349626, \"global_CoHITS\": 0.919357340758556, \"global_BiRank\": 1.0, \"global_BGRM\": 0.011527129180651675, \"cat\": \"global_BiRank\"}, {\"global_degree\": -0.10376681016684483, \"local_degree\": 0.9206164751142992, \"global_clustering\": -0.22092343957073154, \"local_clustering\": -0.22092343957073154, \"global_closeness\": 0.8492150152075533, \"local_closeness\": 0.8340740718212779, \"global_betweenness\": -0.0686221433732371, \"local_betweenness\": -0.0686221939559399, \"local_katz\": -0.0998707834223266, \"local_louvain\": -0.1734845442487187, \"local_HITS\": 0.8962163913660138, \"local_CoHITS\": 0.9244650894238354, \"local_BiRank\": 0.946091809137026, \"local_BGRM\": 0.9869390394897007, \"global_katz\": -0.0998707834223266, \"global_louvain\": 0.42134869756682125, \"global_HITS\": -0.011909874578263592, \"global_CoHITS\": -0.06348143907339301, \"global_BiRank\": 0.011527129180651675, \"global_BGRM\": 1.0, \"cat\": \"global_BGRM\"}]}}, {\"mode\": \"vega-lite\"});\n",
       "</script>"
      ],
      "text/plain": [
       "alt.HConcatChart(...)"
      ]
     },
     "execution_count": 13,
     "metadata": {},
     "output_type": "execute_result"
    }
   ],
   "source": [
    "unexceptional_corr_members_chart = generate_corr_chart(\n",
    "    unexceptional_members_corr, 'member correlations for unexceptional data')\n",
    "no_rk_corr_members_chart = generate_corr_chart(\n",
    "    no_rk_members_corr, 'member correlations for no rk data')\n",
    "all_events_corr_members_chart = generate_corr_chart(\n",
    "    all_events_members_corr, 'member correlations for all events data')\n",
    "\n",
    "alt.hconcat(*[all_events_corr_members_chart,\n",
    "            unexceptional_corr_members_chart, no_rk_corr_members_chart])\n"
   ]
  },
  {
   "cell_type": "code",
   "execution_count": 14,
   "metadata": {},
   "outputs": [
    {
     "data": {
      "text/html": [
       "<div>\n",
       "<style scoped>\n",
       "    .dataframe tbody tr th:only-of-type {\n",
       "        vertical-align: middle;\n",
       "    }\n",
       "\n",
       "    .dataframe tbody tr th {\n",
       "        vertical-align: top;\n",
       "    }\n",
       "\n",
       "    .dataframe thead th {\n",
       "        text-align: right;\n",
       "    }\n",
       "</style>\n",
       "<table border=\"1\" class=\"dataframe\">\n",
       "  <thead>\n",
       "    <tr style=\"text-align: right;\">\n",
       "      <th></th>\n",
       "      <th>cat</th>\n",
       "      <th>variable</th>\n",
       "      <th>value</th>\n",
       "    </tr>\n",
       "  </thead>\n",
       "  <tbody>\n",
       "    <tr>\n",
       "      <th>0</th>\n",
       "      <td>global_degree</td>\n",
       "      <td>global_degree</td>\n",
       "      <td>1.000000</td>\n",
       "    </tr>\n",
       "    <tr>\n",
       "      <th>1</th>\n",
       "      <td>local_degree</td>\n",
       "      <td>global_degree</td>\n",
       "      <td>0.049005</td>\n",
       "    </tr>\n",
       "    <tr>\n",
       "      <th>2</th>\n",
       "      <td>global_clustering</td>\n",
       "      <td>global_degree</td>\n",
       "      <td>-0.181214</td>\n",
       "    </tr>\n",
       "    <tr>\n",
       "      <th>3</th>\n",
       "      <td>local_clustering</td>\n",
       "      <td>global_degree</td>\n",
       "      <td>-0.181214</td>\n",
       "    </tr>\n",
       "    <tr>\n",
       "      <th>4</th>\n",
       "      <td>global_closeness</td>\n",
       "      <td>global_degree</td>\n",
       "      <td>0.129270</td>\n",
       "    </tr>\n",
       "    <tr>\n",
       "      <th>...</th>\n",
       "      <td>...</td>\n",
       "      <td>...</td>\n",
       "      <td>...</td>\n",
       "    </tr>\n",
       "    <tr>\n",
       "      <th>395</th>\n",
       "      <td>global_louvain</td>\n",
       "      <td>global_BGRM</td>\n",
       "      <td>0.474028</td>\n",
       "    </tr>\n",
       "    <tr>\n",
       "      <th>396</th>\n",
       "      <td>global_HITS</td>\n",
       "      <td>global_BGRM</td>\n",
       "      <td>-0.011875</td>\n",
       "    </tr>\n",
       "    <tr>\n",
       "      <th>397</th>\n",
       "      <td>global_CoHITS</td>\n",
       "      <td>global_BGRM</td>\n",
       "      <td>-0.045232</td>\n",
       "    </tr>\n",
       "    <tr>\n",
       "      <th>398</th>\n",
       "      <td>global_BiRank</td>\n",
       "      <td>global_BGRM</td>\n",
       "      <td>0.025200</td>\n",
       "    </tr>\n",
       "    <tr>\n",
       "      <th>399</th>\n",
       "      <td>global_BGRM</td>\n",
       "      <td>global_BGRM</td>\n",
       "      <td>1.000000</td>\n",
       "    </tr>\n",
       "  </tbody>\n",
       "</table>\n",
       "<p>400 rows × 3 columns</p>\n",
       "</div>"
      ],
      "text/plain": [
       "                   cat       variable     value\n",
       "0        global_degree  global_degree  1.000000\n",
       "1         local_degree  global_degree  0.049005\n",
       "2    global_clustering  global_degree -0.181214\n",
       "3     local_clustering  global_degree -0.181214\n",
       "4     global_closeness  global_degree  0.129270\n",
       "..                 ...            ...       ...\n",
       "395     global_louvain    global_BGRM  0.474028\n",
       "396        global_HITS    global_BGRM -0.011875\n",
       "397      global_CoHITS    global_BGRM -0.045232\n",
       "398      global_BiRank    global_BGRM  0.025200\n",
       "399        global_BGRM    global_BGRM  1.000000\n",
       "\n",
       "[400 rows x 3 columns]"
      ]
     },
     "execution_count": 14,
     "metadata": {},
     "output_type": "execute_result"
    }
   ],
   "source": [
    "all_events_members_corr\n",
    "cor_cols = all_events_members_corr.columns.to_list()\n",
    "cor_cols = [c for c in cor_cols if ('cat' != c)]\n",
    "pd.melt(all_events_members_corr, id_vars=['cat'], value_vars=cor_cols)\n"
   ]
  },
  {
   "cell_type": "code",
   "execution_count": 15,
   "metadata": {},
   "outputs": [
    {
     "data": {
      "text/html": [
       "\n",
       "<div id=\"altair-viz-32120b32593940149e4c1acdca840bac\"></div>\n",
       "<script type=\"text/javascript\">\n",
       "  (function(spec, embedOpt){\n",
       "    let outputDiv = document.currentScript.previousElementSibling;\n",
       "    if (outputDiv.id !== \"altair-viz-32120b32593940149e4c1acdca840bac\") {\n",
       "      outputDiv = document.getElementById(\"altair-viz-32120b32593940149e4c1acdca840bac\");\n",
       "    }\n",
       "    const paths = {\n",
       "      \"vega\": \"https://cdn.jsdelivr.net/npm//vega@5?noext\",\n",
       "      \"vega-lib\": \"https://cdn.jsdelivr.net/npm//vega-lib?noext\",\n",
       "      \"vega-lite\": \"https://cdn.jsdelivr.net/npm//vega-lite@4.8.1?noext\",\n",
       "      \"vega-embed\": \"https://cdn.jsdelivr.net/npm//vega-embed@6?noext\",\n",
       "    };\n",
       "\n",
       "    function loadScript(lib) {\n",
       "      return new Promise(function(resolve, reject) {\n",
       "        var s = document.createElement('script');\n",
       "        s.src = paths[lib];\n",
       "        s.async = true;\n",
       "        s.onload = () => resolve(paths[lib]);\n",
       "        s.onerror = () => reject(`Error loading script: ${paths[lib]}`);\n",
       "        document.getElementsByTagName(\"head\")[0].appendChild(s);\n",
       "      });\n",
       "    }\n",
       "\n",
       "    function showError(err) {\n",
       "      outputDiv.innerHTML = `<div class=\"error\" style=\"color:red;\">${err}</div>`;\n",
       "      throw err;\n",
       "    }\n",
       "\n",
       "    function displayChart(vegaEmbed) {\n",
       "      vegaEmbed(outputDiv, spec, embedOpt)\n",
       "        .catch(err => showError(`Javascript Error: ${err.message}<br>This usually means there's a typo in your chart specification. See the javascript console for the full traceback.`));\n",
       "    }\n",
       "\n",
       "    if(typeof define === \"function\" && define.amd) {\n",
       "      requirejs.config({paths});\n",
       "      require([\"vega-embed\"], displayChart, err => showError(`Error loading script: ${err.message}`));\n",
       "    } else if (typeof vegaEmbed === \"function\") {\n",
       "      displayChart(vegaEmbed);\n",
       "    } else {\n",
       "      loadScript(\"vega\")\n",
       "        .then(() => loadScript(\"vega-lite\"))\n",
       "        .then(() => loadScript(\"vega-embed\"))\n",
       "        .catch(showError)\n",
       "        .then(() => displayChart(vegaEmbed));\n",
       "    }\n",
       "  })({\"config\": {\"view\": {\"continuousWidth\": 400, \"continuousHeight\": 300}}, \"hconcat\": [{\"layer\": [{\"mark\": \"rect\", \"encoding\": {\"color\": {\"type\": \"quantitative\", \"field\": \"value\", \"scale\": {\"scheme\": \"redyellowblue\"}}, \"x\": {\"type\": \"nominal\", \"field\": \"cat\"}, \"y\": {\"type\": \"nominal\", \"field\": \"key\"}}, \"height\": 300, \"title\": \"book correlations for all events data\", \"transform\": [{\"fold\": [\"global_degree\", \"local_degree\", \"global_clustering\", \"local_clustering\", \"global_closeness\", \"local_closeness\", \"global_betweenness\", \"local_betweenness\", \"local_katz\", \"local_louvain\", \"local_HITS\", \"local_CoHITS\", \"local_BiRank\", \"local_BGRM\", \"global_katz\", \"global_louvain\", \"global_HITS\", \"global_CoHITS\", \"global_BiRank\", \"global_BGRM\"]}], \"width\": 300}, {\"mark\": {\"type\": \"text\", \"color\": \"grey\", \"size\": 5}, \"encoding\": {\"text\": {\"type\": \"quantitative\", \"field\": \"value\", \"format\": \"0.1f\"}, \"x\": {\"type\": \"nominal\", \"field\": \"cat\"}, \"y\": {\"type\": \"nominal\", \"field\": \"key\"}}, \"height\": 300, \"title\": \"book correlations for all events data\", \"transform\": [{\"fold\": [\"global_degree\", \"local_degree\", \"global_clustering\", \"local_clustering\", \"global_closeness\", \"local_closeness\", \"global_betweenness\", \"local_betweenness\", \"local_katz\", \"local_louvain\", \"local_HITS\", \"local_CoHITS\", \"local_BiRank\", \"local_BGRM\", \"global_katz\", \"global_louvain\", \"global_HITS\", \"global_CoHITS\", \"global_BiRank\", \"global_BGRM\"]}], \"width\": 300}], \"data\": {\"name\": \"data-995001e81e7823da0db649f30fda130c\"}}, {\"layer\": [{\"mark\": \"rect\", \"encoding\": {\"color\": {\"type\": \"quantitative\", \"field\": \"value\", \"scale\": {\"scheme\": \"redyellowblue\"}}, \"x\": {\"type\": \"nominal\", \"field\": \"cat\"}, \"y\": {\"type\": \"nominal\", \"field\": \"key\"}}, \"height\": 300, \"title\": \"book correlations for unexceptional data\", \"transform\": [{\"fold\": [\"global_degree\", \"local_degree\", \"global_clustering\", \"local_clustering\", \"global_closeness\", \"local_closeness\", \"global_betweenness\", \"local_betweenness\", \"local_katz\", \"local_louvain\", \"local_HITS\", \"local_CoHITS\", \"local_BiRank\", \"local_BGRM\", \"global_katz\", \"global_louvain\", \"global_HITS\", \"global_CoHITS\", \"global_BiRank\", \"global_BGRM\"]}], \"width\": 300}, {\"mark\": {\"type\": \"text\", \"color\": \"grey\", \"size\": 5}, \"encoding\": {\"text\": {\"type\": \"quantitative\", \"field\": \"value\", \"format\": \"0.1f\"}, \"x\": {\"type\": \"nominal\", \"field\": \"cat\"}, \"y\": {\"type\": \"nominal\", \"field\": \"key\"}}, \"height\": 300, \"title\": \"book correlations for unexceptional data\", \"transform\": [{\"fold\": [\"global_degree\", \"local_degree\", \"global_clustering\", \"local_clustering\", \"global_closeness\", \"local_closeness\", \"global_betweenness\", \"local_betweenness\", \"local_katz\", \"local_louvain\", \"local_HITS\", \"local_CoHITS\", \"local_BiRank\", \"local_BGRM\", \"global_katz\", \"global_louvain\", \"global_HITS\", \"global_CoHITS\", \"global_BiRank\", \"global_BGRM\"]}], \"width\": 300}], \"data\": {\"name\": \"data-a7aac3bacc3a4ee92b5963fe63eccdeb\"}}, {\"layer\": [{\"mark\": \"rect\", \"encoding\": {\"color\": {\"type\": \"quantitative\", \"field\": \"value\", \"scale\": {\"scheme\": \"redyellowblue\"}}, \"x\": {\"type\": \"nominal\", \"field\": \"cat\"}, \"y\": {\"type\": \"nominal\", \"field\": \"key\"}}, \"height\": 300, \"title\": \"book correlations for no rk data\", \"transform\": [{\"fold\": [\"global_degree\", \"local_degree\", \"global_clustering\", \"local_clustering\", \"global_closeness\", \"local_closeness\", \"global_betweenness\", \"local_betweenness\", \"local_katz\", \"local_louvain\", \"local_HITS\", \"local_CoHITS\", \"local_BiRank\", \"local_BGRM\", \"global_katz\", \"global_louvain\", \"global_HITS\", \"global_CoHITS\", \"global_BiRank\", \"global_BGRM\"]}], \"width\": 300}, {\"mark\": {\"type\": \"text\", \"color\": \"grey\", \"size\": 5}, \"encoding\": {\"text\": {\"type\": \"quantitative\", \"field\": \"value\", \"format\": \"0.1f\"}, \"x\": {\"type\": \"nominal\", \"field\": \"cat\"}, \"y\": {\"type\": \"nominal\", \"field\": \"key\"}}, \"height\": 300, \"title\": \"book correlations for no rk data\", \"transform\": [{\"fold\": [\"global_degree\", \"local_degree\", \"global_clustering\", \"local_clustering\", \"global_closeness\", \"local_closeness\", \"global_betweenness\", \"local_betweenness\", \"local_katz\", \"local_louvain\", \"local_HITS\", \"local_CoHITS\", \"local_BiRank\", \"local_BGRM\", \"global_katz\", \"global_louvain\", \"global_HITS\", \"global_CoHITS\", \"global_BiRank\", \"global_BGRM\"]}], \"width\": 300}], \"data\": {\"name\": \"data-9645b339e77e6485949330c563678fd2\"}}], \"$schema\": \"https://vega.github.io/schema/vega-lite/v4.8.1.json\", \"datasets\": {\"data-995001e81e7823da0db649f30fda130c\": [{\"global_degree\": 1.0, \"local_degree\": 0.10254377923899871, \"global_clustering\": -0.5972811012978796, \"local_clustering\": -0.5972811012978796, \"global_closeness\": 0.39299148400814915, \"local_closeness\": 0.554006841606304, \"global_betweenness\": 0.8537150172197694, \"local_betweenness\": 0.8537150172197653, \"local_katz\": 0.70780267766837, \"local_louvain\": -0.04610333666071628, \"local_HITS\": -0.02719935578006682, \"local_CoHITS\": -0.02655428047983379, \"local_BiRank\": -0.02880295020925577, \"local_BGRM\": -0.028257682718671944, \"global_katz\": 0.708120120408184, \"global_louvain\": -0.05190261724566793, \"global_HITS\": 0.04682542220887727, \"global_CoHITS\": 0.8766980328697828, \"global_BiRank\": 0.8526346543448661, \"global_BGRM\": -0.027395076993833995, \"cat\": \"global_degree\"}, {\"global_degree\": 0.10254377923899871, \"local_degree\": 1.0, \"global_clustering\": -0.03155736599012988, \"local_clustering\": -0.03155736599012988, \"global_closeness\": 0.767971766165082, \"local_closeness\": 0.5009739785239005, \"global_betweenness\": 0.09733358304709734, \"local_betweenness\": 0.0973335830470972, \"local_katz\": 0.22452252692200805, \"local_louvain\": -0.03848809350312875, \"local_HITS\": 0.926886261601528, \"local_CoHITS\": 0.9293007262433766, \"local_BiRank\": 0.9511503476438351, \"local_BGRM\": 0.8581821758352398, \"global_katz\": 0.0533529990539672, \"global_louvain\": 0.1904429126124999, \"global_HITS\": 0.0031996844854435334, \"global_CoHITS\": 0.2740774943428308, \"global_BiRank\": 0.34814124157119497, \"global_BGRM\": 0.8091201660215559, \"cat\": \"local_degree\"}, {\"global_degree\": -0.5972811012978796, \"local_degree\": -0.03155736599012988, \"global_clustering\": 1.0, \"local_clustering\": 1.0, \"global_closeness\": -0.42236439221916794, \"local_closeness\": -0.5460201744556761, \"global_betweenness\": -0.37634296103954296, \"local_betweenness\": -0.37634296103954495, \"local_katz\": -0.5037282193835347, \"local_louvain\": 0.11887038564322361, \"local_HITS\": -0.02540560392747541, \"local_CoHITS\": -0.024419312696685205, \"local_BiRank\": -0.009417858141895111, \"local_BGRM\": -0.056490468260020923, \"global_katz\": -0.4964833826577476, \"global_louvain\": 0.12077956574993054, \"global_HITS\": -0.04734512369164071, \"global_CoHITS\": -0.5083637378904758, \"global_BiRank\": -0.5796416077798974, \"global_BGRM\": -0.034789090398360006, \"cat\": \"global_clustering\"}, {\"global_degree\": -0.5972811012978796, \"local_degree\": -0.03155736599012988, \"global_clustering\": 1.0, \"local_clustering\": 1.0, \"global_closeness\": -0.42236439221916794, \"local_closeness\": -0.5460201744556761, \"global_betweenness\": -0.37634296103954296, \"local_betweenness\": -0.37634296103954495, \"local_katz\": -0.5037282193835347, \"local_louvain\": 0.11887038564322361, \"local_HITS\": -0.02540560392747541, \"local_CoHITS\": -0.024419312696685205, \"local_BiRank\": -0.009417858141895111, \"local_BGRM\": -0.056490468260020923, \"global_katz\": -0.4964833826577476, \"global_louvain\": 0.12077956574993054, \"global_HITS\": -0.04734512369164071, \"global_CoHITS\": -0.5083637378904758, \"global_BiRank\": -0.5796416077798974, \"global_BGRM\": -0.034789090398360006, \"cat\": \"local_clustering\"}, {\"global_degree\": 0.39299148400814915, \"local_degree\": 0.767971766165082, \"global_clustering\": -0.42236439221916794, \"local_clustering\": -0.42236439221916794, \"global_closeness\": 1.0, \"local_closeness\": 0.9063281628393357, \"global_betweenness\": 0.3032946393555852, \"local_betweenness\": 0.30329463935558526, \"local_katz\": 0.8563310999309075, \"local_louvain\": -0.09696131815613779, \"local_HITS\": 0.7474418893729844, \"local_CoHITS\": 0.7485435245722349, \"local_BiRank\": 0.749684945566366, \"local_BGRM\": 0.7280584848397864, \"global_katz\": 0.557169694580201, \"global_louvain\": 0.08868874747300597, \"global_HITS\": 0.028773279190378254, \"global_CoHITS\": 0.44054851367903475, \"global_BiRank\": 0.47129529726187075, \"global_BGRM\": 0.6093946272189463, \"cat\": \"global_closeness\"}, {\"global_degree\": 0.554006841606304, \"local_degree\": 0.5009739785239005, \"global_clustering\": -0.5460201744556761, \"local_clustering\": -0.5460201744556761, \"global_closeness\": 0.9063281628393357, \"local_closeness\": 1.0, \"global_betweenness\": 0.42360892681494855, \"local_betweenness\": 0.42360892681494783, \"local_katz\": 0.8708821397030003, \"local_louvain\": -0.09671383121501047, \"local_HITS\": 0.40336218477856045, \"local_CoHITS\": 0.40332385256575837, \"local_BiRank\": 0.4120496428529123, \"local_BGRM\": 0.37076343617967905, \"global_katz\": 0.7833557647966535, \"global_louvain\": 0.0018218208851810097, \"global_HITS\": 0.04097506232385857, \"global_CoHITS\": 0.49539789738558504, \"global_BiRank\": 0.49539593819223665, \"global_BGRM\": 0.24275726724963628, \"cat\": \"local_closeness\"}, {\"global_degree\": 0.8537150172197694, \"local_degree\": 0.09733358304709734, \"global_clustering\": -0.37634296103954296, \"local_clustering\": -0.37634296103954296, \"global_closeness\": 0.3032946393555852, \"local_closeness\": 0.42360892681494855, \"global_betweenness\": 1.0, \"local_betweenness\": 0.9999999999999991, \"local_katz\": 0.5783336022586106, \"local_louvain\": -0.0010584502679269103, \"local_HITS\": -0.014812020367083362, \"local_CoHITS\": -0.013230461924219082, \"local_BiRank\": -0.015275532991355973, \"local_BGRM\": -0.015589811576617856, \"global_katz\": 0.5784618385700154, \"global_louvain\": -0.00477235443971469, \"global_HITS\": 0.028789190034436456, \"global_CoHITS\": 0.797730008595947, \"global_BiRank\": 0.6870261984862105, \"global_BGRM\": -0.001111743095695284, \"cat\": \"global_betweenness\"}, {\"global_degree\": 0.8537150172197653, \"local_degree\": 0.0973335830470972, \"global_clustering\": -0.37634296103954495, \"local_clustering\": -0.37634296103954495, \"global_closeness\": 0.30329463935558526, \"local_closeness\": 0.42360892681494783, \"global_betweenness\": 0.9999999999999991, \"local_betweenness\": 1.0, \"local_katz\": 0.5783336022586107, \"local_louvain\": -0.0010584502679273425, \"local_HITS\": -0.014812020367083333, \"local_CoHITS\": -0.013230461924218997, \"local_BiRank\": -0.015275532991355964, \"local_BGRM\": -0.015589811576617816, \"global_katz\": 0.5784618385700167, \"global_louvain\": -0.004772354439715052, \"global_HITS\": 0.028789190034437046, \"global_CoHITS\": 0.7977300085959439, \"global_BiRank\": 0.6870261984862117, \"global_BGRM\": -0.00111174309569437, \"cat\": \"local_betweenness\"}, {\"global_degree\": 0.70780267766837, \"local_degree\": 0.22452252692200805, \"global_clustering\": -0.5037282193835347, \"local_clustering\": -0.5037282193835347, \"global_closeness\": 0.8563310999309075, \"local_closeness\": 0.8708821397030003, \"global_betweenness\": 0.5783336022586106, \"local_betweenness\": 0.5783336022586107, \"local_katz\": 1.0, \"local_louvain\": -0.07958268464639243, \"local_HITS\": 0.0014737202349326282, \"local_CoHITS\": -0.0025931142272780086, \"local_BiRank\": -0.009298870868012633, \"local_BGRM\": -0.016120938299100496, \"global_katz\": 0.9999999999999686, \"global_louvain\": -0.08081255035760837, \"global_HITS\": 0.046899038632919623, \"global_CoHITS\": 0.5611039015111284, \"global_BiRank\": 0.5413156488208197, \"global_BGRM\": -0.16305705583394506, \"cat\": \"local_katz\"}, {\"global_degree\": -0.04610333666071628, \"local_degree\": -0.03848809350312875, \"global_clustering\": 0.11887038564322361, \"local_clustering\": 0.11887038564322361, \"global_closeness\": -0.09696131815613779, \"local_closeness\": -0.09671383121501047, \"global_betweenness\": -0.0010584502679269103, \"local_betweenness\": -0.0010584502679273425, \"local_katz\": -0.07958268464639243, \"local_louvain\": 1.0, \"local_HITS\": -0.004592718264526335, \"local_CoHITS\": -0.023539535887654093, \"local_BiRank\": -0.023943708652017975, \"local_BGRM\": -0.023108900858331144, \"global_katz\": -0.07958267848232262, \"global_louvain\": 0.9964725149594944, \"global_HITS\": 0.05096704953697099, \"global_CoHITS\": 0.007156922084595256, \"global_BiRank\": -0.0007043300276765905, \"global_BGRM\": 0.041424983594075364, \"cat\": \"local_louvain\"}, {\"global_degree\": -0.02719935578006682, \"local_degree\": 0.926886261601528, \"global_clustering\": -0.02540560392747541, \"local_clustering\": -0.02540560392747541, \"global_closeness\": 0.7474418893729844, \"local_closeness\": 0.40336218477856045, \"global_betweenness\": -0.014812020367083362, \"local_betweenness\": -0.014812020367083333, \"local_katz\": 0.0014737202349326282, \"local_louvain\": -0.004592718264526335, \"local_HITS\": 1.0, \"local_CoHITS\": 0.9975883765122793, \"local_BiRank\": 0.9950252410462059, \"local_BGRM\": 0.9826763595485271, \"global_katz\": -0.03638134595066964, \"global_louvain\": 0.20067912186427622, \"global_HITS\": 0.06780204953388999, \"global_CoHITS\": 0.19204742490761928, \"global_BiRank\": 0.25202951529752043, \"global_BGRM\": 0.9281754141930282, \"cat\": \"local_HITS\"}, {\"global_degree\": -0.02655428047983379, \"local_degree\": 0.9293007262433766, \"global_clustering\": -0.024419312696685205, \"local_clustering\": -0.024419312696685205, \"global_closeness\": 0.7485435245722349, \"local_closeness\": 0.40332385256575837, \"global_betweenness\": -0.013230461924219082, \"local_betweenness\": -0.013230461924218997, \"local_katz\": -0.0025931142272780086, \"local_louvain\": -0.023539535887654093, \"local_HITS\": 0.9975883765122793, \"local_CoHITS\": 1.0, \"local_BiRank\": 0.9974934305313508, \"local_BGRM\": 0.9851347723858058, \"global_katz\": -0.0372704720292169, \"global_louvain\": 0.19767790629276516, \"global_HITS\": -0.001479058514831259, \"global_CoHITS\": 0.17422420913479728, \"global_BiRank\": 0.24563405903890104, \"global_BGRM\": 0.9311894836212031, \"cat\": \"local_CoHITS\"}, {\"global_degree\": -0.02880295020925577, \"local_degree\": 0.9511503476438351, \"global_clustering\": -0.009417858141895111, \"local_clustering\": -0.009417858141895111, \"global_closeness\": 0.749684945566366, \"local_closeness\": 0.4120496428529123, \"global_betweenness\": -0.015275532991355973, \"local_betweenness\": -0.015275532991355964, \"local_katz\": -0.009298870868012633, \"local_louvain\": -0.023943708652017975, \"local_HITS\": 0.9950252410462059, \"local_CoHITS\": 0.9974934305313508, \"local_BiRank\": 1.0, \"local_BGRM\": 0.9708557543992045, \"global_katz\": -0.0392076362053023, \"global_louvain\": 0.19980423643911555, \"global_HITS\": -0.0025556358178472583, \"global_CoHITS\": 0.171410442814583, \"global_BiRank\": 0.24527511116273465, \"global_BGRM\": 0.9173353145643318, \"cat\": \"local_BiRank\"}, {\"global_degree\": -0.028257682718671944, \"local_degree\": 0.8581821758352398, \"global_clustering\": -0.056490468260020923, \"local_clustering\": -0.056490468260020923, \"global_closeness\": 0.7280584848397864, \"local_closeness\": 0.37076343617967905, \"global_betweenness\": -0.015589811576617856, \"local_betweenness\": -0.015589811576617816, \"local_katz\": -0.016120938299100496, \"local_louvain\": -0.023108900858331144, \"local_HITS\": 0.9826763595485271, \"local_CoHITS\": 0.9851347723858058, \"local_BiRank\": 0.9708557543992045, \"local_BGRM\": 1.0, \"global_katz\": -0.036823530764420104, \"global_louvain\": 0.18862336227473228, \"global_HITS\": -0.002723110956654028, \"global_CoHITS\": 0.1686026355206757, \"global_BiRank\": 0.23430395743933688, \"global_BGRM\": 0.9459232516305265, \"cat\": \"local_BGRM\"}, {\"global_degree\": 0.708120120408184, \"local_degree\": 0.0533529990539672, \"global_clustering\": -0.4964833826577476, \"local_clustering\": -0.4964833826577476, \"global_closeness\": 0.557169694580201, \"local_closeness\": 0.7833557647966535, \"global_betweenness\": 0.5784618385700154, \"local_betweenness\": 0.5784618385700167, \"local_katz\": 0.9999999999999686, \"local_louvain\": -0.07958267848232262, \"local_HITS\": -0.03638134595066964, \"local_CoHITS\": -0.0372704720292169, \"local_BiRank\": -0.0392076362053023, \"local_BGRM\": -0.036823530764420104, \"global_katz\": 1.0, \"global_louvain\": -0.08669408944160098, \"global_HITS\": 0.046976736044566, \"global_CoHITS\": 0.5465397979971757, \"global_BiRank\": 0.5167288545955447, \"global_BGRM\": -0.08780716911066376, \"cat\": \"global_katz\"}, {\"global_degree\": -0.05190261724566793, \"local_degree\": 0.1904429126124999, \"global_clustering\": 0.12077956574993054, \"local_clustering\": 0.12077956574993054, \"global_closeness\": 0.08868874747300597, \"local_closeness\": 0.0018218208851810097, \"global_betweenness\": -0.00477235443971469, \"local_betweenness\": -0.004772354439715052, \"local_katz\": -0.08081255035760837, \"local_louvain\": 0.9964725149594944, \"local_HITS\": 0.20067912186427622, \"local_CoHITS\": 0.19767790629276516, \"local_BiRank\": 0.19980423643911555, \"local_BGRM\": 0.18862336227473228, \"global_katz\": -0.08669408944160098, \"global_louvain\": 1.0, \"global_HITS\": 0.04927119941620482, \"global_CoHITS\": 0.04082771970302816, \"global_BiRank\": 0.04929642770856393, \"global_BGRM\": 0.19326607616000524, \"cat\": \"global_louvain\"}, {\"global_degree\": 0.04682542220887727, \"local_degree\": 0.0031996844854435334, \"global_clustering\": -0.04734512369164071, \"local_clustering\": -0.04734512369164071, \"global_closeness\": 0.028773279190378254, \"local_closeness\": 0.04097506232385857, \"global_betweenness\": 0.028789190034436456, \"local_betweenness\": 0.028789190034437046, \"local_katz\": 0.046899038632919623, \"local_louvain\": 0.05096704953697099, \"local_HITS\": 0.06780204953388999, \"local_CoHITS\": -0.001479058514831259, \"local_BiRank\": -0.0025556358178472583, \"local_BGRM\": -0.002723110956654028, \"global_katz\": 0.046976736044566, \"global_louvain\": 0.04927119941620482, \"global_HITS\": 1.0, \"global_CoHITS\": 0.32016667003909305, \"global_BiRank\": 0.15570240165718557, \"global_BGRM\": -0.008440325521134665, \"cat\": \"global_HITS\"}, {\"global_degree\": 0.8766980328697828, \"local_degree\": 0.2740774943428308, \"global_clustering\": -0.5083637378904758, \"local_clustering\": -0.5083637378904758, \"global_closeness\": 0.44054851367903475, \"local_closeness\": 0.49539789738558504, \"global_betweenness\": 0.797730008595947, \"local_betweenness\": 0.7977300085959439, \"local_katz\": 0.5611039015111284, \"local_louvain\": 0.007156922084595256, \"local_HITS\": 0.19204742490761928, \"local_CoHITS\": 0.17422420913479728, \"local_BiRank\": 0.171410442814583, \"local_BGRM\": 0.1686026355206757, \"global_katz\": 0.5465397979971757, \"global_louvain\": 0.04082771970302816, \"global_HITS\": 0.32016667003909305, \"global_CoHITS\": 1.0, \"global_BiRank\": 0.931391394601093, \"global_BGRM\": 0.21927317868506202, \"cat\": \"global_CoHITS\"}, {\"global_degree\": 0.8526346543448661, \"local_degree\": 0.34814124157119497, \"global_clustering\": -0.5796416077798974, \"local_clustering\": -0.5796416077798974, \"global_closeness\": 0.47129529726187075, \"local_closeness\": 0.49539593819223665, \"global_betweenness\": 0.6870261984862105, \"local_betweenness\": 0.6870261984862117, \"local_katz\": 0.5413156488208197, \"local_louvain\": -0.0007043300276765905, \"local_HITS\": 0.25202951529752043, \"local_CoHITS\": 0.24563405903890104, \"local_BiRank\": 0.24527511116273465, \"local_BGRM\": 0.23430395743933688, \"global_katz\": 0.5167288545955447, \"global_louvain\": 0.04929642770856393, \"global_HITS\": 0.15570240165718557, \"global_CoHITS\": 0.931391394601093, \"global_BiRank\": 1.0, \"global_BGRM\": 0.31390842253044626, \"cat\": \"global_BiRank\"}, {\"global_degree\": -0.027395076993833995, \"local_degree\": 0.8091201660215559, \"global_clustering\": -0.034789090398360006, \"local_clustering\": -0.034789090398360006, \"global_closeness\": 0.6093946272189463, \"local_closeness\": 0.24275726724963628, \"global_betweenness\": -0.001111743095695284, \"local_betweenness\": -0.00111174309569437, \"local_katz\": -0.16305705583394506, \"local_louvain\": 0.041424983594075364, \"local_HITS\": 0.9281754141930282, \"local_CoHITS\": 0.9311894836212031, \"local_BiRank\": 0.9173353145643318, \"local_BGRM\": 0.9459232516305265, \"global_katz\": -0.08780716911066376, \"global_louvain\": 0.19326607616000524, \"global_HITS\": -0.008440325521134665, \"global_CoHITS\": 0.21927317868506202, \"global_BiRank\": 0.31390842253044626, \"global_BGRM\": 1.0, \"cat\": \"global_BGRM\"}], \"data-a7aac3bacc3a4ee92b5963fe63eccdeb\": [{\"global_degree\": 1.0, \"local_degree\": 0.06285068792338486, \"global_clustering\": -0.627581958272529, \"local_clustering\": -0.627581958272529, \"global_closeness\": 0.30385518016487056, \"local_closeness\": 0.47514668862700266, \"global_betweenness\": 0.8515038715310228, \"local_betweenness\": 0.8515038715310211, \"local_katz\": 0.5689203718830326, \"local_louvain\": -0.07157324420615926, \"local_HITS\": -0.03192486753184859, \"local_CoHITS\": -0.03127594939065743, \"local_BiRank\": -0.03277158953701047, \"local_BGRM\": -0.033835362881252176, \"global_katz\": 0.5695358416865447, \"global_louvain\": -0.0777037793409431, \"global_HITS\": 0.4237162648690608, \"global_CoHITS\": 0.902578038078094, \"global_BiRank\": 0.831828958283235, \"global_BGRM\": -0.026676624437761143, \"cat\": \"global_degree\"}, {\"global_degree\": 0.06285068792338486, \"local_degree\": 1.0, \"global_clustering\": -0.12533251971086184, \"local_clustering\": -0.12533251971086184, \"global_closeness\": 0.8191265064310504, \"local_closeness\": 0.5062224857823877, \"global_betweenness\": 0.06286135056159178, \"local_betweenness\": 0.06286135056159203, \"local_katz\": 0.19160770838847788, \"local_louvain\": -0.041197302949291685, \"local_HITS\": 0.9792746730056687, \"local_CoHITS\": 0.9793532431145293, \"local_BiRank\": 0.9849839997106354, \"local_BGRM\": 0.9538425572269891, \"global_katz\": 0.010791859951315675, \"global_louvain\": 0.2148905760776509, \"global_HITS\": 0.007227156315365893, \"global_CoHITS\": 0.29955575075301477, \"global_BiRank\": 0.36143596130583217, \"global_BGRM\": 0.9040855710271801, \"cat\": \"local_degree\"}, {\"global_degree\": -0.627581958272529, \"local_degree\": -0.12533251971086184, \"global_clustering\": 1.0, \"local_clustering\": 1.0, \"global_closeness\": -0.42515176763489954, \"local_closeness\": -0.5591787152106784, \"global_betweenness\": -0.4099358673073842, \"local_betweenness\": -0.4099358673073834, \"local_katz\": -0.44615571220255856, \"local_louvain\": 0.18535785091735527, \"local_HITS\": -0.08918691877839308, \"local_CoHITS\": -0.08899014144563168, \"local_BiRank\": -0.08405193106940004, \"local_BGRM\": -0.09950127223705765, \"global_katz\": -0.43821580871705706, \"global_louvain\": 0.16304373317142368, \"global_HITS\": -0.3393152950004353, \"global_CoHITS\": -0.5647322590197892, \"global_BiRank\": -0.60501733772846, \"global_BGRM\": -0.08934305191989642, \"cat\": \"global_clustering\"}, {\"global_degree\": -0.627581958272529, \"local_degree\": -0.12533251971086184, \"global_clustering\": 1.0, \"local_clustering\": 1.0, \"global_closeness\": -0.42515176763489954, \"local_closeness\": -0.5591787152106784, \"global_betweenness\": -0.4099358673073842, \"local_betweenness\": -0.4099358673073834, \"local_katz\": -0.44615571220255856, \"local_louvain\": 0.18535785091735527, \"local_HITS\": -0.08918691877839308, \"local_CoHITS\": -0.08899014144563168, \"local_BiRank\": -0.08405193106940004, \"local_BGRM\": -0.09950127223705765, \"global_katz\": -0.43821580871705706, \"global_louvain\": 0.16304373317142368, \"global_HITS\": -0.3393152950004353, \"global_CoHITS\": -0.5647322590197892, \"global_BiRank\": -0.60501733772846, \"global_BGRM\": -0.08934305191989642, \"cat\": \"local_clustering\"}, {\"global_degree\": 0.30385518016487056, \"local_degree\": 0.8191265064310504, \"global_clustering\": -0.42515176763489954, \"local_clustering\": -0.42515176763489954, \"global_closeness\": 1.0, \"local_closeness\": 0.8958973796952714, \"global_betweenness\": 0.24522027472256852, \"local_betweenness\": 0.24522027472256902, \"local_katz\": 0.8519100099139137, \"local_louvain\": -0.197827099948996, \"local_HITS\": 0.8029552806920168, \"local_CoHITS\": 0.8011725986479664, \"local_BiRank\": 0.8008444409397836, \"local_BGRM\": 0.793578445710242, \"global_katz\": 0.4861741525100765, \"global_louvain\": 0.063011750532458, \"global_HITS\": 0.3796067481590727, \"global_CoHITS\": 0.4123840247947545, \"global_BiRank\": 0.40921236603357203, \"global_BGRM\": 0.678820728466351, \"cat\": \"global_closeness\"}, {\"global_degree\": 0.47514668862700266, \"local_degree\": 0.5062224857823877, \"global_clustering\": -0.5591787152106784, \"local_clustering\": -0.5591787152106784, \"global_closeness\": 0.8958973796952714, \"local_closeness\": 1.0, \"global_betweenness\": 0.37792586653140087, \"local_betweenness\": 0.3779258665313989, \"local_katz\": 0.8621973917155584, \"local_louvain\": -0.19890486148933978, \"local_HITS\": 0.4567503710035468, \"local_CoHITS\": 0.4540987988660429, \"local_BiRank\": 0.4561095545424871, \"local_BGRM\": 0.44099612687792544, \"global_katz\": 0.7521827728580073, \"global_louvain\": -0.06908523463091414, \"global_HITS\": 0.5866960985404384, \"global_CoHITS\": 0.45253328287200173, \"global_BiRank\": 0.40000955526842863, \"global_BGRM\": 0.30921638986473965, \"cat\": \"local_closeness\"}, {\"global_degree\": 0.8515038715310228, \"local_degree\": 0.06286135056159178, \"global_clustering\": -0.4099358673073842, \"local_clustering\": -0.4099358673073842, \"global_closeness\": 0.24522027472256852, \"local_closeness\": 0.37792586653140087, \"global_betweenness\": 1.0, \"local_betweenness\": 1.0000000000000004, \"local_katz\": 0.4989382424764076, \"local_louvain\": -0.013531265382955212, \"local_HITS\": -0.01788201814855033, \"local_CoHITS\": -0.01728703930242991, \"local_BiRank\": -0.018745731904937606, \"local_BGRM\": -0.01983207358683462, \"global_katz\": 0.49923619393664104, \"global_louvain\": -0.017881352878488514, \"global_HITS\": 0.3751949604434138, \"global_CoHITS\": 0.8072849386612878, \"global_BiRank\": 0.6723980694118258, \"global_BGRM\": -0.003743484248599015, \"cat\": \"global_betweenness\"}, {\"global_degree\": 0.8515038715310211, \"local_degree\": 0.06286135056159203, \"global_clustering\": -0.4099358673073834, \"local_clustering\": -0.4099358673073834, \"global_closeness\": 0.24522027472256902, \"local_closeness\": 0.3779258665313989, \"global_betweenness\": 1.0000000000000004, \"local_betweenness\": 1.0, \"local_katz\": 0.4989382424764058, \"local_louvain\": -0.013531265382955049, \"local_HITS\": -0.017882018148550265, \"local_CoHITS\": -0.01728703930242983, \"local_BiRank\": -0.018745731904937418, \"local_BGRM\": -0.01983207358683455, \"global_katz\": 0.49923619393664137, \"global_louvain\": -0.01788135287848843, \"global_HITS\": 0.3751949604434122, \"global_CoHITS\": 0.807284938661288, \"global_BiRank\": 0.6723980694118257, \"global_BGRM\": -0.0037434842485995746, \"cat\": \"local_betweenness\"}, {\"global_degree\": 0.5689203718830326, \"local_degree\": 0.19160770838847788, \"global_clustering\": -0.44615571220255856, \"local_clustering\": -0.44615571220255856, \"global_closeness\": 0.8519100099139137, \"local_closeness\": 0.8621973917155584, \"global_betweenness\": 0.4989382424764076, \"local_betweenness\": 0.4989382424764058, \"local_katz\": 1.0, \"local_louvain\": -0.16691626553591635, \"local_HITS\": 0.02699012430897114, \"local_CoHITS\": 0.00038076438909884273, \"local_BiRank\": -0.0059223729526769135, \"local_BGRM\": -0.012748660483803092, \"global_katz\": 0.9999999999999757, \"global_louvain\": -0.16748905255548016, \"global_HITS\": 0.7939398487163377, \"global_CoHITS\": 0.44348688482960963, \"global_BiRank\": 0.3755135491995381, \"global_BGRM\": -0.18915051444464737, \"cat\": \"local_katz\"}, {\"global_degree\": -0.07157324420615926, \"local_degree\": -0.041197302949291685, \"global_clustering\": 0.18535785091735527, \"local_clustering\": 0.18535785091735527, \"global_closeness\": -0.197827099948996, \"local_closeness\": -0.19890486148933978, \"global_betweenness\": -0.013531265382955212, \"local_betweenness\": -0.013531265382955049, \"local_katz\": -0.16691626553591635, \"local_louvain\": 1.0, \"local_HITS\": -0.022971740692409627, \"local_CoHITS\": -0.017127575765046758, \"local_BiRank\": -0.016541311894032823, \"local_BGRM\": -0.016112193459365067, \"global_katz\": -0.16691626135082854, \"global_louvain\": 0.9981366473360078, \"global_HITS\": -0.1278632923376906, \"global_CoHITS\": -0.014579285540120307, \"global_BiRank\": 0.012781304501609502, \"global_BGRM\": 0.11059725994571645, \"cat\": \"local_louvain\"}, {\"global_degree\": -0.03192486753184859, \"local_degree\": 0.9792746730056687, \"global_clustering\": -0.08918691877839308, \"local_clustering\": -0.08918691877839308, \"global_closeness\": 0.8029552806920168, \"local_closeness\": 0.4567503710035468, \"global_betweenness\": -0.01788201814855033, \"local_betweenness\": -0.017882018148550265, \"local_katz\": 0.02699012430897114, \"local_louvain\": -0.022971740692409627, \"local_HITS\": 1.0, \"local_CoHITS\": 0.9999812234603137, \"local_BiRank\": 0.9993426891487989, \"local_BGRM\": 0.9940669234997891, \"global_katz\": -0.03914378764599256, \"global_louvain\": 0.22230157412785376, \"global_HITS\": -0.02719212009428115, \"global_CoHITS\": 0.21835508504808668, \"global_BiRank\": 0.2845221383898337, \"global_BGRM\": 0.9418326155977458, \"cat\": \"local_HITS\"}, {\"global_degree\": -0.03127594939065743, \"local_degree\": 0.9793532431145293, \"global_clustering\": -0.08899014144563168, \"local_clustering\": -0.08899014144563168, \"global_closeness\": 0.8011725986479664, \"local_closeness\": 0.4540987988660429, \"global_betweenness\": -0.01728703930242991, \"local_betweenness\": -0.01728703930242983, \"local_katz\": 0.00038076438909884273, \"local_louvain\": -0.017127575765046758, \"local_HITS\": 0.9999812234603137, \"local_CoHITS\": 1.0, \"local_BiRank\": 0.9993610124986553, \"local_BGRM\": 0.9940826680317737, \"global_katz\": -0.04277087806749102, \"global_louvain\": 0.22308348163403263, \"global_HITS\": -0.032299934578599136, \"global_CoHITS\": 0.21929834148012398, \"global_BiRank\": 0.28574735126129297, \"global_BGRM\": 0.9424733140295939, \"cat\": \"local_CoHITS\"}, {\"global_degree\": -0.03277158953701047, \"local_degree\": 0.9849839997106354, \"global_clustering\": -0.08405193106940004, \"local_clustering\": -0.08405193106940004, \"global_closeness\": 0.8008444409397836, \"local_closeness\": 0.4561095545424871, \"global_betweenness\": -0.018745731904937606, \"local_betweenness\": -0.018745731904937418, \"local_katz\": -0.0059223729526769135, \"local_louvain\": -0.016541311894032823, \"local_HITS\": 0.9993426891487989, \"local_CoHITS\": 0.9993610124986553, \"local_BiRank\": 1.0, \"local_BGRM\": 0.9895759185934629, \"global_katz\": -0.043748030030772385, \"global_louvain\": 0.22368298158018715, \"global_HITS\": -0.033201913692109786, \"global_CoHITS\": 0.21764051524228245, \"global_BiRank\": 0.28505057751677365, \"global_BGRM\": 0.938094330744264, \"cat\": \"local_BiRank\"}, {\"global_degree\": -0.033835362881252176, \"local_degree\": 0.9538425572269891, \"global_clustering\": -0.09950127223705765, \"local_clustering\": -0.09950127223705765, \"global_closeness\": 0.793578445710242, \"local_closeness\": 0.44099612687792544, \"global_betweenness\": -0.01983207358683462, \"local_betweenness\": -0.01983207358683455, \"local_katz\": -0.012748660483803092, \"local_louvain\": -0.016112193459365067, \"local_HITS\": 0.9940669234997891, \"local_CoHITS\": 0.9940826680317737, \"local_BiRank\": 0.9895759185934629, \"local_BGRM\": 1.0, \"global_katz\": -0.04333532760680452, \"global_louvain\": 0.21985514521487826, \"global_HITS\": -0.03301425025740867, \"global_CoHITS\": 0.2150149353184291, \"global_BiRank\": 0.27937385718528257, \"global_BGRM\": 0.9481824936006582, \"cat\": \"local_BGRM\"}, {\"global_degree\": 0.5695358416865447, \"local_degree\": 0.010791859951315675, \"global_clustering\": -0.43821580871705706, \"local_clustering\": -0.43821580871705706, \"global_closeness\": 0.4861741525100765, \"local_closeness\": 0.7521827728580073, \"global_betweenness\": 0.49923619393664104, \"local_betweenness\": 0.49923619393664137, \"local_katz\": 0.9999999999999757, \"local_louvain\": -0.16691626135082854, \"local_HITS\": -0.03914378764599256, \"local_CoHITS\": -0.04277087806749102, \"local_BiRank\": -0.043748030030772385, \"local_BGRM\": -0.04333532760680452, \"global_katz\": 1.0, \"global_louvain\": -0.1727086655961457, \"global_HITS\": 0.7941954669867721, \"global_CoHITS\": 0.42354937321939606, \"global_BiRank\": 0.34820671476423165, \"global_BGRM\": -0.10134178415013592, \"cat\": \"global_katz\"}, {\"global_degree\": -0.0777037793409431, \"local_degree\": 0.2148905760776509, \"global_clustering\": 0.16304373317142368, \"local_clustering\": 0.16304373317142368, \"global_closeness\": 0.063011750532458, \"local_closeness\": -0.06908523463091414, \"global_betweenness\": -0.017881352878488514, \"local_betweenness\": -0.01788135287848843, \"local_katz\": -0.16748905255548016, \"local_louvain\": 0.9981366473360078, \"local_HITS\": 0.22230157412785376, \"local_CoHITS\": 0.22308348163403263, \"local_BiRank\": 0.22368298158018715, \"local_BGRM\": 0.21985514521487826, \"global_katz\": -0.1727086655961457, \"global_louvain\": 1.0, \"global_HITS\": -0.1323063042578536, \"global_CoHITS\": 0.03458408083792838, \"global_BiRank\": 0.07599511745834507, \"global_BGRM\": 0.2439675741139884, \"cat\": \"global_louvain\"}, {\"global_degree\": 0.4237162648690608, \"local_degree\": 0.007227156315365893, \"global_clustering\": -0.3393152950004353, \"local_clustering\": -0.3393152950004353, \"global_closeness\": 0.3796067481590727, \"local_closeness\": 0.5866960985404384, \"global_betweenness\": 0.3751949604434138, \"local_betweenness\": 0.3751949604434122, \"local_katz\": 0.7939398487163377, \"local_louvain\": -0.1278632923376906, \"local_HITS\": -0.02719212009428115, \"local_CoHITS\": -0.032299934578599136, \"local_BiRank\": -0.033201913692109786, \"local_BGRM\": -0.03301425025740867, \"global_katz\": 0.7941954669867721, \"global_louvain\": -0.1323063042578536, \"global_HITS\": 1.0, \"global_CoHITS\": 0.3967683449065128, \"global_BiRank\": 0.31318868020544477, \"global_BGRM\": -0.08068812093150707, \"cat\": \"global_HITS\"}, {\"global_degree\": 0.902578038078094, \"local_degree\": 0.29955575075301477, \"global_clustering\": -0.5647322590197892, \"local_clustering\": -0.5647322590197892, \"global_closeness\": 0.4123840247947545, \"local_closeness\": 0.45253328287200173, \"global_betweenness\": 0.8072849386612878, \"local_betweenness\": 0.807284938661288, \"local_katz\": 0.44348688482960963, \"local_louvain\": -0.014579285540120307, \"local_HITS\": 0.21835508504808668, \"local_CoHITS\": 0.21929834148012398, \"local_BiRank\": 0.21764051524228245, \"local_BGRM\": 0.2150149353184291, \"global_katz\": 0.42354937321939606, \"global_louvain\": 0.03458408083792838, \"global_HITS\": 0.3967683449065128, \"global_CoHITS\": 1.0, \"global_BiRank\": 0.9461878666262995, \"global_BGRM\": 0.2813208520846643, \"cat\": \"global_CoHITS\"}, {\"global_degree\": 0.831828958283235, \"local_degree\": 0.36143596130583217, \"global_clustering\": -0.60501733772846, \"local_clustering\": -0.60501733772846, \"global_closeness\": 0.40921236603357203, \"local_closeness\": 0.40000955526842863, \"global_betweenness\": 0.6723980694118258, \"local_betweenness\": 0.6723980694118257, \"local_katz\": 0.3755135491995381, \"local_louvain\": 0.012781304501609502, \"local_HITS\": 0.2845221383898337, \"local_CoHITS\": 0.28574735126129297, \"local_BiRank\": 0.28505057751677365, \"local_BGRM\": 0.27937385718528257, \"global_katz\": 0.34820671476423165, \"global_louvain\": 0.07599511745834507, \"global_HITS\": 0.31318868020544477, \"global_CoHITS\": 0.9461878666262995, \"global_BiRank\": 1.0, \"global_BGRM\": 0.37508451201579324, \"cat\": \"global_BiRank\"}, {\"global_degree\": -0.026676624437761143, \"local_degree\": 0.9040855710271801, \"global_clustering\": -0.08934305191989642, \"local_clustering\": -0.08934305191989642, \"global_closeness\": 0.678820728466351, \"local_closeness\": 0.30921638986473965, \"global_betweenness\": -0.003743484248599015, \"local_betweenness\": -0.0037434842485995746, \"local_katz\": -0.18915051444464737, \"local_louvain\": 0.11059725994571645, \"local_HITS\": 0.9418326155977458, \"local_CoHITS\": 0.9424733140295939, \"local_BiRank\": 0.938094330744264, \"local_BGRM\": 0.9481824936006582, \"global_katz\": -0.10134178415013592, \"global_louvain\": 0.2439675741139884, \"global_HITS\": -0.08068812093150707, \"global_CoHITS\": 0.2813208520846643, \"global_BiRank\": 0.37508451201579324, \"global_BGRM\": 1.0, \"cat\": \"global_BGRM\"}], \"data-9645b339e77e6485949330c563678fd2\": [{\"global_degree\": 1.0, \"local_degree\": 0.09292197295474046, \"global_clustering\": -0.5986675353746463, \"local_clustering\": -0.5986675353746463, \"global_closeness\": 0.32503099535305013, \"local_closeness\": 0.5105795908442562, \"global_betweenness\": 0.8323745455993321, \"local_betweenness\": 0.8323745455993335, \"local_katz\": 0.8269307259234515, \"local_louvain\": -0.024796492358008647, \"local_HITS\": -0.026536808222068695, \"local_CoHITS\": -0.0256694710622257, \"local_BiRank\": -0.027962593771356604, \"local_BGRM\": -0.027557848702157592, \"global_katz\": 0.8270921644819069, \"global_louvain\": -0.030019930229929524, \"global_HITS\": 0.0431272687895308, \"global_CoHITS\": 0.8728309212706735, \"global_BiRank\": 0.8573484367875807, \"global_BGRM\": -0.02419018185039533, \"cat\": \"global_degree\"}, {\"global_degree\": 0.09292197295474046, \"local_degree\": 1.0, \"global_clustering\": -0.03852263238986132, \"local_clustering\": -0.03852263238986132, \"global_closeness\": 0.8345370560713331, \"local_closeness\": 0.602889634712691, \"global_betweenness\": 0.0875872077842951, \"local_betweenness\": 0.08758720778429452, \"local_katz\": 0.2452424743896778, \"local_louvain\": -0.03070156969758103, \"local_HITS\": 0.9278448158680207, \"local_CoHITS\": 0.9305394463100786, \"local_BiRank\": 0.9524301183044599, \"local_BGRM\": 0.859344772266152, \"global_katz\": 0.061237572406717185, \"global_louvain\": 0.1622781131794694, \"global_HITS\": 0.0022609595763032272, \"global_CoHITS\": 0.25861692166589173, \"global_BiRank\": 0.33140732189688427, \"global_BGRM\": 0.8078817082069956, \"cat\": \"local_degree\"}, {\"global_degree\": -0.5986675353746463, \"local_degree\": -0.03852263238986132, \"global_clustering\": 1.0, \"local_clustering\": 1.0, \"global_closeness\": -0.3854557562475426, \"local_closeness\": -0.5418955138146967, \"global_betweenness\": -0.35070557220339593, \"local_betweenness\": -0.35070557220339565, \"local_katz\": -0.5588078236152679, \"local_louvain\": 0.031554002885963564, \"local_HITS\": -0.03173543173232615, \"local_CoHITS\": -0.030764546124076687, \"local_BiRank\": -0.017221683420050905, \"local_BGRM\": -0.05910460248760077, \"global_katz\": -0.551750279281821, \"global_louvain\": 0.03442299830318129, \"global_HITS\": -0.046196123880131425, \"global_CoHITS\": -0.5096276458834482, \"global_BiRank\": -0.5975507999105326, \"global_BGRM\": -0.046944055247085385, \"cat\": \"global_clustering\"}, {\"global_degree\": -0.5986675353746463, \"local_degree\": -0.03852263238986132, \"global_clustering\": 1.0, \"local_clustering\": 1.0, \"global_closeness\": -0.3854557562475426, \"local_closeness\": -0.5418955138146967, \"global_betweenness\": -0.35070557220339593, \"local_betweenness\": -0.35070557220339565, \"local_katz\": -0.5588078236152679, \"local_louvain\": 0.031554002885963564, \"local_HITS\": -0.03173543173232615, \"local_CoHITS\": -0.030764546124076687, \"local_BiRank\": -0.017221683420050905, \"local_BGRM\": -0.05910460248760077, \"global_katz\": -0.551750279281821, \"global_louvain\": 0.03442299830318129, \"global_HITS\": -0.046196123880131425, \"global_CoHITS\": -0.5096276458834482, \"global_BiRank\": -0.5975507999105326, \"global_BGRM\": -0.046944055247085385, \"cat\": \"local_clustering\"}, {\"global_degree\": 0.32503099535305013, \"local_degree\": 0.8345370560713331, \"global_clustering\": -0.3854557562475426, \"local_clustering\": -0.3854557562475426, \"global_closeness\": 1.0, \"local_closeness\": 0.9008137197765539, \"global_betweenness\": 0.233148875799769, \"local_betweenness\": 0.23314887579976912, \"local_katz\": 0.7238289176783217, \"local_louvain\": -0.04379347395144758, \"local_HITS\": 0.8271298611660751, \"local_CoHITS\": 0.8285367990020646, \"local_BiRank\": 0.8302799568745023, \"local_BGRM\": 0.8053607164250853, \"global_katz\": 0.3958621907179013, \"global_louvain\": 0.11806894309972246, \"global_HITS\": 0.02649971566863544, \"global_CoHITS\": 0.40434434706483485, \"global_BiRank\": 0.4478929818037631, \"global_BGRM\": 0.6867791762126926, \"cat\": \"global_closeness\"}, {\"global_degree\": 0.5105795908442562, \"local_degree\": 0.602889634712691, \"global_clustering\": -0.5418955138146967, \"local_clustering\": -0.5418955138146967, \"global_closeness\": 0.9008137197765539, \"local_closeness\": 1.0, \"global_betweenness\": 0.3618810188276379, \"local_betweenness\": 0.36188101882763724, \"local_katz\": 0.7441020030503258, \"local_louvain\": -0.04272688352723509, \"local_HITS\": 0.5092487348904672, \"local_CoHITS\": 0.509321714226744, \"local_BiRank\": 0.5205868871418046, \"local_BGRM\": 0.46873075838520845, \"global_katz\": 0.6239829644704857, \"global_louvain\": 0.05861906952581064, \"global_HITS\": 0.04197770055755631, \"global_CoHITS\": 0.4876246648432177, \"global_BiRank\": 0.5045032863385173, \"global_BGRM\": 0.3326813499782531, \"cat\": \"local_closeness\"}, {\"global_degree\": 0.8323745455993321, \"local_degree\": 0.0875872077842951, \"global_clustering\": -0.35070557220339593, \"local_clustering\": -0.35070557220339593, \"global_closeness\": 0.233148875799769, \"local_closeness\": 0.3618810188276379, \"global_betweenness\": 1.0, \"local_betweenness\": 0.9999999999999971, \"local_katz\": 0.6624678263349738, \"local_louvain\": -0.0072200041855231085, \"local_HITS\": -0.01312854012645313, \"local_CoHITS\": -0.011520062527253162, \"local_BiRank\": -0.013577991498262849, \"local_BGRM\": -0.014023256947070743, \"global_katz\": 0.6624757468288176, \"global_louvain\": -0.00996213890856541, \"global_HITS\": 0.027150671199190998, \"global_CoHITS\": 0.7723592674990967, \"global_BiRank\": 0.6595554790439258, \"global_BGRM\": -0.0006388600207523002, \"cat\": \"global_betweenness\"}, {\"global_degree\": 0.8323745455993335, \"local_degree\": 0.08758720778429452, \"global_clustering\": -0.35070557220339565, \"local_clustering\": -0.35070557220339565, \"global_closeness\": 0.23314887579976912, \"local_closeness\": 0.36188101882763724, \"global_betweenness\": 0.9999999999999971, \"local_betweenness\": 1.0, \"local_katz\": 0.6624678263349735, \"local_louvain\": -0.007220004185522832, \"local_HITS\": -0.013128540126453321, \"local_CoHITS\": -0.011520062527253178, \"local_BiRank\": -0.01357799149826286, \"local_BGRM\": -0.014023256947070772, \"global_katz\": 0.662475746828816, \"global_louvain\": -0.009962138908565149, \"global_HITS\": 0.027150671199190405, \"global_CoHITS\": 0.7723592674990917, \"global_BiRank\": 0.6595554790439261, \"global_BGRM\": -0.0006388600207517358, \"cat\": \"local_betweenness\"}, {\"global_degree\": 0.8269307259234515, \"local_degree\": 0.2452424743896778, \"global_clustering\": -0.5588078236152679, \"local_clustering\": -0.5588078236152679, \"global_closeness\": 0.7238289176783217, \"local_closeness\": 0.7441020030503258, \"global_betweenness\": 0.6624678263349738, \"local_betweenness\": 0.6624678263349735, \"local_katz\": 1.0, \"local_louvain\": -0.06469412579841329, \"local_HITS\": 0.009553669318460457, \"local_CoHITS\": 0.0009715378751610421, \"local_BiRank\": -0.007514763433079455, \"local_BGRM\": -0.015829359559494754, \"global_katz\": 0.9999999999994084, \"global_louvain\": -0.06581529352629184, \"global_HITS\": 0.06634543707745719, \"global_CoHITS\": 0.6795542500581324, \"global_BiRank\": 0.6573585892594322, \"global_BGRM\": -0.12819380224473814, \"cat\": \"local_katz\"}, {\"global_degree\": -0.024796492358008647, \"local_degree\": -0.03070156969758103, \"global_clustering\": 0.031554002885963564, \"local_clustering\": 0.031554002885963564, \"global_closeness\": -0.04379347395144758, \"local_closeness\": -0.04272688352723509, \"global_betweenness\": -0.0072200041855231085, \"local_betweenness\": -0.007220004185522832, \"local_katz\": -0.06469412579841329, \"local_louvain\": 1.0, \"local_HITS\": -0.0019024312259489405, \"local_CoHITS\": -0.02296410801968945, \"local_BiRank\": -0.023527672578779066, \"local_BGRM\": -0.022879254580634816, \"global_katz\": -0.06469410047324091, \"global_louvain\": 0.997218056181132, \"global_HITS\": 0.055240530115889745, \"global_CoHITS\": 0.023255420015831165, \"global_BiRank\": 0.018428764554863974, \"global_BGRM\": 0.05395651092795417, \"cat\": \"local_louvain\"}, {\"global_degree\": -0.026536808222068695, \"local_degree\": 0.9278448158680207, \"global_clustering\": -0.03173543173232615, \"local_clustering\": -0.03173543173232615, \"global_closeness\": 0.8271298611660751, \"local_closeness\": 0.5092487348904672, \"global_betweenness\": -0.01312854012645313, \"local_betweenness\": -0.013128540126453321, \"local_katz\": 0.009553669318460457, \"local_louvain\": -0.0019024312259489405, \"local_HITS\": 1.0, \"local_CoHITS\": 0.9973278072730459, \"local_BiRank\": 0.9947527063850421, \"local_BGRM\": 0.982403469582889, \"global_katz\": -0.03431568298655211, \"global_louvain\": 0.16917774128590388, \"global_HITS\": 0.07160481676103295, \"global_CoHITS\": 0.18825484377641935, \"global_BiRank\": 0.2442612077355065, \"global_BGRM\": 0.9250263384634134, \"cat\": \"local_HITS\"}, {\"global_degree\": -0.0256694710622257, \"local_degree\": 0.9305394463100786, \"global_clustering\": -0.030764546124076687, \"local_clustering\": -0.030764546124076687, \"global_closeness\": 0.8285367990020646, \"local_closeness\": 0.509321714226744, \"global_betweenness\": -0.011520062527253162, \"local_betweenness\": -0.011520062527253178, \"local_katz\": 0.0009715378751610421, \"local_louvain\": -0.02296410801968945, \"local_HITS\": 0.9973278072730459, \"local_CoHITS\": 1.0, \"local_BiRank\": 0.9974930351182834, \"local_BGRM\": 0.985133165968907, \"global_katz\": -0.03618968951731219, \"global_louvain\": 0.16569121188750677, \"global_HITS\": -0.0013238031345435021, \"global_CoHITS\": 0.16799915799841142, \"global_BiRank\": 0.23723364336587618, \"global_BGRM\": 0.9283757955178211, \"cat\": \"local_CoHITS\"}, {\"global_degree\": -0.027962593771356604, \"local_degree\": 0.9524301183044599, \"global_clustering\": -0.017221683420050905, \"local_clustering\": -0.017221683420050905, \"global_closeness\": 0.8302799568745023, \"local_closeness\": 0.5205868871418046, \"global_betweenness\": -0.013577991498262849, \"local_betweenness\": -0.01357799149826286, \"local_katz\": -0.007514763433079455, \"local_louvain\": -0.023527672578779066, \"local_HITS\": 0.9947527063850421, \"local_CoHITS\": 0.9974930351182834, \"local_BiRank\": 1.0, \"local_BGRM\": 0.9708539608124885, \"global_katz\": -0.03839402592089991, \"global_louvain\": 0.16753765374963792, \"global_HITS\": -0.0025249034038938288, \"global_CoHITS\": 0.16507926209752913, \"global_BiRank\": 0.23667442033004363, \"global_BGRM\": 0.914517203205438, \"cat\": \"local_BiRank\"}, {\"global_degree\": -0.027557848702157592, \"local_degree\": 0.859344772266152, \"global_clustering\": -0.05910460248760077, \"local_clustering\": -0.05910460248760077, \"global_closeness\": 0.8053607164250853, \"local_closeness\": 0.46873075838520845, \"global_betweenness\": -0.014023256947070743, \"local_betweenness\": -0.014023256947070772, \"local_katz\": -0.015829359559494754, \"local_louvain\": -0.022879254580634816, \"local_HITS\": 0.982403469582889, \"local_CoHITS\": 0.985133165968907, \"local_BiRank\": 0.9708539608124885, \"local_BGRM\": 1.0, \"global_katz\": -0.03641581615493024, \"global_louvain\": 0.15781542418812008, \"global_HITS\": -0.0027135468624580965, \"global_CoHITS\": 0.16231599756252071, \"global_BiRank\": 0.22620496941104692, \"global_BGRM\": 0.9431412246704902, \"cat\": \"local_BGRM\"}, {\"global_degree\": 0.8270921644819069, \"local_degree\": 0.061237572406717185, \"global_clustering\": -0.551750279281821, \"local_clustering\": -0.551750279281821, \"global_closeness\": 0.3958621907179013, \"local_closeness\": 0.6239829644704857, \"global_betweenness\": 0.6624757468288176, \"local_betweenness\": 0.662475746828816, \"local_katz\": 0.9999999999994084, \"local_louvain\": -0.06469410047324091, \"local_HITS\": -0.03431568298655211, \"local_CoHITS\": -0.03618968951731219, \"local_BiRank\": -0.03839402592089991, \"local_BGRM\": -0.03641581615493024, \"global_katz\": 1.0, \"global_louvain\": -0.07109698384328002, \"global_HITS\": 0.06640747800071123, \"global_CoHITS\": 0.664245386624231, \"global_BiRank\": 0.6311498066832519, \"global_BGRM\": -0.07671897649847782, \"cat\": \"global_katz\"}, {\"global_degree\": -0.030019930229929524, \"local_degree\": 0.1622781131794694, \"global_clustering\": 0.03442299830318129, \"local_clustering\": 0.03442299830318129, \"global_closeness\": 0.11806894309972246, \"local_closeness\": 0.05861906952581064, \"global_betweenness\": -0.00996213890856541, \"local_betweenness\": -0.009962138908565149, \"local_katz\": -0.06581529352629184, \"local_louvain\": 0.997218056181132, \"local_HITS\": 0.16917774128590388, \"local_CoHITS\": 0.16569121188750677, \"local_BiRank\": 0.16753765374963792, \"local_BGRM\": 0.15781542418812008, \"global_katz\": -0.07109698384328002, \"global_louvain\": 1.0, \"global_HITS\": 0.0539022849509653, \"global_CoHITS\": 0.050039738873330825, \"global_BiRank\": 0.05825939592977326, \"global_BGRM\": 0.1682988487673591, \"cat\": \"global_louvain\"}, {\"global_degree\": 0.0431272687895308, \"local_degree\": 0.0022609595763032272, \"global_clustering\": -0.046196123880131425, \"local_clustering\": -0.046196123880131425, \"global_closeness\": 0.02649971566863544, \"local_closeness\": 0.04197770055755631, \"global_betweenness\": 0.027150671199190998, \"local_betweenness\": 0.027150671199190405, \"local_katz\": 0.06634543707745719, \"local_louvain\": 0.055240530115889745, \"local_HITS\": 0.07160481676103295, \"local_CoHITS\": -0.0013238031345435021, \"local_BiRank\": -0.0025249034038938288, \"local_BGRM\": -0.0027135468624580965, \"global_katz\": 0.06640747800071123, \"global_louvain\": 0.0539022849509653, \"global_HITS\": 1.0, \"global_CoHITS\": 0.3392528091729133, \"global_BiRank\": 0.1589123446017084, \"global_BGRM\": -0.009016154045497996, \"cat\": \"global_HITS\"}, {\"global_degree\": 0.8728309212706735, \"local_degree\": 0.25861692166589173, \"global_clustering\": -0.5096276458834482, \"local_clustering\": -0.5096276458834482, \"global_closeness\": 0.40434434706483485, \"local_closeness\": 0.4876246648432177, \"global_betweenness\": 0.7723592674990967, \"local_betweenness\": 0.7723592674990917, \"local_katz\": 0.6795542500581324, \"local_louvain\": 0.023255420015831165, \"local_HITS\": 0.18825484377641935, \"local_CoHITS\": 0.16799915799841142, \"local_BiRank\": 0.16507926209752913, \"local_BGRM\": 0.16231599756252071, \"global_katz\": 0.664245386624231, \"global_louvain\": 0.050039738873330825, \"global_HITS\": 0.3392528091729133, \"global_CoHITS\": 1.0, \"global_BiRank\": 0.929243873740834, \"global_BGRM\": 0.21501188130570267, \"cat\": \"global_CoHITS\"}, {\"global_degree\": 0.8573484367875807, \"local_degree\": 0.33140732189688427, \"global_clustering\": -0.5975507999105326, \"local_clustering\": -0.5975507999105326, \"global_closeness\": 0.4478929818037631, \"local_closeness\": 0.5045032863385173, \"global_betweenness\": 0.6595554790439258, \"local_betweenness\": 0.6595554790439261, \"local_katz\": 0.6573585892594322, \"local_louvain\": 0.018428764554863974, \"local_HITS\": 0.2442612077355065, \"local_CoHITS\": 0.23723364336587618, \"local_BiRank\": 0.23667442033004363, \"local_BGRM\": 0.22620496941104692, \"global_katz\": 0.6311498066832519, \"global_louvain\": 0.05825939592977326, \"global_HITS\": 0.1589123446017084, \"global_CoHITS\": 0.929243873740834, \"global_BiRank\": 1.0, \"global_BGRM\": 0.30752938124386253, \"cat\": \"global_BiRank\"}, {\"global_degree\": -0.02419018185039533, \"local_degree\": 0.8078817082069956, \"global_clustering\": -0.046944055247085385, \"local_clustering\": -0.046944055247085385, \"global_closeness\": 0.6867791762126926, \"local_closeness\": 0.3326813499782531, \"global_betweenness\": -0.0006388600207523002, \"local_betweenness\": -0.0006388600207517358, \"local_katz\": -0.12819380224473814, \"local_louvain\": 0.05395651092795417, \"local_HITS\": 0.9250263384634134, \"local_CoHITS\": 0.9283757955178211, \"local_BiRank\": 0.914517203205438, \"local_BGRM\": 0.9431412246704902, \"global_katz\": -0.07671897649847782, \"global_louvain\": 0.1682988487673591, \"global_HITS\": -0.009016154045497996, \"global_CoHITS\": 0.21501188130570267, \"global_BiRank\": 0.30752938124386253, \"global_BGRM\": 1.0, \"cat\": \"global_BGRM\"}]}}, {\"mode\": \"vega-lite\"});\n",
       "</script>"
      ],
      "text/plain": [
       "alt.HConcatChart(...)"
      ]
     },
     "execution_count": 15,
     "metadata": {},
     "output_type": "execute_result"
    }
   ],
   "source": [
    "unexceptional_corr_books_chart = generate_corr_chart(\n",
    "    unexceptional_books_corr, 'book correlations for unexceptional data')\n",
    "no_rk_corr_books_chart = generate_corr_chart(\n",
    "    no_rk_books_corr, 'book correlations for no rk data')\n",
    "all_events_corr_books_chart = generate_corr_chart(\n",
    "    all_events_books_corr, 'book correlations for all events data')\n",
    "\n",
    "alt.hconcat(*[all_events_corr_books_chart,\n",
    "            unexceptional_corr_books_chart, no_rk_corr_books_chart])\n"
   ]
  },
  {
   "cell_type": "code",
   "execution_count": 16,
   "metadata": {},
   "outputs": [
    {
     "data": {
      "text/plain": [
       "(536, 508, 534)"
      ]
     },
     "execution_count": 16,
     "metadata": {},
     "output_type": "execute_result"
    }
   ],
   "source": [
    "len(all_events_members), len(unexceptional_members), len(no_rk_members)"
   ]
  },
  {
   "cell_type": "code",
   "execution_count": 17,
   "metadata": {},
   "outputs": [],
   "source": [
    "members = all_events_members.copy()\n",
    "members_unex = unexceptional_members.copy()\n",
    "members_no_rk = no_rk_members.copy()\n",
    "\n",
    "for c in columns:\n",
    "    members = members.rename(columns={c: c.replace('local', 'all_events_local').replace('global', 'all_events_global')})\n",
    "    members_unex = members_unex.rename(columns={c: c.replace('local', 'unexceptional_local').replace('global', 'unexceptional_global')})\n",
    "    members_no_rk = members_no_rk.rename(columns={c: c.replace('local', 'no_rk_local').replace('global', 'no_rk_global')})"
   ]
  },
  {
   "cell_type": "code",
   "execution_count": 18,
   "metadata": {},
   "outputs": [],
   "source": [
    "joined_columns = [c for c in members.columns if ('local' in c) | ('global' in c) | ('component' != c)]\n",
    "joined_columns = list(set(members.columns) - set(joined_columns))"
   ]
  },
  {
   "cell_type": "code",
   "execution_count": null,
   "metadata": {},
   "outputs": [],
   "source": [
    "merged_members = pd.merge(members, members_unex, on=joined_columns, how='outer')\n",
    "merged_membs = pd.merge(merged_members, members_no_rk, on=joined_columns, how='outer')\n"
   ]
  },
  {
   "cell_type": "code",
   "execution_count": null,
   "metadata": {},
   "outputs": [
    {
     "ename": "Error",
     "evalue": "Kernel is dead",
     "output_type": "error",
     "traceback": [
      "Error: Kernel is dead",
      "at g._sendKernelShellControl (/Users/EZCorp/.vscode/extensions/ms-toolsai.jupyter-2021.9.1101343141/out/client/extension.js:52:1006305)",
      "at g.sendShellMessage (/Users/EZCorp/.vscode/extensions/ms-toolsai.jupyter-2021.9.1101343141/out/client/extension.js:52:1006074)",
      "at g.requestExecute (/Users/EZCorp/.vscode/extensions/ms-toolsai.jupyter-2021.9.1101343141/out/client/extension.js:52:1008616)",
      "at d.requestExecute (/Users/EZCorp/.vscode/extensions/ms-toolsai.jupyter-2021.9.1101343141/out/client/extension.js:37:328037)",
      "at S.requestExecute (/Users/EZCorp/.vscode/extensions/ms-toolsai.jupyter-2021.9.1101343141/out/client/extension.js:32:19306)",
      "at w.executeCodeCell (/Users/EZCorp/.vscode/extensions/ms-toolsai.jupyter-2021.9.1101343141/out/client/extension.js:52:300924)",
      "at w.execute (/Users/EZCorp/.vscode/extensions/ms-toolsai.jupyter-2021.9.1101343141/out/client/extension.js:52:300551)",
      "at w.start (/Users/EZCorp/.vscode/extensions/ms-toolsai.jupyter-2021.9.1101343141/out/client/extension.js:52:296215)",
      "at runMicrotasks (<anonymous>)",
      "at processTicksAndRejections (internal/process/task_queues.js:93:5)",
      "at t.CellExecutionQueue.executeQueuedCells (/Users/EZCorp/.vscode/extensions/ms-toolsai.jupyter-2021.9.1101343141/out/client/extension.js:52:310950)",
      "at t.CellExecutionQueue.start (/Users/EZCorp/.vscode/extensions/ms-toolsai.jupyter-2021.9.1101343141/out/client/extension.js:52:310490)"
     ]
    }
   ],
   "source": [
    "merged_members[merged_members.uri == 'fitzherbert']\n"
   ]
  },
  {
   "cell_type": "code",
   "execution_count": null,
   "metadata": {},
   "outputs": [],
   "source": [
    "subset_cols = merged_members.columns\n",
    "subset_cols = [c for c in subset_cols if ('degree' in c) ]\n",
    "merged_members[merged_members.exceptional_types.isna() == False][subset_cols + ['uri']]\n"
   ]
  },
  {
   "cell_type": "code",
   "execution_count": null,
   "metadata": {},
   "outputs": [],
   "source": [
    "all_events_members[all_events_members.member_id == 'fitzherbert']\n"
   ]
  },
  {
   "cell_type": "code",
   "execution_count": null,
   "metadata": {},
   "outputs": [],
   "source": [
    "members_all = all_events_members.uri.unique().tolist()\n",
    "\n",
    "members_unex = unexceptional_members.uri.unique().tolist()\n",
    "print(set(members_all) - set(members_unex), set(members_unex) - set(members_all))"
   ]
  },
  {
   "cell_type": "code",
   "execution_count": null,
   "metadata": {},
   "outputs": [],
   "source": [
    "cols = all_events_members.columns.to_list()\n",
    "df_type = 'all_events'\n",
    "for c in cols:\n",
    "    all_events_members = all_events_members.rename(columns={c: c + '_' + df_type})"
   ]
  },
  {
   "cell_type": "code",
   "execution_count": null,
   "metadata": {},
   "outputs": [],
   "source": [
    "all_events_members"
   ]
  },
  {
   "cell_type": "markdown",
   "metadata": {},
   "source": [
    "### Unipartite Comparisons\n",
    "\n",
    "#### Comparing Across Entire Time of Sco Library"
   ]
  },
  {
   "cell_type": "code",
   "execution_count": null,
   "metadata": {},
   "outputs": [],
   "source": [
    "member_attrs = {'uri': 'member_id'}\n",
    "book_attrs = {'uri': 'item_uri'}\n",
    "edge_attrs = {'weight': 'counts'}\n",
    "node_attrs = {}\n",
    "all_events_grouped = all_events.groupby(\n",
    "    ['member_id', 'item_uri']).size().reset_index(name='counts')\n",
    "unexceptional_events_grouped = unexceptional_events.groupby(\n",
    "    ['member_id', 'item_uri']).size().reset_index(name='counts')\n",
    "no_rk_events_grouped = no_rk_borrow_events.groupby(\n",
    "    ['member_id', 'item_uri']).size().reset_index(name='counts')\n",
    "should_process = True\n",
    "write_to_file = True\n",
    "sk_metrics = ['katz', 'louvain']\n",
    "link_metrics = ['pagerank', 'hubs', 'auth']\n",
    "is_projected = True\n",
    "\n",
    "\n",
    "projected_members_graph, projected_members_nodelist, projected_members_edgelist, projected_books_graph, projected_books_nodelist, projected_books_edgelist, projected_members, projected_books = check_reload_build_unipartite_graphs(\n",
    "    all_events_grouped, all_events, member_attrs, book_attrs, edge_attrs, node_attrs, should_process, write_to_file, './data/all_events_unipartite_projected', sk_metrics, link_metrics, members_df, books_df, is_projected)\n",
    "\n",
    "unexceptional_projected_members_graph, unexceptional_projected_members_nodelist, unexceptional_projected_members_edgelist, unexceptional_projected_books_graph, unexceptional_projected_books_nodelist, unexceptional_projected_books_edgelist, unexceptional_projected_members, unexceptional_projected_books = check_reload_build_unipartite_graphs(\n",
    "    unexceptional_events_grouped, unexceptional_events, member_attrs, book_attrs, edge_attrs, node_attrs, should_process, write_to_file, './data/unexceptional_events_unipartite_projected', sk_metrics, link_metrics, members_df, books_df, is_projected)\n"
   ]
  },
  {
   "cell_type": "code",
   "execution_count": null,
   "metadata": {},
   "outputs": [],
   "source": [
    "columns = ['global_pagerank', 'global_hubs', 'global_auth',\n",
    "           'local_pagerank', 'local_hubs', 'local_auth', \n",
    "           'global_degree', 'local_degree', 'global_eigenvector',\n",
    "           'local_eigenvector', 'global_closeness', 'local_closeness',\n",
    "           'global_betweenness', 'local_betweenness', 'global_clustering',\n",
    "           'local_clustering', 'global_graph_radius',\n",
    "           'global_diameter', 'local_graph_radius', 'local_diameter', \n",
    "           'local_katz', 'local_louvain', 'global_katz', 'global_louvain']\n",
    "members_nodelist_corr = projected_members_nodelist[columns].corr()\n",
    "books_nodelist_corr = projected_books_nodelist[columns].corr()\n",
    "unexceptional_projected_members_nodelist_corr = unexceptional_projected_members_nodelist[columns].corr(\n",
    ")\n",
    "unexceptional_projected_books_nodelist_corr = unexceptional_projected_books_nodelist[columns].corr(\n",
    ")\n",
    "\n",
    "def generate_corr_chart(corr_df, title):\n",
    "    # data preparation\n",
    "    pivot_cols = list(corr_df.columns)\n",
    "    corr_df['cat'] = corr_df.index\n",
    "\n",
    "    base = alt.Chart(corr_df).transform_fold(pivot_cols).encode(\n",
    "        x=\"cat:N\",  y='key:N').properties(height=300, width=300, title=title)\n",
    "    boxes = base.mark_rect().encode(color=alt.Color(\n",
    "        \"value:Q\", scale=alt.Scale(scheme=\"redyellowblue\")))\n",
    "    labels = base.mark_text(size=5, color=\"grey\").encode(\n",
    "        text=alt.Text(\"value:Q\", format=\"0.1f\"))\n",
    "    chart = boxes + labels\n",
    "    return chart\n"
   ]
  },
  {
   "cell_type": "code",
   "execution_count": null,
   "metadata": {},
   "outputs": [],
   "source": [
    "\n",
    "members_nodelist_chart = generate_corr_chart(members_nodelist_corr, 'unipartite members all data correlations')\n",
    "books_nodelist_chart = generate_corr_chart(\n",
    "    books_nodelist_corr, 'unipartite books all data correlations')\n",
    "unexceptional_projected_members_nodelist_chart = generate_corr_chart(\n",
    "    unexceptional_projected_members_nodelist_corr, 'unipartite unexceptional_projected_members all data correlations')\n",
    "unexceptional_projected_books_nodelist_chart = generate_corr_chart(\n",
    "    unexceptional_projected_books_nodelist_corr, 'unipartite unexceptional_projected_books all data correlations')\n",
    "alt.hconcat(*[members_nodelist_chart, unexceptional_projected_members_nodelist_chart,\n",
    "            books_nodelist_chart, unexceptional_projected_books_nodelist_chart])\n"
   ]
  },
  {
   "cell_type": "code",
   "execution_count": null,
   "metadata": {},
   "outputs": [],
   "source": [
    "is_projected = False\n",
    "unprojected_members_graph, unprojected_members_nodelist, unprojected_members_edgelist, unprojected_books_graph, unprojected_books_nodelist, unprojected_books_edgelist, unprojected_members, unprojected_books = check_reload_build_unipartite_graphs(\n",
    "    unexceptional_events_grouped, unexceptional_events, member_attrs, book_attrs, edge_attrs, node_attrs, should_process, write_to_file, './data/all_events_unipartite_unprojected', sk_metrics, link_metrics, members_df, books_df, is_projected)\n"
   ]
  },
  {
   "cell_type": "code",
   "execution_count": null,
   "metadata": {},
   "outputs": [],
   "source": [
    "unprojected_members_nodelist\n"
   ]
  },
  {
   "cell_type": "markdown",
   "metadata": {},
   "source": [
    "### Temporal Network Comparisons"
   ]
  },
  {
   "cell_type": "markdown",
   "metadata": {},
   "source": []
  },
  {
   "cell_type": "markdown",
   "metadata": {},
   "source": [
    "#### Bipartite Comparisons"
   ]
  },
  {
   "cell_type": "code",
   "execution_count": null,
   "metadata": {},
   "outputs": [],
   "source": [
    "# Process the borrowers graph through the network metrics and return dataframes for each month and each year\n",
    "years = all_events.year.unique().tolist()\n",
    "books_dfs = []\n",
    "members_dfs = []\n",
    "month_ranges = [{'Winter': [12, 1, 2]}, {'Spring': [3, 4, 5]},\n",
    "                {'Summer': [6, 7, 8]}, {'Fall': [9, 10, 11]}]\n",
    "for year in tqdm(years):\n",
    "    for month in month_ranges:\n",
    "        # Make books graph for each month range\n",
    "        member_attrs = {'uri': 'member_id'}\n",
    "        book_attrs = {'uri': 'item_uri'}\n",
    "        edge_attrs = {'weight': 'counts'}\n",
    "        all_events_grouped = all_events[(all_events.year == year) & (all_events.month.isin(list(month.values())[0]))].groupby(['member_id', 'item_uri']).size().reset_index(name='counts')\n",
    "        should_process = True\n",
    "        write_to_file = False\n",
    "        sk_metrics = ['katz', 'louvain']\n",
    "        link_metrics = ['HITS', 'CoHITS', 'BiRank', 'BGRM']\n",
    "\n",
    "\n",
    "        all_events_bipartite_graph, all_events_bipartite_nodelist, all_events_bipartite_edgelist, all_events_members, all_events_books = check_reload_build_bipartite_graphs(all_events_grouped, member_attrs, book_attrs, edge_attrs, should_process, write_to_file, './data/all_events_bipartite', sk_metrics, link_metrics, members_df, books_df)\n",
    "        all_event_books['seasons'] = list(month.keys())[0]\n",
    "        all_events_members['seasons'] = list(month.keys())[0]\n",
    "        books_dfs.append(all_events_books)\n",
    "        members_dfs.append(all_events_members)\n",
    "        \n"
   ]
  }
 ],
 "metadata": {
  "interpreter": {
   "hash": "64bc08f1a64889c0d194e5f8836772fcdd5223ec9e3efb4bcd3e9cf106aac237"
  },
  "kernelspec": {
   "display_name": "unknown_borrowers_env",
   "language": "python",
   "name": "unknown_borrowers_env"
  },
  "language_info": {
   "codemirror_mode": {
    "name": "ipython",
    "version": 3
   },
   "file_extension": ".py",
   "mimetype": "text/x-python",
   "name": "python",
   "nbconvert_exporter": "python",
   "pygments_lexer": "ipython3",
   "version": "3.9.7"
  }
 },
 "nbformat": 4,
 "nbformat_minor": 2
}
