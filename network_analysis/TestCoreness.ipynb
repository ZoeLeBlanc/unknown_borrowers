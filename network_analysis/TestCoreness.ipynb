{
 "cells": [
  {
   "cell_type": "code",
   "execution_count": 1,
   "metadata": {},
   "outputs": [],
   "source": [
    "import networkx as nx\n",
    "from networkx.algorithms import bipartite\n",
    "\n",
    "import pandas as pd\n",
    "import sys\n",
    "sys.path.append(\"..\")\n",
    "from network_analysis.core_periphery_sbm import core_periphery as cp\n",
    "from network_analysis.core_periphery_sbm import model_fit as mf\n",
    "from network_analysis.load_datasets import get_updated_shxco_data\n",
    "from network_analysis.generate_network_metrics import *\n",
    "from network_analysis.create_networks import *\n",
    "from network_analysis.read_write_networks import * \n",
    "from network_analysis.generate_coreness import *\n",
    "from network_analysis.visualize_networks import *\n",
    "members_df, books_df, borrow_events, events_df = get_updated_shxco_data(get_subscription=False)"
   ]
  },
  {
   "cell_type": "markdown",
   "metadata": {},
   "source": [
    "### Load Data"
   ]
  },
  {
   "cell_type": "code",
   "execution_count": 2,
   "metadata": {},
   "outputs": [],
   "source": [
    "all_events = events_df[events_df.item_uri.isna() == False].copy()\n"
   ]
  },
  {
   "cell_type": "code",
   "execution_count": 3,
   "metadata": {},
   "outputs": [
    {
     "name": "stdout",
     "output_type": "stream",
     "text": [
      "reloading saved graph: ./data/borrow_events_unipartite_projected\n"
     ]
    }
   ],
   "source": [
    "member_attrs = {'uri': 'member_id'}\n",
    "book_attrs = {'uri': 'item_uri'}\n",
    "edge_attrs = {'weight': 'counts'}\n",
    "node_attrs = {}\n",
    "should_process = False\n",
    "write_to_file = True\n",
    "sk_metrics = ['katz', 'louvain']\n",
    "link_metrics = ['pagerank', 'hubs', 'auth']\n",
    "is_projected = True\n",
    "all_events_grouped = all_events.groupby(\n",
    "    ['member_id', 'item_uri']).size().reset_index(name='counts')\n",
    "\n",
    "projected_members_graph, projected_members_nodelist, projected_members_edgelist, projected_members, projected_books_graph, projected_books_nodelist, projected_books_edgelist, projected_books = check_reload_build_unipartite_graphs(\n",
    "    all_events_grouped, all_events, member_attrs, book_attrs, edge_attrs, node_attrs, should_process, write_to_file, './data/borrow_events_unipartite_projected', sk_metrics, link_metrics, members_df, books_df, is_projected)\n"
   ]
  },
  {
   "cell_type": "code",
   "execution_count": 4,
   "metadata": {},
   "outputs": [
    {
     "name": "stdout",
     "output_type": "stream",
     "text": [
      "Initializing hub-and-spoke model...\n",
      "Done. Time taken: 259.13 seconds\n",
      "Initializing layered model...\n",
      "Done. Time taken: 382.05 seconds\n",
      "Hub-and-Spoke Model: 47287.585643733735 Layered Model: 45446.15395615674\n",
      "hubs and spokes global_hub_spoke\n",
      "0    154\n",
      "1    444\n",
      "dtype: int64\n",
      "layers global_layer\n",
      "0     94\n",
      "1    100\n",
      "2    160\n",
      "3    244\n",
      "dtype: int64\n"
     ]
    }
   ],
   "source": [
    "updated_projected_members_nodelist = get_core_scores(projected_members_graph)"
   ]
  },
  {
   "cell_type": "code",
   "execution_count": 5,
   "metadata": {},
   "outputs": [],
   "source": [
    "mapping = dict(updated_projected_members_nodelist[['label', 'uri']].values)\n",
    "H = nx.relabel_nodes(projected_members_graph, mapping)\n"
   ]
  },
  {
   "cell_type": "code",
   "execution_count": 6,
   "metadata": {},
   "outputs": [],
   "source": [
    "projected_members_graph = H"
   ]
  },
  {
   "cell_type": "code",
   "execution_count": 7,
   "metadata": {},
   "outputs": [],
   "source": [
    "update_networkx_nodes(projected_members_graph, updated_projected_members_nodelist)\n"
   ]
  },
  {
   "cell_type": "code",
   "execution_count": 57,
   "metadata": {},
   "outputs": [],
   "source": [
    "nx.write_graphml(projected_members_graph, 'borrow_events_unipartite_projected_members.graphml')"
   ]
  },
  {
   "cell_type": "code",
   "execution_count": 8,
   "metadata": {},
   "outputs": [],
   "source": [
    "\n",
    "nodelist = pd.merge(projected_members[['uri', 'borrow_count']], updated_projected_members_nodelist, on='uri')"
   ]
  },
  {
   "cell_type": "code",
   "execution_count": 11,
   "metadata": {},
   "outputs": [
    {
     "data": {
      "text/html": [
       "\n",
       "<div id=\"altair-viz-b99bf707a4924537bcdb4517bf6d1e68\"></div>\n",
       "<script type=\"text/javascript\">\n",
       "  (function(spec, embedOpt){\n",
       "    let outputDiv = document.currentScript.previousElementSibling;\n",
       "    if (outputDiv.id !== \"altair-viz-b99bf707a4924537bcdb4517bf6d1e68\") {\n",
       "      outputDiv = document.getElementById(\"altair-viz-b99bf707a4924537bcdb4517bf6d1e68\");\n",
       "    }\n",
       "    const paths = {\n",
       "      \"vega\": \"https://cdn.jsdelivr.net/npm//vega@5?noext\",\n",
       "      \"vega-lib\": \"https://cdn.jsdelivr.net/npm//vega-lib?noext\",\n",
       "      \"vega-lite\": \"https://cdn.jsdelivr.net/npm//vega-lite@4.8.1?noext\",\n",
       "      \"vega-embed\": \"https://cdn.jsdelivr.net/npm//vega-embed@6?noext\",\n",
       "    };\n",
       "\n",
       "    function loadScript(lib) {\n",
       "      return new Promise(function(resolve, reject) {\n",
       "        var s = document.createElement('script');\n",
       "        s.src = paths[lib];\n",
       "        s.async = true;\n",
       "        s.onload = () => resolve(paths[lib]);\n",
       "        s.onerror = () => reject(`Error loading script: ${paths[lib]}`);\n",
       "        document.getElementsByTagName(\"head\")[0].appendChild(s);\n",
       "      });\n",
       "    }\n",
       "\n",
       "    function showError(err) {\n",
       "      outputDiv.innerHTML = `<div class=\"error\" style=\"color:red;\">${err}</div>`;\n",
       "      throw err;\n",
       "    }\n",
       "\n",
       "    function displayChart(vegaEmbed) {\n",
       "      vegaEmbed(outputDiv, spec, embedOpt)\n",
       "        .catch(err => showError(`Javascript Error: ${err.message}<br>This usually means there's a typo in your chart specification. See the javascript console for the full traceback.`));\n",
       "    }\n",
       "\n",
       "    if(typeof define === \"function\" && define.amd) {\n",
       "      requirejs.config({paths});\n",
       "      require([\"vega-embed\"], displayChart, err => showError(`Error loading script: ${err.message}`));\n",
       "    } else if (typeof vegaEmbed === \"function\") {\n",
       "      displayChart(vegaEmbed);\n",
       "    } else {\n",
       "      loadScript(\"vega\")\n",
       "        .then(() => loadScript(\"vega-lite\"))\n",
       "        .then(() => loadScript(\"vega-embed\"))\n",
       "        .catch(showError)\n",
       "        .then(() => displayChart(vegaEmbed));\n",
       "    }\n",
       "  })({\"config\": {\"view\": {\"continuousWidth\": 400, \"continuousHeight\": 300}}, \"layer\": [{\"mark\": \"rect\", \"encoding\": {\"color\": {\"type\": \"quantitative\", \"field\": \"value\", \"scale\": {\"scheme\": \"redyellowblue\"}}, \"x\": {\"type\": \"nominal\", \"field\": \"cat\"}, \"y\": {\"type\": \"nominal\", \"field\": \"key\"}}, \"height\": 300, \"title\": \"test\", \"transform\": [{\"fold\": [\"global_hub_spoke\", \"global_layer\", \"global_coreness\", \"global_degree\", \"local_degree\", \"global_eigenvector\", \"local_eigenvector\", \"global_closeness\", \"local_closeness\", \"global_betweenness\", \"local_betweenness\", \"global_clustering\", \"local_clustering\", \"local_katz\", \"local_pagerank\", \"local_hubs\", \"local_auth\", \"global_pagerank\", \"global_hubs\", \"global_auth\", \"global_katz\", \"borrow_count\"]}], \"width\": 300}, {\"mark\": {\"type\": \"text\", \"color\": \"grey\", \"size\": 5}, \"encoding\": {\"text\": {\"type\": \"quantitative\", \"field\": \"value\", \"format\": \"0.1f\"}, \"x\": {\"type\": \"nominal\", \"field\": \"cat\"}, \"y\": {\"type\": \"nominal\", \"field\": \"key\"}}, \"height\": 300, \"title\": \"test\", \"transform\": [{\"fold\": [\"global_hub_spoke\", \"global_layer\", \"global_coreness\", \"global_degree\", \"local_degree\", \"global_eigenvector\", \"local_eigenvector\", \"global_closeness\", \"local_closeness\", \"global_betweenness\", \"local_betweenness\", \"global_clustering\", \"local_clustering\", \"local_katz\", \"local_pagerank\", \"local_hubs\", \"local_auth\", \"global_pagerank\", \"global_hubs\", \"global_auth\", \"global_katz\", \"borrow_count\"]}], \"width\": 300}], \"data\": {\"name\": \"data-4b4f89bd58dbf9a4a12203a5d4495723\"}, \"$schema\": \"https://vega.github.io/schema/vega-lite/v4.8.1.json\", \"datasets\": {\"data-4b4f89bd58dbf9a4a12203a5d4495723\": [{\"global_hub_spoke\": 1.0, \"global_layer\": 0.8267082689333635, \"global_coreness\": -0.8483298737352489, \"global_degree\": -0.1228143281655805, \"local_degree\": -0.8406546138694467, \"global_eigenvector\": -0.11101037948942408, \"local_eigenvector\": -0.6931674019992055, \"global_closeness\": -0.09570144988546407, \"local_closeness\": -0.648021519123305, \"global_betweenness\": -0.08957446221398638, \"local_betweenness\": -0.48122224224362925, \"global_clustering\": 0.11300195714748774, \"local_clustering\": 0.6923698709735482, \"local_katz\": -0.8511149483626987, \"local_pagerank\": -0.008814178604801742, \"local_hubs\": -0.840583782188772, \"local_auth\": -0.840583782188772, \"global_pagerank\": -0.8271874902339863, \"global_hubs\": -0.8509516709272584, \"global_auth\": -0.8509516709272584, \"global_katz\": -0.10537536307107044, \"borrow_count\": -0.4696499327438671, \"cat\": \"global_hub_spoke\"}, {\"global_hub_spoke\": 0.8267082689333635, \"global_layer\": 1.0, \"global_coreness\": -0.9910743641665043, \"global_degree\": -0.1535944346464618, \"local_degree\": -0.9169062071881058, \"global_eigenvector\": -0.13793029265017734, \"local_eigenvector\": -0.7413543689311402, \"global_closeness\": -0.11056876248931824, \"local_closeness\": -0.7637838023953878, \"global_betweenness\": -0.13216583860299394, \"local_betweenness\": -0.4848941153087422, \"global_clustering\": 0.14146009596655298, \"local_clustering\": 0.7741555661354709, \"local_katz\": -0.9540912858586207, \"local_pagerank\": 0.011482349268747109, \"local_hubs\": -0.9394424540247164, \"local_auth\": -0.9394424540247164, \"global_pagerank\": -0.8960704478238098, \"global_hubs\": -0.9550125045072764, \"global_auth\": -0.9550125045072764, \"global_katz\": -0.13199495067904224, \"borrow_count\": -0.4770443764271689, \"cat\": \"global_layer\"}, {\"global_hub_spoke\": -0.8483298737352489, \"global_layer\": -0.9910743641665043, \"global_coreness\": 1.0, \"global_degree\": 0.15080086826356795, \"local_degree\": 0.9287169586905244, \"global_eigenvector\": 0.13479879765357056, \"local_eigenvector\": 0.7514497873104311, \"global_closeness\": 0.11044121749965032, \"local_closeness\": 0.7739543834136889, \"global_betweenness\": 0.13020838819371577, \"local_betweenness\": 0.4908795056439833, \"global_clustering\": -0.13949292443167527, \"local_clustering\": -0.7845382958605951, \"local_katz\": 0.9674900755852037, \"local_pagerank\": -0.012461306750799091, \"local_hubs\": 0.9525976039813272, \"local_auth\": 0.9525976039813272, \"global_pagerank\": 0.9074344500723882, \"global_hubs\": 0.9680351587696561, \"global_auth\": 0.9680351587696561, \"global_katz\": 0.1301814779145751, \"borrow_count\": 0.4840677291145178, \"cat\": \"global_coreness\"}, {\"global_hub_spoke\": -0.1228143281655805, \"global_layer\": -0.1535944346464618, \"global_coreness\": 0.15080086826356795, \"global_degree\": 1.0, \"local_degree\": 0.1608196802853, \"global_eigenvector\": 0.9870440683756915, \"local_eigenvector\": 0.12368667955851999, \"global_closeness\": 0.8143857863543441, \"local_closeness\": 0.12592770809200032, \"global_betweenness\": 0.7221771053360305, \"local_betweenness\": 0.0876711922406004, \"global_clustering\": -0.8104041133839361, \"local_clustering\": -0.09720489365923575, \"local_katz\": 0.16027635582549077, \"local_pagerank\": -0.02300876608322824, \"local_hubs\": 0.15811789589794872, \"local_auth\": 0.15811789589794872, \"global_pagerank\": 0.15786257527378614, \"global_hubs\": 0.16180261395858883, \"global_auth\": 0.16180261395858883, \"global_katz\": 0.9866669551305328, \"borrow_count\": 0.06689091671767328, \"cat\": \"global_degree\"}, {\"global_hub_spoke\": -0.8406546138694467, \"global_layer\": -0.9169062071881058, \"global_coreness\": 0.9287169586905244, \"global_degree\": 0.1608196802853, \"local_degree\": 1.0, \"global_eigenvector\": 0.14756741772267712, \"local_eigenvector\": 0.774695566404526, \"global_closeness\": 0.1336639638082353, \"local_closeness\": 0.8172065459105853, \"global_betweenness\": 0.12706287486405862, \"local_betweenness\": 0.7254361372501061, \"global_clustering\": -0.13446236047870275, \"local_clustering\": -0.7960923020247376, \"local_katz\": 0.9867681169226291, \"local_pagerank\": -0.00289516353934755, \"local_hubs\": 0.9728423807371016, \"local_auth\": 0.9728423807371016, \"global_pagerank\": 0.9954460784457269, \"global_hubs\": 0.9871499712751723, \"global_auth\": 0.9871499712751723, \"global_katz\": 0.141246783929177, \"borrow_count\": 0.6846298129385564, \"cat\": \"local_degree\"}, {\"global_hub_spoke\": -0.11101037948942408, \"global_layer\": -0.13793029265017734, \"global_coreness\": 0.13479879765357056, \"global_degree\": 0.9870440683756915, \"local_degree\": 0.14756741772267712, \"global_eigenvector\": 1.0, \"local_eigenvector\": 0.11492628643391145, \"global_closeness\": 0.8207915567022427, \"local_closeness\": 0.11545349983739661, \"global_betweenness\": 0.6197829372118551, \"local_betweenness\": 0.08384179598526967, \"global_clustering\": -0.8159874828444504, \"local_clustering\": -0.08313244854529545, \"local_katz\": 0.14692352572517095, \"local_pagerank\": -0.026284518066218943, \"local_hubs\": 0.1452192432821915, \"local_auth\": 0.1452192432821915, \"global_pagerank\": 0.14457938856658667, \"global_hubs\": 0.14729896929296, \"global_auth\": 0.14729896929296, \"global_katz\": 0.9999981721002225, \"borrow_count\": 0.06360925699738108, \"cat\": \"global_eigenvector\"}, {\"global_hub_spoke\": -0.6931674019992055, \"global_layer\": -0.7413543689311402, \"global_coreness\": 0.7514497873104311, \"global_degree\": 0.12368667955851999, \"local_degree\": 0.774695566404526, \"global_eigenvector\": 0.11492628643391145, \"local_eigenvector\": 1.0, \"global_closeness\": 0.10117021018258879, \"local_closeness\": 0.9076397984560943, \"global_betweenness\": 0.08399842105950488, \"local_betweenness\": 0.5197988527903751, \"global_clustering\": -0.10975744615370944, \"local_clustering\": -0.8004182894388192, \"local_katz\": 0.9693781779493447, \"local_pagerank\": 0.23241855393798067, \"local_hubs\": 0.9847650319112313, \"local_auth\": 0.9847650319112313, \"global_pagerank\": 0.7766314500924577, \"global_hubs\": 0.7702674224285354, \"global_auth\": 0.7702674224285354, \"global_katz\": 0.10640222072822986, \"borrow_count\": 0.491324093946464, \"cat\": \"local_eigenvector\"}, {\"global_hub_spoke\": -0.09570144988546407, \"global_layer\": -0.11056876248931824, \"global_coreness\": 0.11044121749965032, \"global_degree\": 0.8143857863543441, \"local_degree\": 0.1336639638082353, \"global_eigenvector\": 0.8207915567022427, \"local_eigenvector\": 0.10117021018258879, \"global_closeness\": 1.0, \"local_closeness\": 0.09727280331821948, \"global_betweenness\": 0.5633264431820854, \"local_betweenness\": 0.09048726876506044, \"global_clustering\": -0.7600757268855595, \"local_clustering\": -0.05656408028150158, \"local_katz\": 0.13020530391274662, \"local_pagerank\": -0.05372606046644196, \"local_hubs\": 0.12935435442199686, \"local_auth\": 0.12935435442199686, \"global_pagerank\": 0.1300612094658299, \"global_hubs\": 0.12810429762137618, \"global_auth\": 0.12810429762137618, \"global_katz\": 0.8208502246345065, \"borrow_count\": 0.06475726831744119, \"cat\": \"global_closeness\"}, {\"global_hub_spoke\": -0.648021519123305, \"global_layer\": -0.7637838023953878, \"global_coreness\": 0.7739543834136889, \"global_degree\": 0.12592770809200032, \"local_degree\": 0.8172065459105853, \"global_eigenvector\": 0.11545349983739661, \"local_eigenvector\": 0.9076397984560943, \"global_closeness\": 0.09727280331821948, \"local_closeness\": 1.0, \"global_betweenness\": 0.09764274297917078, \"local_betweenness\": 0.5684169677058681, \"global_clustering\": -0.08968697162030312, \"local_clustering\": -0.7400168141350983, \"local_katz\": 0.8236031053045176, \"local_pagerank\": 0.4343458357637812, \"local_hubs\": 0.8658542998314223, \"local_auth\": 0.8658542998314223, \"global_pagerank\": 0.832999529442903, \"global_hubs\": 0.8235456726452972, \"global_auth\": 0.8235456726452972, \"global_katz\": 0.10733333043485244, \"borrow_count\": 0.5421335469968948, \"cat\": \"local_closeness\"}, {\"global_hub_spoke\": -0.08957446221398638, \"global_layer\": -0.13216583860299394, \"global_coreness\": 0.13020838819371577, \"global_degree\": 0.7221771053360305, \"local_degree\": 0.12706287486405862, \"global_eigenvector\": 0.6197829372118551, \"local_eigenvector\": 0.08399842105950488, \"global_closeness\": 0.5633264431820854, \"local_closeness\": 0.09764274297917078, \"global_betweenness\": 1.0, \"local_betweenness\": 0.05896958521745061, \"global_clustering\": -0.5242793759447089, \"local_clustering\": -0.09676559075114355, \"local_katz\": 0.12549929535470802, \"local_pagerank\": -0.012134424917622157, \"local_hubs\": 0.12238527535998137, \"local_auth\": 0.12238527535998137, \"global_pagerank\": 0.12518966230458947, \"global_hubs\": 0.13210862132922777, \"global_auth\": 0.13210862132922777, \"global_katz\": 0.6199975837756764, \"borrow_count\": 0.04669720431662719, \"cat\": \"global_betweenness\"}, {\"global_hub_spoke\": -0.48122224224362925, \"global_layer\": -0.4848941153087422, \"global_coreness\": 0.4908795056439833, \"global_degree\": 0.0876711922406004, \"local_degree\": 0.7254361372501061, \"global_eigenvector\": 0.08384179598526967, \"local_eigenvector\": 0.5197988527903751, \"global_closeness\": 0.09048726876506044, \"local_closeness\": 0.5684169677058681, \"global_betweenness\": 0.05896958521745061, \"local_betweenness\": 1.0, \"global_clustering\": -0.05339218173247756, \"local_clustering\": -0.5193229219737926, \"local_katz\": 0.6241826984586615, \"local_pagerank\": 0.021405404816637726, \"local_hubs\": 0.6181659229856291, \"local_auth\": 0.6181659229856291, \"global_pagerank\": 0.7707633509995095, \"global_hubs\": 0.6240404034853421, \"global_auth\": 0.6240404034853421, \"global_katz\": 0.07829559745531034, \"borrow_count\": 0.9201068676094257, \"cat\": \"local_betweenness\"}, {\"global_hub_spoke\": 0.11300195714748774, \"global_layer\": 0.14146009596655298, \"global_coreness\": -0.13949292443167527, \"global_degree\": -0.8104041133839361, \"local_degree\": -0.13446236047870275, \"global_eigenvector\": -0.8159874828444504, \"local_eigenvector\": -0.10975744615370944, \"global_closeness\": -0.7600757268855595, \"local_closeness\": -0.08968697162030312, \"global_betweenness\": -0.5242793759447089, \"local_betweenness\": -0.05339218173247756, \"global_clustering\": 1.0, \"local_clustering\": 0.12216324078962325, \"local_katz\": -0.1371396773954964, \"local_pagerank\": -0.004147030312960486, \"local_hubs\": -0.13512575381720118, \"local_auth\": -0.13512575381720118, \"global_pagerank\": -0.1325989546139604, \"global_hubs\": -0.13878382575411102, \"global_auth\": -0.13878382575411102, \"global_katz\": -0.8159862919185918, \"borrow_count\": -0.04299374911126358, \"cat\": \"global_clustering\"}, {\"global_hub_spoke\": 0.6923698709735482, \"global_layer\": 0.7741555661354709, \"global_coreness\": -0.7845382958605951, \"global_degree\": -0.09720489365923575, \"local_degree\": -0.7960923020247376, \"global_eigenvector\": -0.08313244854529545, \"local_eigenvector\": -0.8004182894388192, \"global_closeness\": -0.05656408028150158, \"local_closeness\": -0.7400168141350983, \"global_betweenness\": -0.09676559075114355, \"local_betweenness\": -0.5193229219737926, \"global_clustering\": 0.12216324078962325, \"local_clustering\": 1.0, \"local_katz\": -0.8003997645543942, \"local_pagerank\": -0.7956726388932384, \"local_hubs\": -0.8004182894388197, \"local_auth\": -0.8004182894388197, \"global_pagerank\": -0.7956726388932387, \"global_hubs\": -0.8004182894388193, \"global_auth\": -0.8004182894388193, \"global_katz\": -0.08028638204474858, \"borrow_count\": -0.49407688969760394, \"cat\": \"local_clustering\"}, {\"global_hub_spoke\": -0.8511149483626987, \"global_layer\": -0.9540912858586207, \"global_coreness\": 0.9674900755852037, \"global_degree\": 0.16027635582549077, \"local_degree\": 0.9867681169226291, \"global_eigenvector\": 0.14692352572517095, \"local_eigenvector\": 0.9693781779493447, \"global_closeness\": 0.13020530391274662, \"local_closeness\": 0.8236031053045176, \"global_betweenness\": 0.12549929535470802, \"local_betweenness\": 0.6241826984586615, \"global_clustering\": -0.1371396773954964, \"local_clustering\": -0.8003997645543942, \"local_katz\": 1.0, \"local_pagerank\": -0.013540378860254864, \"local_hubs\": 0.9845237537062165, \"local_auth\": 0.9845237537062165, \"global_pagerank\": 0.972373541940301, \"global_hubs\": 0.999998177869009, \"global_auth\": 0.999998177869009, \"global_katz\": 0.14050964092505494, \"borrow_count\": 0.5941573634922137, \"cat\": \"local_katz\"}, {\"global_hub_spoke\": -0.008814178604801742, \"global_layer\": 0.011482349268747109, \"global_coreness\": -0.012461306750799091, \"global_degree\": -0.02300876608322824, \"local_degree\": -0.00289516353934755, \"global_eigenvector\": -0.026284518066218943, \"local_eigenvector\": 0.23241855393798067, \"global_closeness\": -0.05372606046644196, \"local_closeness\": 0.4343458357637812, \"global_betweenness\": -0.012134424917622157, \"local_betweenness\": 0.021405404816637726, \"global_clustering\": -0.004147030312960486, \"local_clustering\": -0.7956726388932384, \"local_katz\": -0.013540378860254864, \"local_pagerank\": 1.0, \"local_hubs\": 0.11040538345763953, \"local_auth\": 0.11040538345763953, \"global_pagerank\": 0.05326412471963678, \"global_hubs\": -0.013394607657946396, \"global_auth\": -0.013394607657946396, \"global_katz\": -0.028986622432665952, \"borrow_count\": 0.017294132026582795, \"cat\": \"local_pagerank\"}, {\"global_hub_spoke\": -0.840583782188772, \"global_layer\": -0.9394424540247164, \"global_coreness\": 0.9525976039813272, \"global_degree\": 0.15811789589794872, \"local_degree\": 0.9728423807371016, \"global_eigenvector\": 0.1452192432821915, \"local_eigenvector\": 0.9847650319112313, \"global_closeness\": 0.12935435442199686, \"local_closeness\": 0.8658542998314223, \"global_betweenness\": 0.12238527535998137, \"local_betweenness\": 0.6181659229856291, \"global_clustering\": -0.13512575381720118, \"local_clustering\": -0.8004182894388197, \"local_katz\": 0.9845237537062165, \"local_pagerank\": 0.11040538345763953, \"local_hubs\": 1.0, \"local_auth\": 1.0, \"global_pagerank\": 0.9655704125230822, \"global_hubs\": 0.9845412298309599, \"global_auth\": 0.9845412298309599, \"global_katz\": 0.13861783525478397, \"borrow_count\": 0.5880673899104815, \"cat\": \"local_hubs\"}, {\"global_hub_spoke\": -0.840583782188772, \"global_layer\": -0.9394424540247164, \"global_coreness\": 0.9525976039813272, \"global_degree\": 0.15811789589794872, \"local_degree\": 0.9728423807371016, \"global_eigenvector\": 0.1452192432821915, \"local_eigenvector\": 0.9847650319112313, \"global_closeness\": 0.12935435442199686, \"local_closeness\": 0.8658542998314223, \"global_betweenness\": 0.12238527535998137, \"local_betweenness\": 0.6181659229856291, \"global_clustering\": -0.13512575381720118, \"local_clustering\": -0.8004182894388197, \"local_katz\": 0.9845237537062165, \"local_pagerank\": 0.11040538345763953, \"local_hubs\": 1.0, \"local_auth\": 1.0, \"global_pagerank\": 0.9655704125230822, \"global_hubs\": 0.9845412298309599, \"global_auth\": 0.9845412298309599, \"global_katz\": 0.13861783525478397, \"borrow_count\": 0.5880673899104815, \"cat\": \"local_auth\"}, {\"global_hub_spoke\": -0.8271874902339863, \"global_layer\": -0.8960704478238098, \"global_coreness\": 0.9074344500723882, \"global_degree\": 0.15786257527378614, \"local_degree\": 0.9954460784457269, \"global_eigenvector\": 0.14457938856658667, \"local_eigenvector\": 0.7766314500924577, \"global_closeness\": 0.1300612094658299, \"local_closeness\": 0.832999529442903, \"global_betweenness\": 0.12518966230458947, \"local_betweenness\": 0.7707633509995095, \"global_clustering\": -0.1325989546139604, \"local_clustering\": -0.7956726388932387, \"local_katz\": 0.972373541940301, \"local_pagerank\": 0.05326412471963678, \"local_hubs\": 0.9655704125230822, \"local_auth\": 0.9655704125230822, \"global_pagerank\": 1.0, \"global_hubs\": 0.9731276316135523, \"global_auth\": 0.9731276316135523, \"global_katz\": 0.13806531788206272, \"borrow_count\": 0.7222427428012791, \"cat\": \"global_pagerank\"}, {\"global_hub_spoke\": -0.8509516709272584, \"global_layer\": -0.9550125045072764, \"global_coreness\": 0.9680351587696561, \"global_degree\": 0.16180261395858883, \"local_degree\": 0.9871499712751723, \"global_eigenvector\": 0.14729896929296, \"local_eigenvector\": 0.7702674224285354, \"global_closeness\": 0.12810429762137618, \"local_closeness\": 0.8235456726452972, \"global_betweenness\": 0.13210862132922777, \"local_betweenness\": 0.6240404034853421, \"global_clustering\": -0.13878382575411102, \"local_clustering\": -0.8004182894388193, \"local_katz\": 0.999998177869009, \"local_pagerank\": -0.013394607657946396, \"local_hubs\": 0.9845412298309599, \"local_auth\": 0.9845412298309599, \"global_pagerank\": 0.9731276316135523, \"global_hubs\": 1.0, \"global_auth\": 1.0, \"global_katz\": 0.14182400298565923, \"borrow_count\": 0.5948912418596349, \"cat\": \"global_hubs\"}, {\"global_hub_spoke\": -0.8509516709272584, \"global_layer\": -0.9550125045072764, \"global_coreness\": 0.9680351587696561, \"global_degree\": 0.16180261395858883, \"local_degree\": 0.9871499712751723, \"global_eigenvector\": 0.14729896929296, \"local_eigenvector\": 0.7702674224285354, \"global_closeness\": 0.12810429762137618, \"local_closeness\": 0.8235456726452972, \"global_betweenness\": 0.13210862132922777, \"local_betweenness\": 0.6240404034853421, \"global_clustering\": -0.13878382575411102, \"local_clustering\": -0.8004182894388193, \"local_katz\": 0.999998177869009, \"local_pagerank\": -0.013394607657946396, \"local_hubs\": 0.9845412298309599, \"local_auth\": 0.9845412298309599, \"global_pagerank\": 0.9731276316135523, \"global_hubs\": 1.0, \"global_auth\": 1.0, \"global_katz\": 0.14182400298565923, \"borrow_count\": 0.5948912418596349, \"cat\": \"global_auth\"}, {\"global_hub_spoke\": -0.10537536307107044, \"global_layer\": -0.13199495067904224, \"global_coreness\": 0.1301814779145751, \"global_degree\": 0.9866669551305328, \"local_degree\": 0.141246783929177, \"global_eigenvector\": 0.9999981721002225, \"local_eigenvector\": 0.10640222072822986, \"global_closeness\": 0.8208502246345065, \"local_closeness\": 0.10733333043485244, \"global_betweenness\": 0.6199975837756764, \"local_betweenness\": 0.07829559745531034, \"global_clustering\": -0.8159862919185918, \"local_clustering\": -0.08028638204474858, \"local_katz\": 0.14050964092505494, \"local_pagerank\": -0.028986622432665952, \"local_hubs\": 0.13861783525478397, \"local_auth\": 0.13861783525478397, \"global_pagerank\": 0.13806531788206272, \"global_hubs\": 0.14182400298565923, \"global_auth\": 0.14182400298565923, \"global_katz\": 1.0, \"borrow_count\": 0.05851523437905002, \"cat\": \"global_katz\"}, {\"global_hub_spoke\": -0.4696499327438671, \"global_layer\": -0.4770443764271689, \"global_coreness\": 0.4840677291145178, \"global_degree\": 0.06689091671767328, \"local_degree\": 0.6846298129385564, \"global_eigenvector\": 0.06360925699738108, \"local_eigenvector\": 0.491324093946464, \"global_closeness\": 0.06475726831744119, \"local_closeness\": 0.5421335469968948, \"global_betweenness\": 0.04669720431662719, \"local_betweenness\": 0.9201068676094257, \"global_clustering\": -0.04299374911126358, \"local_clustering\": -0.49407688969760394, \"local_katz\": 0.5941573634922137, \"local_pagerank\": 0.017294132026582795, \"local_hubs\": 0.5880673899104815, \"local_auth\": 0.5880673899104815, \"global_pagerank\": 0.7222427428012791, \"global_hubs\": 0.5948912418596349, \"global_auth\": 0.5948912418596349, \"global_katz\": 0.05851523437905002, \"borrow_count\": 1.0, \"cat\": \"borrow_count\"}]}}, {\"mode\": \"vega-lite\"});\n",
       "</script>"
      ],
      "text/plain": [
       "alt.LayerChart(...)"
      ]
     },
     "execution_count": 11,
     "metadata": {},
     "output_type": "execute_result"
    }
   ],
   "source": [
    "generate_corr_chart(nodelist, 'test')\n"
   ]
  },
  {
   "cell_type": "code",
   "execution_count": 48,
   "metadata": {},
   "outputs": [
    {
     "data": {
      "text/plain": [
       "global_layer\n",
       "0     94\n",
       "1    100\n",
       "2    160\n",
       "3    244\n",
       "dtype: int64"
      ]
     },
     "execution_count": 48,
     "metadata": {},
     "output_type": "execute_result"
    }
   ],
   "source": [
    "nodelist.groupby('global_layer').size()"
   ]
  },
  {
   "cell_type": "code",
   "execution_count": 49,
   "metadata": {},
   "outputs": [
    {
     "data": {
      "text/plain": [
       "Index(['uri', 'borrow_count', 'node', 'global_hub_spoke', 'global_layer',\n",
       "       'global_coreness', '_nx_name', 'group', 'bipartite', 'global_degree',\n",
       "       'local_degree', 'global_eigenvector', 'local_eigenvector',\n",
       "       'global_closeness', 'local_closeness', 'global_betweenness',\n",
       "       'local_betweenness', 'global_clustering', 'local_clustering',\n",
       "       'node_title', 'global_graph_radius', 'global_diameter',\n",
       "       'local_graph_radius', 'local_diameter', 'component', 'local_katz',\n",
       "       'local_louvain', 'local_pagerank', 'local_hubs', 'local_auth',\n",
       "       'pagerank', 'hubs', 'auth', 'global_pagerank', 'global_hubs',\n",
       "       'global_auth', 'global_katz', 'global_louvain', 'label'],\n",
       "      dtype='object')"
      ]
     },
     "execution_count": 49,
     "metadata": {},
     "output_type": "execute_result"
    }
   ],
   "source": [
    "nodelist.columns"
   ]
  },
  {
   "cell_type": "code",
   "execution_count": 51,
   "metadata": {},
   "outputs": [
    {
     "data": {
      "text/plain": [
       "0.0    186\n",
       "1.0    171\n",
       "2.0    144\n",
       "3.0     81\n",
       "Name: local_louvain, dtype: int64"
      ]
     },
     "execution_count": 51,
     "metadata": {},
     "output_type": "execute_result"
    }
   ],
   "source": [
    "nodelist.local_louvain.value_counts()"
   ]
  },
  {
   "cell_type": "code",
   "execution_count": 52,
   "metadata": {},
   "outputs": [
    {
     "data": {
      "text/plain": [
       "0.0    177\n",
       "1.0    167\n",
       "2.0    143\n",
       "3.0     94\n",
       "4.0      2\n",
       "Name: global_louvain, dtype: int64"
      ]
     },
     "execution_count": 52,
     "metadata": {},
     "output_type": "execute_result"
    }
   ],
   "source": [
    "nodelist.global_louvain.value_counts()\n"
   ]
  },
  {
   "cell_type": "code",
   "execution_count": 55,
   "metadata": {},
   "outputs": [
    {
     "data": {
      "text/plain": [
       "0.0    60\n",
       "1.0    52\n",
       "2.0    46\n",
       "3.0    22\n",
       "4.0     1\n",
       "Name: global_louvain, dtype: int64"
      ]
     },
     "execution_count": 55,
     "metadata": {},
     "output_type": "execute_result"
    }
   ],
   "source": [
    "nodelist[nodelist.local_louvain == 0].global_louvain.value_counts()"
   ]
  },
  {
   "cell_type": "code",
   "execution_count": null,
   "metadata": {},
   "outputs": [],
   "source": []
  }
 ],
 "metadata": {
  "interpreter": {
   "hash": "64bc08f1a64889c0d194e5f8836772fcdd5223ec9e3efb4bcd3e9cf106aac237"
  },
  "kernelspec": {
   "display_name": "Python 3.9.7 64-bit ('unknown_borrowers_env': venv)",
   "name": "python3"
  },
  "language_info": {
   "codemirror_mode": {
    "name": "ipython",
    "version": 3
   },
   "file_extension": ".py",
   "mimetype": "text/x-python",
   "name": "python",
   "nbconvert_exporter": "python",
   "pygments_lexer": "ipython3",
   "version": "3.9.7"
  },
  "orig_nbformat": 4
 },
 "nbformat": 4,
 "nbformat_minor": 2
}
