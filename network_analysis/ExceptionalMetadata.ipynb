{
 "cells": [
  {
   "cell_type": "code",
   "execution_count": 1,
   "metadata": {},
   "outputs": [],
   "source": [
    "\n",
    "import pandas as pd\n",
    "pd.options.mode.chained_assignment = None\n",
    "pd.set_option('display.max_columns', None)\n",
    "\n",
    "import altair as alt\n",
    "\n",
    "\n",
    "import warnings\n",
    "warnings.filterwarnings(\"ignore\")\n",
    "\n",
    "import sys\n",
    "sys.path.append(\"..\")\n",
    "from network_analysis.load_datasets import get_updated_shxco_data\n",
    "\n"
   ]
  },
  {
   "cell_type": "code",
   "execution_count": 2,
   "metadata": {},
   "outputs": [],
   "source": [
    "members_df, books_df, borrow_events, events_df = get_updated_shxco_data(\n",
    "    get_subscription=False)\n"
   ]
  },
  {
   "cell_type": "code",
   "execution_count": 3,
   "metadata": {},
   "outputs": [],
   "source": [
    "ex_books_df = books_df[books_df.exceptional_types.isna() == False].assign(\n",
    "    exceptional_types=books_df['exceptional_types'].str.split(',')).explode('exceptional_types')\n",
    "grouped_books = ex_books_df.groupby(\n",
    "    'exceptional_types').size().reset_index(name='counts')\n",
    "grouped_books['type'] = 'books'\n",
    "\n",
    "ex_members_df = members_df[members_df.exceptional_types.isna() == False].assign(exceptional_types=members_df['exceptional_types'].str.split(\n",
    "    ',')).explode('exceptional_types')\n",
    "grouped_members = ex_members_df.groupby(\n",
    "    'exceptional_types').size().reset_index(name='counts')\n",
    "grouped_members['type'] = 'members'\n",
    "\n",
    "ex_events_df = events_df[events_df.exceptional_types.isna() == False].assign(exceptional_types=events_df['exceptional_types'].str.split(\n",
    "    ',')).explode('exceptional_types')\n",
    "grouped_events = ex_events_df.groupby(\n",
    "    'exceptional_types').size().reset_index(name='counts')\n",
    "grouped_events['type'] = 'events'\n"
   ]
  },
  {
   "cell_type": "code",
   "execution_count": 4,
   "metadata": {},
   "outputs": [],
   "source": [
    "grouped_df = pd.concat([grouped_books, grouped_members, grouped_events])\n",
    "grouped_df.loc[grouped_df['exceptional_types'] ==\n",
    "               'sunday_shopers', 'exceptional_types'] = 'Sunday Shoppers'\n",
    "grouped_df.loc[grouped_df['exceptional_types'] ==\n",
    "               'longterm_borrows', 'exceptional_types'] = 'Longterm Borrows'\n",
    "grouped_df.loc[grouped_df['exceptional_types'] == 'overborrows',\n",
    "               'exceptional_types'] = 'Borrows Beyond Subscription'\n",
    "\n",
    "grouped_df.loc[grouped_df['exceptional_types'] ==\n",
    "               'post1942_events', 'exceptional_types'] = 'Borrows After 1942'\n",
    "\n",
    "grouped_df.loc[grouped_df['exceptional_types'] ==\n",
    "               'unknown_borrows', 'exceptional_types'] = 'Borrow Status Unknown'\n",
    "\n",
    "grouped_df.loc[grouped_df['exceptional_types'] ==\n",
    "               'missing_events', 'exceptional_types'] = 'Borrow Status Missing'\n"
   ]
  },
  {
   "cell_type": "code",
   "execution_count": 11,
   "metadata": {},
   "outputs": [],
   "source": [
    "\n",
    "chart = alt.Chart(grouped_df).mark_bar().encode(\n",
    "    y=alt.Y('type:O', sort=alt.EncodingSortField(\n",
    "        field='counts', op='sum', order='descending'), title=''),\n",
    "    x=alt.X('counts:Q', title=''),\n",
    "    color=alt.Color('type:N', legend=alt.Legend(title='Library Dataset'), sort=alt.EncodingSortField(field='counts', op='sum', order='descending')),\n",
    ").properties(\n",
    "    width=100,\n",
    "    height=100,\n",
    ").facet(\n",
    "    facet=alt.Facet('exceptional_types:O', title=None),\n",
    "    columns=3,\n",
    "    title='Rate of Exceptional Behavior in the Library (Scale Independent)'\n",
    ").resolve_scale(x='independent')\n",
    "\n",
    "# chart.save('./visualizations/test.png')\n"
   ]
  },
  {
   "cell_type": "code",
   "execution_count": 6,
   "metadata": {},
   "outputs": [
    {
     "data": {
      "text/plain": [
       "(6927, 34357, 27430)"
      ]
     },
     "execution_count": 6,
     "metadata": {},
     "output_type": "execute_result"
    }
   ],
   "source": [
    "len(events_df[events_df.exceptional_types.isna() == False]), len(\n",
    "    events_df), len(events_df[events_df.exceptional_types.isna() == True])\n"
   ]
  },
  {
   "cell_type": "code",
   "execution_count": 13,
   "metadata": {},
   "outputs": [
    {
     "data": {
      "text/plain": [
       "RendererRegistry.enable('altair_saver')"
      ]
     },
     "execution_count": 13,
     "metadata": {},
     "output_type": "execute_result"
    }
   ],
   "source": [
    "alt.renderers.enable('altair_saver', fmts=['vega-lite', 'png'])\n"
   ]
  },
  {
   "cell_type": "code",
   "execution_count": 15,
   "metadata": {},
   "outputs": [],
   "source": [
    "# chart.save('./visualizations/test.png')\n",
    "# "
   ]
  },
  {
   "cell_type": "code",
   "execution_count": null,
   "metadata": {},
   "outputs": [],
   "source": []
  }
 ],
 "metadata": {
  "interpreter": {
   "hash": "64bc08f1a64889c0d194e5f8836772fcdd5223ec9e3efb4bcd3e9cf106aac237"
  },
  "kernelspec": {
   "display_name": "Python 3.9.7 64-bit ('unknown_borrowers_env': venv)",
   "name": "python3"
  },
  "language_info": {
   "codemirror_mode": {
    "name": "ipython",
    "version": 3
   },
   "file_extension": ".py",
   "mimetype": "text/x-python",
   "name": "python",
   "nbconvert_exporter": "python",
   "pygments_lexer": "ipython3",
   "version": "3.9.7"
  },
  "orig_nbformat": 4
 },
 "nbformat": 4,
 "nbformat_minor": 2
}
