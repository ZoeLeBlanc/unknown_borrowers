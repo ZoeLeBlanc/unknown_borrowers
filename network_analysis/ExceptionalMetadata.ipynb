{
 "cells": [
  {
   "cell_type": "code",
   "execution_count": 22,
   "metadata": {},
   "outputs": [],
   "source": [
    "\n",
    "import pandas as pd\n",
    "pd.options.mode.chained_assignment = None\n",
    "pd.set_option('display.max_columns', None)\n",
    "\n",
    "import altair as alt\n",
    "\n",
    "\n",
    "import warnings\n",
    "warnings.filterwarnings(\"ignore\")\n",
    "\n",
    "import sys\n",
    "sys.path.append(\"..\")\n",
    "from network_analysis.load_datasets import get_updated_shxco_data\n",
    "\n"
   ]
  },
  {
   "cell_type": "code",
   "execution_count": 23,
   "metadata": {},
   "outputs": [],
   "source": [
    "members_df, books_df, borrow_events, events_df = get_updated_shxco_data(\n",
    "    get_subscription=False)\n"
   ]
  },
  {
   "cell_type": "code",
   "execution_count": 24,
   "metadata": {},
   "outputs": [],
   "source": [
    "ex_books_df = books_df[books_df.exceptional_types.isna() == False].assign(\n",
    "    exceptional_types=books_df['exceptional_types'].str.split(',')).explode('exceptional_types')\n",
    "grouped_books = ex_books_df.groupby(\n",
    "    'exceptional_types').size().reset_index(name='counts')\n",
    "grouped_books['type'] = 'books'\n",
    "\n",
    "ex_members_df = members_df[members_df.exceptional_types.isna() == False].assign(exceptional_types=members_df['exceptional_types'].str.split(\n",
    "    ',')).explode('exceptional_types')\n",
    "grouped_members = ex_members_df.groupby(\n",
    "    'exceptional_types').size().reset_index(name='counts')\n",
    "grouped_members['type'] = 'members'\n",
    "\n",
    "ex_events_df = events_df[events_df.exceptional_types.isna() == False].assign(exceptional_types=events_df['exceptional_types'].str.split(\n",
    "    ',')).explode('exceptional_types')\n",
    "grouped_events = ex_events_df.groupby(\n",
    "    'exceptional_types').size().reset_index(name='counts')\n",
    "grouped_events['type'] = 'events'\n"
   ]
  },
  {
   "cell_type": "code",
   "execution_count": 25,
   "metadata": {},
   "outputs": [],
   "source": [
    "grouped_df = pd.concat([grouped_books, grouped_members, grouped_events])\n",
    "grouped_df.loc[grouped_df['exceptional_types'] ==\n",
    "               'sunday_shopers', 'exceptional_types'] = 'Sunday Shoppers'\n",
    "grouped_df.loc[grouped_df['exceptional_types'] ==\n",
    "               'longterm_borrows', 'exceptional_types'] = 'Longterm Borrows'\n",
    "grouped_df.loc[grouped_df['exceptional_types'] == 'overborrows',\n",
    "               'exceptional_types'] = 'Borrows Beyond Subscription'\n",
    "\n",
    "grouped_df.loc[grouped_df['exceptional_types'] ==\n",
    "               'post1942_events', 'exceptional_types'] = 'Borrows After 1942'\n",
    "\n",
    "grouped_df.loc[grouped_df['exceptional_types'] ==\n",
    "               'unknown_borrows', 'exceptional_types'] = 'Borrow Status Unknown'\n",
    "\n",
    "grouped_df.loc[grouped_df['exceptional_types'] ==\n",
    "               'missing_events', 'exceptional_types'] = 'Borrow Status Missing'\n"
   ]
  },
  {
   "cell_type": "code",
   "execution_count": 26,
   "metadata": {},
   "outputs": [
    {
     "data": {
      "text/html": [
       "\n",
       "<div id=\"altair-viz-645a8012edd542e28a1dd9d3e61abb37\"></div>\n",
       "<script type=\"text/javascript\">\n",
       "  var VEGA_DEBUG = (typeof VEGA_DEBUG == \"undefined\") ? {} : VEGA_DEBUG;\n",
       "  (function(spec, embedOpt){\n",
       "    let outputDiv = document.currentScript.previousElementSibling;\n",
       "    if (outputDiv.id !== \"altair-viz-645a8012edd542e28a1dd9d3e61abb37\") {\n",
       "      outputDiv = document.getElementById(\"altair-viz-645a8012edd542e28a1dd9d3e61abb37\");\n",
       "    }\n",
       "    const paths = {\n",
       "      \"vega\": \"https://cdn.jsdelivr.net/npm//vega@5?noext\",\n",
       "      \"vega-lib\": \"https://cdn.jsdelivr.net/npm//vega-lib?noext\",\n",
       "      \"vega-lite\": \"https://cdn.jsdelivr.net/npm//vega-lite@4.17.0?noext\",\n",
       "      \"vega-embed\": \"https://cdn.jsdelivr.net/npm//vega-embed@6?noext\",\n",
       "    };\n",
       "\n",
       "    function maybeLoadScript(lib, version) {\n",
       "      var key = `${lib.replace(\"-\", \"\")}_version`;\n",
       "      return (VEGA_DEBUG[key] == version) ?\n",
       "        Promise.resolve(paths[lib]) :\n",
       "        new Promise(function(resolve, reject) {\n",
       "          var s = document.createElement('script');\n",
       "          document.getElementsByTagName(\"head\")[0].appendChild(s);\n",
       "          s.async = true;\n",
       "          s.onload = () => {\n",
       "            VEGA_DEBUG[key] = version;\n",
       "            return resolve(paths[lib]);\n",
       "          };\n",
       "          s.onerror = () => reject(`Error loading script: ${paths[lib]}`);\n",
       "          s.src = paths[lib];\n",
       "        });\n",
       "    }\n",
       "\n",
       "    function showError(err) {\n",
       "      outputDiv.innerHTML = `<div class=\"error\" style=\"color:red;\">${err}</div>`;\n",
       "      throw err;\n",
       "    }\n",
       "\n",
       "    function displayChart(vegaEmbed) {\n",
       "      vegaEmbed(outputDiv, spec, embedOpt)\n",
       "        .catch(err => showError(`Javascript Error: ${err.message}<br>This usually means there's a typo in your chart specification. See the javascript console for the full traceback.`));\n",
       "    }\n",
       "\n",
       "    if(typeof define === \"function\" && define.amd) {\n",
       "      requirejs.config({paths});\n",
       "      require([\"vega-embed\"], displayChart, err => showError(`Error loading script: ${err.message}`));\n",
       "    } else {\n",
       "      maybeLoadScript(\"vega\", \"5\")\n",
       "        .then(() => maybeLoadScript(\"vega-lite\", \"4.17.0\"))\n",
       "        .then(() => maybeLoadScript(\"vega-embed\", \"6\"))\n",
       "        .catch(showError)\n",
       "        .then(() => displayChart(vegaEmbed));\n",
       "    }\n",
       "  })({\"config\": {\"view\": {\"continuousWidth\": 400, \"continuousHeight\": 300}}, \"data\": {\"name\": \"data-981ca90c5612b475f1cdf090829c7de5\"}, \"facet\": {\"field\": \"exceptional_types\", \"title\": null, \"type\": \"ordinal\"}, \"spec\": {\"mark\": \"bar\", \"encoding\": {\"color\": {\"field\": \"type\", \"legend\": {\"title\": \"Library Dataset\"}, \"sort\": {\"field\": \"counts\", \"op\": \"sum\", \"order\": \"descending\"}, \"type\": \"nominal\"}, \"x\": {\"field\": \"counts\", \"title\": \"\", \"type\": \"quantitative\"}, \"y\": {\"field\": \"type\", \"sort\": {\"field\": \"counts\", \"op\": \"sum\", \"order\": \"descending\"}, \"title\": \"\", \"type\": \"ordinal\"}}, \"height\": 100, \"width\": 100}, \"columns\": 3, \"resolve\": {\"scale\": {\"x\": \"independent\"}}, \"title\": \"Rate of Exceptional Behavior in the Library (Scale Independent)\", \"$schema\": \"https://vega.github.io/schema/vega-lite/v4.17.0.json\", \"datasets\": {\"data-981ca90c5612b475f1cdf090829c7de5\": [{\"exceptional_types\": \"Longterm Borrows\", \"counts\": 23, \"type\": \"books\"}, {\"exceptional_types\": \"Borrow Status Missing\", \"counts\": 4, \"type\": \"books\"}, {\"exceptional_types\": \"Borrows Beyond Subscription\", \"counts\": 2931, \"type\": \"books\"}, {\"exceptional_types\": \"Borrows After 1942\", \"counts\": 392, \"type\": \"books\"}, {\"exceptional_types\": \"Sunday Shoppers\", \"counts\": 246, \"type\": \"books\"}, {\"exceptional_types\": \"Borrow Status Unknown\", \"counts\": 539, \"type\": \"books\"}, {\"exceptional_types\": \"Longterm Borrows\", \"counts\": 12, \"type\": \"members\"}, {\"exceptional_types\": \"Borrow Status Missing\", \"counts\": 4, \"type\": \"members\"}, {\"exceptional_types\": \"Borrows Beyond Subscription\", \"counts\": 277, \"type\": \"members\"}, {\"exceptional_types\": \"Borrows After 1942\", \"counts\": 119, \"type\": \"members\"}, {\"exceptional_types\": \"Sunday Shoppers\", \"counts\": 101, \"type\": \"members\"}, {\"exceptional_types\": \"Borrow Status Unknown\", \"counts\": 219, \"type\": \"members\"}, {\"exceptional_types\": \"Longterm Borrows\", \"counts\": 24, \"type\": \"events\"}, {\"exceptional_types\": \"Borrow Status Missing\", \"counts\": 4, \"type\": \"events\"}, {\"exceptional_types\": \"Borrows Beyond Subscription\", \"counts\": 5752, \"type\": \"events\"}, {\"exceptional_types\": \"Borrows After 1942\", \"counts\": 538, \"type\": \"events\"}, {\"exceptional_types\": \"Sunday Shoppers\", \"counts\": 258, \"type\": \"events\"}, {\"exceptional_types\": \"Borrow Status Unknown\", \"counts\": 604, \"type\": \"events\"}]}}, {\"mode\": \"vega-lite\"});\n",
       "</script>"
      ],
      "text/plain": [
       "alt.FacetChart(...)"
      ]
     },
     "execution_count": 26,
     "metadata": {},
     "output_type": "execute_result"
    }
   ],
   "source": [
    "\n",
    "chart = alt.Chart(grouped_df).mark_bar().encode(\n",
    "    y=alt.Y('type:O', sort=alt.EncodingSortField(\n",
    "        field='counts', op='sum', order='descending'), title=''),\n",
    "    x=alt.X('counts:Q', title=''),\n",
    "    color=alt.Color('type:N', legend=alt.Legend(title='Library Dataset'), sort=alt.EncodingSortField(field='counts', op='sum', order='descending')),\n",
    ").properties(\n",
    "    width=100,\n",
    "    height=100,\n",
    ").facet(\n",
    "    facet=alt.Facet('exceptional_types:O', title=None),\n",
    "    columns=3,\n",
    "    title='Rate of Exceptional Behavior in the Library (Scale Independent)'\n",
    ").resolve_scale(x='independent')\n",
    "chart\n",
    "# chart.save('./visualizations/test.png')\n"
   ]
  }
 ],
 "metadata": {
  "interpreter": {
   "hash": "64bc08f1a64889c0d194e5f8836772fcdd5223ec9e3efb4bcd3e9cf106aac237"
  },
  "kernelspec": {
   "display_name": "Python 3.9.7 64-bit ('unknown_borrowers_env': venv)",
   "name": "python3"
  },
  "language_info": {
   "codemirror_mode": {
    "name": "ipython",
    "version": 3
   },
   "file_extension": ".py",
   "mimetype": "text/x-python",
   "name": "python",
   "nbconvert_exporter": "python",
   "pygments_lexer": "ipython3",
   "version": "3.9.7"
  },
  "orig_nbformat": 4
 },
 "nbformat": 4,
 "nbformat_minor": 2
}
