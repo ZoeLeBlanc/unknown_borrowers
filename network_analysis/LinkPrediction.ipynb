{
 "cells": [
  {
   "cell_type": "code",
   "execution_count": 1,
   "metadata": {},
   "outputs": [],
   "source": [
    "import pandas as pd\n",
    "pd.options.mode.chained_assignment = None\n",
    "pd.set_option('display.max_columns', None)\n",
    "import networkx as nx\n",
    "from networkx.algorithms import bipartite\n",
    "# import community\n",
    "from networkx.readwrite import json_graph\n",
    "# import nx_altair as nxa\n",
    "from networkx.algorithms.community import greedy_modularity_communities\n",
    "from pyvis import network as net\n",
    "# from node2vec import Node2Vec\n",
    "import altair as alt\n",
    "import matplotlib.pyplot as plt\n",
    "import numpy as np\n",
    "import itertools\n",
    "import collections\n",
    "from tqdm.notebook import trange, tqdm\n",
    "tqdm.pandas()\n",
    "import warnings\n",
    "warnings.filterwarnings(\"ignore\")\n",
    "from IPython.display import display, Markdown, HTML\n",
    "import sys\n",
    "sys.path.append(\"..\")\n",
    "from bigraph.predict import pa_predict, jc_predict, cn_predict,aa_predict, katz_predict\n",
    "from bigraph.evaluation import evaluation\n",
    "from network_analysis.birankpy import BipartiteNetwork\n",
    "from network_analysis.load_datasets import get_updated_shxco_data\n",
    "from network_analysis.generate_network_metrics import *\n",
    "from network_analysis.create_networks import *\n",
    "from network_analysis.read_write_networks import * \n",
    "from network_analysis.link_prediction import * \n",
    "members_df, books_df, borrow_events, events_df = get_updated_shxco_data(get_subscription=False)\n"
   ]
  },
  {
   "cell_type": "code",
   "execution_count": 2,
   "metadata": {},
   "outputs": [
    {
     "data": {
      "text/plain": [
       "relativedelta(months=+6)"
      ]
     },
     "execution_count": 2,
     "metadata": {},
     "output_type": "execute_result"
    }
   ],
   "source": [
    "from dateutil.relativedelta import relativedelta\n",
    "\n",
    "sixmonths = relativedelta(months=6)\n",
    "sixmonths\n"
   ]
  },
  {
   "cell_type": "code",
   "execution_count": 4,
   "metadata": {},
   "outputs": [
    {
     "data": {
      "text/html": [
       "<div>\n",
       "<style scoped>\n",
       "    .dataframe tbody tr th:only-of-type {\n",
       "        vertical-align: middle;\n",
       "    }\n",
       "\n",
       "    .dataframe tbody tr th {\n",
       "        vertical-align: top;\n",
       "    }\n",
       "\n",
       "    .dataframe thead th {\n",
       "        text-align: right;\n",
       "    }\n",
       "</style>\n",
       "<table border=\"1\" class=\"dataframe\">\n",
       "  <thead>\n",
       "    <tr style=\"text-align: right;\">\n",
       "      <th></th>\n",
       "      <th>member_id</th>\n",
       "      <th>subscription_start</th>\n",
       "      <th>subscription_end</th>\n",
       "      <th>known_borrows</th>\n",
       "      <th>index_col</th>\n",
       "    </tr>\n",
       "  </thead>\n",
       "  <tbody>\n",
       "    <tr>\n",
       "      <th>0</th>\n",
       "      <td>martin-maud</td>\n",
       "      <td>1923-10-17</td>\n",
       "      <td>1923-11-17</td>\n",
       "      <td>36</td>\n",
       "      <td>0</td>\n",
       "    </tr>\n",
       "  </tbody>\n",
       "</table>\n",
       "</div>"
      ],
      "text/plain": [
       "     member_id subscription_start subscription_end  known_borrows  index_col\n",
       "0  martin-maud         1923-10-17       1923-11-17             36          0"
      ]
     },
     "execution_count": 4,
     "metadata": {},
     "output_type": "execute_result"
    }
   ],
   "source": [
    "partial_df = pd.read_csv('../dataset_generator/data/partial_borrowers.csv')\n",
    "partial_df['index_col'] = partial_df.index\n",
    "partial_df[0:1]\n",
    "\n"
   ]
  },
  {
   "cell_type": "code",
   "execution_count": 5,
   "metadata": {},
   "outputs": [],
   "source": [
    "partial_members = partial_df.member_id.unique().tolist()\n",
    "# parse subscription dates so we can use them to identify circulating books\n",
    "partial_df['subscription_starttime'] = pd.to_datetime(\n",
    "    partial_df['subscription_start'], errors='coerce')\n",
    "partial_df['subscription_endtime'] = pd.to_datetime(\n",
    "    partial_df['subscription_end'], errors='coerce')\n",
    "\n",
    "# all_events = events_df[events_df.item_uri.isna() == False].copy()\n",
    "\n",
    "all_events = borrow_events.copy()\n"
   ]
  },
  {
   "cell_type": "markdown",
   "metadata": {},
   "source": [
    "### Bipartite Link Predictions for All Event Types"
   ]
  },
  {
   "cell_type": "code",
   "execution_count": 6,
   "metadata": {},
   "outputs": [
    {
     "name": "stdout",
     "output_type": "stream",
     "text": [
      "reloading saved graph: ./data/all_events_bipartite\n"
     ]
    }
   ],
   "source": [
    "member_attrs = {'uri': 'member_id'}\n",
    "book_attrs = {'uri': 'item_uri'}\n",
    "edge_attrs = {'weight': 'counts'}\n",
    "all_events_grouped = all_events.groupby(\n",
    "    ['member_id', 'item_uri']).size().reset_index(name='counts')\n",
    "\n",
    "should_process = True\n",
    "write_to_file = True\n",
    "sk_metrics = ['katz', 'louvain']\n",
    "link_metrics = ['HITS', 'CoHITS', 'BiRank', 'BGRM']\n",
    "\n",
    "\n",
    "all_events_bipartite_graph, all_events_bipartite_nodelist, all_events_bipartite_edgelist, all_events_members, all_events_books = check_reload_build_bipartite_graphs(\n",
    "    all_events_grouped, member_attrs, book_attrs, edge_attrs, should_process, write_to_file, './data/all_events_bipartite', sk_metrics, link_metrics, members_df, books_df)\n"
   ]
  },
  {
   "cell_type": "code",
   "execution_count": 7,
   "metadata": {},
   "outputs": [
    {
     "name": "stdout",
     "output_type": "stream",
     "text": [
      "Running jaccard link prediction\n",
      "Jaccard prediction starting...\n",
      "Jaccard Executed in 49.35101890563965 seconds \n",
      "\n",
      "Running preferential attachment link prediction\n",
      "Preferential_attachment prediction starting...\n",
      "Preferential attachment Executed in 31.891121864318848 seconds \n",
      "\n",
      "Running common neighbors link prediction\n",
      "Common neighbor prediction starting...\n",
      "Common neighbours Executed in 31.474580764770508 seconds \n",
      "\n",
      "Running adamic adar link prediction\n",
      "Adamic_adar prediction starting...\n",
      "Adamic-adar Executed in 135.7455222606659 seconds \n",
      "\n"
     ]
    }
   ],
   "source": [
    "all_preds = get_bipartite_link_predictions(all_events_bipartite_graph)\n"
   ]
  },
  {
   "cell_type": "code",
   "execution_count": 8,
   "metadata": {},
   "outputs": [
    {
     "data": {
      "text/html": [
       "<div>\n",
       "<style scoped>\n",
       "    .dataframe tbody tr th:only-of-type {\n",
       "        vertical-align: middle;\n",
       "    }\n",
       "\n",
       "    .dataframe tbody tr th {\n",
       "        vertical-align: top;\n",
       "    }\n",
       "\n",
       "    .dataframe thead th {\n",
       "        text-align: right;\n",
       "    }\n",
       "</style>\n",
       "<table border=\"1\" class=\"dataframe\">\n",
       "  <thead>\n",
       "    <tr style=\"text-align: right;\">\n",
       "      <th></th>\n",
       "      <th>jc_prediction</th>\n",
       "      <th>pa_prediction</th>\n",
       "      <th>cn_prediction</th>\n",
       "      <th>aa_prediction</th>\n",
       "    </tr>\n",
       "  </thead>\n",
       "  <tbody>\n",
       "    <tr>\n",
       "      <th>jc_prediction</th>\n",
       "      <td>1.000000</td>\n",
       "      <td>-0.018728</td>\n",
       "      <td>0.352680</td>\n",
       "      <td>0.312518</td>\n",
       "    </tr>\n",
       "    <tr>\n",
       "      <th>pa_prediction</th>\n",
       "      <td>-0.018728</td>\n",
       "      <td>1.000000</td>\n",
       "      <td>0.531993</td>\n",
       "      <td>0.559736</td>\n",
       "    </tr>\n",
       "    <tr>\n",
       "      <th>cn_prediction</th>\n",
       "      <td>0.352680</td>\n",
       "      <td>0.531993</td>\n",
       "      <td>1.000000</td>\n",
       "      <td>0.981303</td>\n",
       "    </tr>\n",
       "    <tr>\n",
       "      <th>aa_prediction</th>\n",
       "      <td>0.312518</td>\n",
       "      <td>0.559736</td>\n",
       "      <td>0.981303</td>\n",
       "      <td>1.000000</td>\n",
       "    </tr>\n",
       "  </tbody>\n",
       "</table>\n",
       "</div>"
      ],
      "text/plain": [
       "               jc_prediction  pa_prediction  cn_prediction  aa_prediction\n",
       "jc_prediction       1.000000      -0.018728       0.352680       0.312518\n",
       "pa_prediction      -0.018728       1.000000       0.531993       0.559736\n",
       "cn_prediction       0.352680       0.531993       1.000000       0.981303\n",
       "aa_prediction       0.312518       0.559736       0.981303       1.000000"
      ]
     },
     "execution_count": 8,
     "metadata": {},
     "output_type": "execute_result"
    }
   ],
   "source": [
    "metrics = ['jc_prediction', 'pa_prediction',\n",
    "           'cn_prediction', 'aa_prediction']\n",
    "all_preds[metrics].corr()"
   ]
  },
  {
   "cell_type": "code",
   "execution_count": 9,
   "metadata": {},
   "outputs": [],
   "source": [
    "title_lookup = {row.uri: row.title for row in books_df.itertuples()}"
   ]
  },
  {
   "cell_type": "code",
   "execution_count": 10,
   "metadata": {},
   "outputs": [
    {
     "data": {
      "application/vnd.jupyter.widget-view+json": {
       "model_id": "eb58bd6424554480a822d99d2d0595cc",
       "version_major": 2,
       "version_minor": 0
      },
      "text/plain": [
       "  0%|          | 0/219 [00:00<?, ?it/s]"
      ]
     },
     "metadata": {},
     "output_type": "display_data"
    },
    {
     "ename": "NameError",
     "evalue": "name 'events_df' is not defined",
     "output_type": "error",
     "traceback": [
      "\u001b[0;31m---------------------------------------------------------------------------\u001b[0m",
      "\u001b[0;31mNameError\u001b[0m                                 Traceback (most recent call last)",
      "\u001b[0;32m/var/folders/yx/jd4c1h85687d_c89d3508fk80000gp/T/ipykernel_67100/965252862.py\u001b[0m in \u001b[0;36m<module>\u001b[0;34m\u001b[0m\n\u001b[1;32m      2\u001b[0m \u001b[0;32mif\u001b[0m \u001b[0mos\u001b[0m\u001b[0;34m.\u001b[0m\u001b[0mpath\u001b[0m\u001b[0;34m.\u001b[0m\u001b[0mexists\u001b[0m\u001b[0;34m(\u001b[0m\u001b[0moutput_path\u001b[0m\u001b[0;34m)\u001b[0m\u001b[0;34m:\u001b[0m\u001b[0;34m\u001b[0m\u001b[0;34m\u001b[0m\u001b[0m\n\u001b[1;32m      3\u001b[0m     \u001b[0mos\u001b[0m\u001b[0;34m.\u001b[0m\u001b[0mremove\u001b[0m\u001b[0;34m(\u001b[0m\u001b[0moutput_path\u001b[0m\u001b[0;34m)\u001b[0m\u001b[0;34m\u001b[0m\u001b[0;34m\u001b[0m\u001b[0m\n\u001b[0;32m----> 4\u001b[0;31m \u001b[0mpartial_df\u001b[0m\u001b[0;34m.\u001b[0m\u001b[0mprogress_apply\u001b[0m\u001b[0;34m(\u001b[0m\u001b[0mget_full_predictions\u001b[0m\u001b[0;34m,\u001b[0m \u001b[0maxis\u001b[0m\u001b[0;34m=\u001b[0m\u001b[0;36m1\u001b[0m\u001b[0;34m,\u001b[0m \u001b[0mnumber_of_results\u001b[0m\u001b[0;34m=\u001b[0m\u001b[0;36m10\u001b[0m\u001b[0;34m,\u001b[0m \u001b[0mlimit_to_circulation\u001b[0m\u001b[0;34m=\u001b[0m\u001b[0;32mTrue\u001b[0m\u001b[0;34m,\u001b[0m \u001b[0mpredictions_df\u001b[0m\u001b[0;34m=\u001b[0m\u001b[0mall_preds\u001b[0m\u001b[0;34m,\u001b[0m \u001b[0mrelative_date\u001b[0m\u001b[0;34m=\u001b[0m\u001b[0msixmonths\u001b[0m\u001b[0;34m,\u001b[0m \u001b[0mpredict_group\u001b[0m\u001b[0;34m=\u001b[0m\u001b[0;34m'books'\u001b[0m\u001b[0;34m,\u001b[0m \u001b[0moutput_path\u001b[0m\u001b[0;34m=\u001b[0m\u001b[0moutput_path\u001b[0m\u001b[0;34m)\u001b[0m\u001b[0;34m\u001b[0m\u001b[0;34m\u001b[0m\u001b[0m\n\u001b[0m",
      "\u001b[0;32m~/workspace/unknown_borrowers/unknown_borrowers_env/lib/python3.9/site-packages/tqdm/std.py\u001b[0m in \u001b[0;36minner\u001b[0;34m(df, func, *args, **kwargs)\u001b[0m\n\u001b[1;32m    812\u001b[0m                 \u001b[0;31m# on the df using our wrapper (which provides bar updating)\u001b[0m\u001b[0;34m\u001b[0m\u001b[0;34m\u001b[0m\u001b[0m\n\u001b[1;32m    813\u001b[0m                 \u001b[0;32mtry\u001b[0m\u001b[0;34m:\u001b[0m\u001b[0;34m\u001b[0m\u001b[0;34m\u001b[0m\u001b[0m\n\u001b[0;32m--> 814\u001b[0;31m                     \u001b[0;32mreturn\u001b[0m \u001b[0mgetattr\u001b[0m\u001b[0;34m(\u001b[0m\u001b[0mdf\u001b[0m\u001b[0;34m,\u001b[0m \u001b[0mdf_function\u001b[0m\u001b[0;34m)\u001b[0m\u001b[0;34m(\u001b[0m\u001b[0mwrapper\u001b[0m\u001b[0;34m,\u001b[0m \u001b[0;34m**\u001b[0m\u001b[0mkwargs\u001b[0m\u001b[0;34m)\u001b[0m\u001b[0;34m\u001b[0m\u001b[0;34m\u001b[0m\u001b[0m\n\u001b[0m\u001b[1;32m    815\u001b[0m                 \u001b[0;32mfinally\u001b[0m\u001b[0;34m:\u001b[0m\u001b[0;34m\u001b[0m\u001b[0;34m\u001b[0m\u001b[0m\n\u001b[1;32m    816\u001b[0m                     \u001b[0mt\u001b[0m\u001b[0;34m.\u001b[0m\u001b[0mclose\u001b[0m\u001b[0;34m(\u001b[0m\u001b[0;34m)\u001b[0m\u001b[0;34m\u001b[0m\u001b[0;34m\u001b[0m\u001b[0m\n",
      "\u001b[0;32m~/workspace/unknown_borrowers/unknown_borrowers_env/lib/python3.9/site-packages/pandas/core/frame.py\u001b[0m in \u001b[0;36mapply\u001b[0;34m(self, func, axis, raw, result_type, args, **kwargs)\u001b[0m\n\u001b[1;32m   8739\u001b[0m             \u001b[0mkwargs\u001b[0m\u001b[0;34m=\u001b[0m\u001b[0mkwargs\u001b[0m\u001b[0;34m,\u001b[0m\u001b[0;34m\u001b[0m\u001b[0;34m\u001b[0m\u001b[0m\n\u001b[1;32m   8740\u001b[0m         )\n\u001b[0;32m-> 8741\u001b[0;31m         \u001b[0;32mreturn\u001b[0m \u001b[0mop\u001b[0m\u001b[0;34m.\u001b[0m\u001b[0mapply\u001b[0m\u001b[0;34m(\u001b[0m\u001b[0;34m)\u001b[0m\u001b[0;34m\u001b[0m\u001b[0;34m\u001b[0m\u001b[0m\n\u001b[0m\u001b[1;32m   8742\u001b[0m \u001b[0;34m\u001b[0m\u001b[0m\n\u001b[1;32m   8743\u001b[0m     def applymap(\n",
      "\u001b[0;32m~/workspace/unknown_borrowers/unknown_borrowers_env/lib/python3.9/site-packages/pandas/core/apply.py\u001b[0m in \u001b[0;36mapply\u001b[0;34m(self)\u001b[0m\n\u001b[1;32m    686\u001b[0m             \u001b[0;32mreturn\u001b[0m \u001b[0mself\u001b[0m\u001b[0;34m.\u001b[0m\u001b[0mapply_raw\u001b[0m\u001b[0;34m(\u001b[0m\u001b[0;34m)\u001b[0m\u001b[0;34m\u001b[0m\u001b[0;34m\u001b[0m\u001b[0m\n\u001b[1;32m    687\u001b[0m \u001b[0;34m\u001b[0m\u001b[0m\n\u001b[0;32m--> 688\u001b[0;31m         \u001b[0;32mreturn\u001b[0m \u001b[0mself\u001b[0m\u001b[0;34m.\u001b[0m\u001b[0mapply_standard\u001b[0m\u001b[0;34m(\u001b[0m\u001b[0;34m)\u001b[0m\u001b[0;34m\u001b[0m\u001b[0;34m\u001b[0m\u001b[0m\n\u001b[0m\u001b[1;32m    689\u001b[0m \u001b[0;34m\u001b[0m\u001b[0m\n\u001b[1;32m    690\u001b[0m     \u001b[0;32mdef\u001b[0m \u001b[0magg\u001b[0m\u001b[0;34m(\u001b[0m\u001b[0mself\u001b[0m\u001b[0;34m)\u001b[0m\u001b[0;34m:\u001b[0m\u001b[0;34m\u001b[0m\u001b[0;34m\u001b[0m\u001b[0m\n",
      "\u001b[0;32m~/workspace/unknown_borrowers/unknown_borrowers_env/lib/python3.9/site-packages/pandas/core/apply.py\u001b[0m in \u001b[0;36mapply_standard\u001b[0;34m(self)\u001b[0m\n\u001b[1;32m    810\u001b[0m \u001b[0;34m\u001b[0m\u001b[0m\n\u001b[1;32m    811\u001b[0m     \u001b[0;32mdef\u001b[0m \u001b[0mapply_standard\u001b[0m\u001b[0;34m(\u001b[0m\u001b[0mself\u001b[0m\u001b[0;34m)\u001b[0m\u001b[0;34m:\u001b[0m\u001b[0;34m\u001b[0m\u001b[0;34m\u001b[0m\u001b[0m\n\u001b[0;32m--> 812\u001b[0;31m         \u001b[0mresults\u001b[0m\u001b[0;34m,\u001b[0m \u001b[0mres_index\u001b[0m \u001b[0;34m=\u001b[0m \u001b[0mself\u001b[0m\u001b[0;34m.\u001b[0m\u001b[0mapply_series_generator\u001b[0m\u001b[0;34m(\u001b[0m\u001b[0;34m)\u001b[0m\u001b[0;34m\u001b[0m\u001b[0;34m\u001b[0m\u001b[0m\n\u001b[0m\u001b[1;32m    813\u001b[0m \u001b[0;34m\u001b[0m\u001b[0m\n\u001b[1;32m    814\u001b[0m         \u001b[0;31m# wrap results\u001b[0m\u001b[0;34m\u001b[0m\u001b[0;34m\u001b[0m\u001b[0m\n",
      "\u001b[0;32m~/workspace/unknown_borrowers/unknown_borrowers_env/lib/python3.9/site-packages/pandas/core/apply.py\u001b[0m in \u001b[0;36mapply_series_generator\u001b[0;34m(self)\u001b[0m\n\u001b[1;32m    826\u001b[0m             \u001b[0;32mfor\u001b[0m \u001b[0mi\u001b[0m\u001b[0;34m,\u001b[0m \u001b[0mv\u001b[0m \u001b[0;32min\u001b[0m \u001b[0menumerate\u001b[0m\u001b[0;34m(\u001b[0m\u001b[0mseries_gen\u001b[0m\u001b[0;34m)\u001b[0m\u001b[0;34m:\u001b[0m\u001b[0;34m\u001b[0m\u001b[0;34m\u001b[0m\u001b[0m\n\u001b[1;32m    827\u001b[0m                 \u001b[0;31m# ignore SettingWithCopy here in case the user mutates\u001b[0m\u001b[0;34m\u001b[0m\u001b[0;34m\u001b[0m\u001b[0m\n\u001b[0;32m--> 828\u001b[0;31m                 \u001b[0mresults\u001b[0m\u001b[0;34m[\u001b[0m\u001b[0mi\u001b[0m\u001b[0;34m]\u001b[0m \u001b[0;34m=\u001b[0m \u001b[0mself\u001b[0m\u001b[0;34m.\u001b[0m\u001b[0mf\u001b[0m\u001b[0;34m(\u001b[0m\u001b[0mv\u001b[0m\u001b[0;34m)\u001b[0m\u001b[0;34m\u001b[0m\u001b[0;34m\u001b[0m\u001b[0m\n\u001b[0m\u001b[1;32m    829\u001b[0m                 \u001b[0;32mif\u001b[0m \u001b[0misinstance\u001b[0m\u001b[0;34m(\u001b[0m\u001b[0mresults\u001b[0m\u001b[0;34m[\u001b[0m\u001b[0mi\u001b[0m\u001b[0;34m]\u001b[0m\u001b[0;34m,\u001b[0m \u001b[0mABCSeries\u001b[0m\u001b[0;34m)\u001b[0m\u001b[0;34m:\u001b[0m\u001b[0;34m\u001b[0m\u001b[0;34m\u001b[0m\u001b[0m\n\u001b[1;32m    830\u001b[0m                     \u001b[0;31m# If we have a view on v, we need to make a copy because\u001b[0m\u001b[0;34m\u001b[0m\u001b[0;34m\u001b[0m\u001b[0m\n",
      "\u001b[0;32m~/workspace/unknown_borrowers/unknown_borrowers_env/lib/python3.9/site-packages/pandas/core/apply.py\u001b[0m in \u001b[0;36mf\u001b[0;34m(x)\u001b[0m\n\u001b[1;32m    129\u001b[0m \u001b[0;34m\u001b[0m\u001b[0m\n\u001b[1;32m    130\u001b[0m             \u001b[0;32mdef\u001b[0m \u001b[0mf\u001b[0m\u001b[0;34m(\u001b[0m\u001b[0mx\u001b[0m\u001b[0;34m)\u001b[0m\u001b[0;34m:\u001b[0m\u001b[0;34m\u001b[0m\u001b[0;34m\u001b[0m\u001b[0m\n\u001b[0;32m--> 131\u001b[0;31m                 \u001b[0;32mreturn\u001b[0m \u001b[0mfunc\u001b[0m\u001b[0;34m(\u001b[0m\u001b[0mx\u001b[0m\u001b[0;34m,\u001b[0m \u001b[0;34m*\u001b[0m\u001b[0margs\u001b[0m\u001b[0;34m,\u001b[0m \u001b[0;34m**\u001b[0m\u001b[0mkwargs\u001b[0m\u001b[0;34m)\u001b[0m\u001b[0;34m\u001b[0m\u001b[0;34m\u001b[0m\u001b[0m\n\u001b[0m\u001b[1;32m    132\u001b[0m \u001b[0;34m\u001b[0m\u001b[0m\n\u001b[1;32m    133\u001b[0m         \u001b[0;32melse\u001b[0m\u001b[0;34m:\u001b[0m\u001b[0;34m\u001b[0m\u001b[0;34m\u001b[0m\u001b[0m\n",
      "\u001b[0;32m~/workspace/unknown_borrowers/unknown_borrowers_env/lib/python3.9/site-packages/tqdm/std.py\u001b[0m in \u001b[0;36mwrapper\u001b[0;34m(*args, **kwargs)\u001b[0m\n\u001b[1;32m    807\u001b[0m                     \u001b[0;31m# take a fast or slow code path; so stop when t.total==t.n\u001b[0m\u001b[0;34m\u001b[0m\u001b[0;34m\u001b[0m\u001b[0m\n\u001b[1;32m    808\u001b[0m                     \u001b[0mt\u001b[0m\u001b[0;34m.\u001b[0m\u001b[0mupdate\u001b[0m\u001b[0;34m(\u001b[0m\u001b[0mn\u001b[0m\u001b[0;34m=\u001b[0m\u001b[0;36m1\u001b[0m \u001b[0;32mif\u001b[0m \u001b[0;32mnot\u001b[0m \u001b[0mt\u001b[0m\u001b[0;34m.\u001b[0m\u001b[0mtotal\u001b[0m \u001b[0;32mor\u001b[0m \u001b[0mt\u001b[0m\u001b[0;34m.\u001b[0m\u001b[0mn\u001b[0m \u001b[0;34m<\u001b[0m \u001b[0mt\u001b[0m\u001b[0;34m.\u001b[0m\u001b[0mtotal\u001b[0m \u001b[0;32melse\u001b[0m \u001b[0;36m0\u001b[0m\u001b[0;34m)\u001b[0m\u001b[0;34m\u001b[0m\u001b[0;34m\u001b[0m\u001b[0m\n\u001b[0;32m--> 809\u001b[0;31m                     \u001b[0;32mreturn\u001b[0m \u001b[0mfunc\u001b[0m\u001b[0;34m(\u001b[0m\u001b[0;34m*\u001b[0m\u001b[0margs\u001b[0m\u001b[0;34m,\u001b[0m \u001b[0;34m**\u001b[0m\u001b[0mkwargs\u001b[0m\u001b[0;34m)\u001b[0m\u001b[0;34m\u001b[0m\u001b[0;34m\u001b[0m\u001b[0m\n\u001b[0m\u001b[1;32m    810\u001b[0m \u001b[0;34m\u001b[0m\u001b[0m\n\u001b[1;32m    811\u001b[0m                 \u001b[0;31m# Apply the provided function (in **kwargs)\u001b[0m\u001b[0;34m\u001b[0m\u001b[0;34m\u001b[0m\u001b[0m\n",
      "\u001b[0;32m~/workspace/unknown_borrowers/network_analysis/../network_analysis/link_prediction.py\u001b[0m in \u001b[0;36mget_full_predictions\u001b[0;34m(row, number_of_results, limit_to_circulation, predictions_df, relative_date, predict_group, output_path)\u001b[0m\n\u001b[1;32m     76\u001b[0m     \u001b[0mcirculation_start\u001b[0m \u001b[0;34m=\u001b[0m \u001b[0mrow\u001b[0m\u001b[0;34m.\u001b[0m\u001b[0msubscription_starttime\u001b[0m \u001b[0;34m-\u001b[0m \u001b[0mrelative_date\u001b[0m\u001b[0;34m\u001b[0m\u001b[0;34m\u001b[0m\u001b[0m\n\u001b[1;32m     77\u001b[0m \u001b[0;34m\u001b[0m\u001b[0m\n\u001b[0;32m---> 78\u001b[0;31m     all_possible_circulations = events_df[(\n\u001b[0m\u001b[1;32m     79\u001b[0m         row.subscription_endtime >= events_df.end_datetime)]\n\u001b[1;32m     80\u001b[0m     circulation_events = events_df[events_df.start_datetime.between(\n",
      "\u001b[0;31mNameError\u001b[0m: name 'events_df' is not defined"
     ]
    }
   ],
   "source": [
    "output_path = './data/partial_members_bipartite_network_all_events_link_predictions.csv'\n",
    "if os.path.exists(output_path):\n",
    "    os.remove(output_path)\n",
    "partial_df.progress_apply(get_full_predictions, axis=1, number_of_results=10, limit_to_circulation=True, predictions_df=all_preds, events_df=events_df, relative_date=sixmonths, predict_group='books', output_path=output_path)\n"
   ]
  },
  {
   "cell_type": "code",
   "execution_count": null,
   "metadata": {},
   "outputs": [],
   "source": [
    "processed_predictions = pd.read_csv(output_path)\n"
   ]
  },
  {
   "cell_type": "code",
   "execution_count": null,
   "metadata": {},
   "outputs": [],
   "source": [
    "number_of_results = 10\n",
    "limit_to_circulation = True\n",
    "predictions_df = all_preds.copy()\n",
    "dfs = []\n",
    "for index, row in tqdm(partial_df.iterrows(), total=partial_df.shape[0]):\n",
    "    identified_top_predictions = {}\n",
    "\n",
    "    circulation_start = row.subscription_starttime - sixmonths\n",
    "\n",
    "    all_possible_circulations = events_df[(\n",
    "        row.subscription_endtime >= events_df.end_datetime)]\n",
    "    circulation_events = events_df[events_df.start_datetime.between(\n",
    "        circulation_start, row.subscription_endtime) | events_df.end_datetime.between(circulation_start, row.subscription_endtime)]\n",
    "\n",
    "    popular_all = all_possible_circulations.groupby(['item_uri']).size().reset_index(\n",
    "    name='counts').sort_values(['counts'], ascending=False)[0:number_of_results]\n",
    "    popular_current = circulation_events.groupby(['item_uri']).size().reset_index(\n",
    "        name='counts').sort_values(['counts'], ascending=False)[0:number_of_results]\n",
    "    \n",
    "    circulation_all = all_possible_circulations.item_uri.unique().tolist()\n",
    "    circulation_books = circulation_events.item_uri.unique().tolist()\n",
    "\n",
    "    identified_top_predictions['popular_all_books'] = popular_all.item_uri.tolist(\n",
    "    )\n",
    "    identified_top_predictions['popular_all_counts'] = popular_all.counts.tolist(\n",
    "    )\n",
    "    identified_top_predictions['popular_current_books'] = popular_current.item_uri.tolist(\n",
    "    )\n",
    "    identified_top_predictions['popular_current_counts'] = popular_current.counts.tolist(\n",
    "    )\n",
    "    for idx, m in enumerate(metrics):\n",
    "\n",
    "        subset_all_predictions = get_predictions_by_metric(\n",
    "            row, m, predictions_df, circulation_all, limit_to_circulation)\n",
    "        subset_predictions = get_predictions_by_metric(\n",
    "            row, m, predictions_df, circulation_books, limit_to_circulation)\n",
    "        identified_top_predictions[f'{m}_all'] = subset_all_predictions[0:number_of_results].item_uri.tolist(\n",
    "        )\n",
    "        identified_top_predictions[f'{m}_sixmonths'] = subset_predictions[0:number_of_results].item_uri.tolist()\n",
    "\n",
    "        identified_top_predictions[f'{m}_all_scores'] = subset_predictions[0:number_of_results][m].tolist(\n",
    "        )\n",
    "        identified_top_predictions[f'{m}_six_months_scores'] = subset_predictions[0:number_of_results][m].tolist(\n",
    "        )\n",
    "    df_final = pd.DataFrame.from_dict(\n",
    "        identified_top_predictions, orient='columns')\n",
    "\n",
    "    df_final['member_id'] = row.member_id\n",
    "    df_final['subscription_starttime'] = row.subscription_starttime\n",
    "    df_final['subscription_endtime'] = row.subscription_endtime\n",
    "    df_final['known_borrows'] = row.known_borrows\n",
    "\n",
    "    output_path = './data/partial_members_bipartite_network_all_events_link_predictions.csv'\n",
    "    if (index == 0) & os.path.exists(output_path):\n",
    "        os.remove(output_path)\n",
    "    if os.path.exists(output_path):\n",
    "        df_final.to_csv(output_path, mode='a', header=False, index=False)\n",
    "    else:\n",
    "        df_final.to_csv(output_path, index=False, header=True)\n"
   ]
  },
  {
   "cell_type": "code",
   "execution_count": null,
   "metadata": {},
   "outputs": [],
   "source": [
    "tuples = [tuple(x) for x in all_events_bipartite_edgelist.values]\n",
    "graph = convert_edge_list(tuples, bipartite=True)\n",
    "biadjacency = graph.biadjacency\n",
    "names = graph.names\n",
    "ji = JaccardIndex()\n",
    "ji.fit(biadjacency)\n"
   ]
  },
  {
   "cell_type": "code",
   "execution_count": null,
   "metadata": {},
   "outputs": [],
   "source": [
    "from numpy import argsort\n",
    "for member in partial_members:\n",
    "    i, = np.where(names == member)\n",
    "\n",
    "    ji_scores = ji.predict(i[0])\n",
    "\n",
    "    # col_name = '_'.join(list(pred_edge.keys()))\n",
    "    print(f'most similar members based on book history of {member}', names[argsort(-ji_scores)][0:10])\n"
   ]
  },
  {
   "cell_type": "code",
   "execution_count": null,
   "metadata": {},
   "outputs": [],
   "source": [
    "G = sorted(nx.connected_components(graph), key=len, reverse=True)\n",
    "G = graph.subgraph(G[0])\n"
   ]
  },
  {
   "cell_type": "code",
   "execution_count": null,
   "metadata": {},
   "outputs": [],
   "source": [
    "from networkx.algorithms import bipartite\n",
    "\n",
    "print(bipartite.average_clustering(graph))\n",
    "# print(bipartite.transitivy(G))\n"
   ]
  },
  {
   "cell_type": "code",
   "execution_count": null,
   "metadata": {},
   "outputs": [],
   "source": [
    "graph.number_of_edges(), graph.number_of_nodes()"
   ]
  },
  {
   "cell_type": "code",
   "execution_count": null,
   "metadata": {},
   "outputs": [],
   "source": [
    "results = evaluation.evaluate(graph, k=2, method='all')\n"
   ]
  },
  {
   "cell_type": "code",
   "execution_count": null,
   "metadata": {},
   "outputs": [],
   "source": [
    "\n",
    "\n",
    "tpr = list(results.values())[0][2]\n",
    "fpr = list(results.values())[0][3]\n",
    "metric = list(results.keys())[0]\n",
    "\n",
    "evaluation._plot_ROC(fpr, tpr, metric)\n"
   ]
  },
  {
   "cell_type": "code",
   "execution_count": null,
   "metadata": {},
   "outputs": [],
   "source": [
    "hop2s = dict()\n",
    "neighbors = dict()\n",
    "katz_sim = defaultdict(dict)\n",
    "sortDic = {}\n",
    "left_set = [n for n, d in G.nodes(data=True) if d['bipartite'] == 0]\n",
    "right_set = [n for n, d in G.nodes(data=True) if d['bipartite'] == 1]\n"
   ]
  },
  {
   "cell_type": "code",
   "execution_count": null,
   "metadata": {},
   "outputs": [],
   "source": [
    "list(set(G['colens'])).count('squire-london-mercury')\n",
    "\n"
   ]
  },
  {
   "cell_type": "markdown",
   "metadata": {},
   "source": [
    "### Circulation Specific Bipartite Link Predictions"
   ]
  },
  {
   "cell_type": "code",
   "execution_count": 12,
   "metadata": {},
   "outputs": [
    {
     "name": "stdout",
     "output_type": "stream",
     "text": [
      "Processing jolas-maria with subscription 1922-01-17\n",
      "building graph: test2\n",
      "connected? False\n",
      "bipartite? True\n",
      "[276, 7, 6, 6, 5, 4, 2, 2, 2]\n",
      "graph density:  0.033860502838605026\n",
      "calculating global degree\n",
      "calculating top global clustering\n",
      "calculating bottom global clustering\n",
      "calculating global closeness\n",
      "calculating global closeness\n"
     ]
    },
    {
     "data": {
      "application/vnd.jupyter.widget-view+json": {
       "model_id": "3bf49a2f13b34a02a0e4bb889be842f4",
       "version_major": 2,
       "version_minor": 0
      },
      "text/plain": [
       "  0%|          | 0/9 [00:00<?, ?it/s]"
      ]
     },
     "metadata": {},
     "output_type": "display_data"
    },
    {
     "name": "stdout",
     "output_type": "stream",
     "text": [
      "calculating local skmetrics: katz louvain HITS CoHITS BiRank BGRM\n",
      "component 1 - size 6 - graph density  1.0\n",
      "calculating katz\n",
      "component 2 - size 276 - graph density  0.04435483870967742\n",
      "calculating katz\n",
      "component 3 - size 6 - graph density  1.0\n",
      "calculating katz\n",
      "component 4 - size 5 - graph density  1.0\n",
      "calculating katz\n",
      "component 5 - size 2 - graph density  1.0\n",
      "calculating katz\n",
      "component 6 - size 2 - graph density  1.0\n",
      "calculating katz\n",
      "component 7 - size 7 - graph density  1.0\n",
      "calculating katz\n",
      "component 8 - size 2 - graph density  1.0\n",
      "calculating katz\n",
      "component 9 - size 4 - graph density  1.0\n",
      "calculating katz\n",
      "calculating global skmetrics: katz louvain\n",
      "calculating katz\n",
      "calculating global link metrics: : HITS CoHITS BiRank BGRM\n",
      "Running jaccard link prediction\n",
      "Jaccard prediction starting...\n",
      "Jaccard Executed in 0.059008121490478516 seconds \n",
      "\n",
      "Running preferential attachment link prediction\n",
      "Preferential_attachment prediction starting...\n",
      "Preferential attachment Executed in 0.0442500114440918 seconds \n",
      "\n",
      "Running common neighbors link prediction\n",
      "Common neighbor prediction starting...\n",
      "Common neighbours Executed in 0.03687119483947754 seconds \n",
      "\n",
      "Running adamic adar link prediction\n",
      "Adamic_adar prediction starting...\n",
      "Adamic-adar Executed in 0.04651498794555664 seconds \n",
      "\n",
      "        member_id                             item_uri  jc_prediction  \\\n",
      "1632  jolas-maria          joyce-portrait-artist-young            NaN   \n",
      "1607  jolas-maria  shaw-back-methuselah-metabiological            NaN   \n",
      "1650  jolas-maria          norris-brass-novel-marriage            NaN   \n",
      "1644  jolas-maria     george-confession-ursula-trent-2            NaN   \n",
      "1508  jolas-maria        foster-coquette-history-eliza            NaN   \n",
      "...           ...                                  ...            ...   \n",
      "1615  jolas-maria                   macaulay-potterism            NaN   \n",
      "1616  jolas-maria                  moore-hail-farewell            NaN   \n",
      "1617  jolas-maria                         nock-freeman            NaN   \n",
      "1618  jolas-maria                oneill-beyond-horizon            NaN   \n",
      "1773  jolas-maria                 tagore-mashi-stories            NaN   \n",
      "\n",
      "      pa_prediction  cn_prediction  aa_prediction  \n",
      "1632             20            NaN            NaN  \n",
      "1607             15            NaN            NaN  \n",
      "1650             15            NaN            NaN  \n",
      "1644             15            NaN            NaN  \n",
      "1508             15            NaN            NaN  \n",
      "...             ...            ...            ...  \n",
      "1615              5            NaN            NaN  \n",
      "1616              5            NaN            NaN  \n",
      "1617              5            NaN            NaN  \n",
      "1618              5            NaN            NaN  \n",
      "1773              5            NaN            NaN  \n",
      "\n",
      "[269 rows x 6 columns]\n"
     ]
    }
   ],
   "source": [
    "book_attrs = {'uri': 'item_uri'}\n",
    "edge_attrs = {'weight': 'counts'}\n",
    "should_process = True\n",
    "write_to_file = False\n",
    "sk_metrics = ['katz', 'louvain']\n",
    "link_metrics = ['HITS', 'CoHITS', 'BiRank', 'BGRM']\n",
    "predictions_df = None\n",
    "# row = partial_df[0:1]\n",
    "# start = pd.to_datetime(row.subscription_start.values[0], errors='coerce')\n",
    "# end = pd.to_datetime(row.subscription_end.values[0], errors='coerce')\n",
    "# circulation_start = start - sixmonths\n",
    "circulation_events_bipartite_graph = None\n",
    "circulation_events_bipartite_nodelist = None\n",
    "circulation_events_books = None\n",
    "circulation_events_members = None\n",
    "popular_books = None\n",
    "number_of_results = 5\n",
    "for index, row in partial_df[9:10].iterrows():\n",
    "    print(f'Processing {row.member_id} with subscription {row.subscription_start}')\n",
    "    seed_data = events_df[(events_df.member_id == row.member_id) & (events_df.item_uri.isna() == False)]\n",
    "    \n",
    "    circulation_start = row.subscription_starttime - sixmonths\n",
    "    circulation_events = events_df[events_df.start_datetime.between(\n",
    "        circulation_start, row.subscription_endtime) | events_df.end_datetime.between(circulation_start, row.subscription_endtime)]\n",
    "    circulation_events = circulation_events[circulation_events.member_id != row.member_id]\n",
    "\n",
    "    all_possible_circulations = events_df[(row.subscription_endtime >= events_df.end_datetime)]\n",
    "    all_possible_circulations = all_possible_circulations[all_possible_circulations.member_id != row.member_id]\n",
    "\n",
    "    popular_current = circulation_events.groupby(['item_uri']).size().reset_index(\n",
    "        name='counts').sort_values(['counts'], ascending=False)[0:number_of_results]\n",
    "    popular_books = popular_current.item_uri.tolist()\n",
    "\n",
    "    popular_all = all_possible_circulations.groupby(['item_uri']).size().reset_index(\n",
    "        name='counts').sort_values(['counts'], ascending=False)[0:number_of_results]\n",
    "    popular_books_all = popular_all.item_uri.tolist()\n",
    "\n",
    "    member_borrows = len(circulation_events[(circulation_events.member_id == row.member_id) & (circulation_events.item_uri.isna()==False)])\n",
    "    all_member_borrows = len(all_possible_circulations[(all_possible_circulations.member_id == row.member_id) & (all_possible_circulations.item_uri.isna() == False)])\n",
    "    # print(row.member_id, member_borrows, len(circulation_events), len(seed_data))\n",
    "    sixmonths_graph_data = pd.concat([seed_data, circulation_events], axis=0)\n",
    "    all_graph_data = pd.concat([seed_data, all_possible_circulations], axis=0)\n",
    "    member_attrs = {'uri': 'member_id'}\n",
    "\n",
    "    all_circulation_events_grouped = all_graph_data.groupby(['member_id', 'item_uri']).size().reset_index(name='counts')\n",
    "    circulation_events_grouped = sixmonths_graph_data.groupby(\n",
    "    ['member_id', 'item_uri']).size().reset_index(name='counts')\n",
    "\n",
    "    circulation_events_bipartite_graph, circulation_events_bipartite_nodelist, circulation_events_bipartite_edgelist, circulation_events_members, circulation_events_books = check_reload_build_bipartite_graphs(\n",
    "        circulation_events_grouped, member_attrs, book_attrs, edge_attrs, should_process, write_to_file, 'test2', sk_metrics, link_metrics, members_df, books_df)\n",
    "\n",
    "    predictions_df = get_bipartite_link_predictions(circulation_events_bipartite_graph)\n",
    "    \n",
    "    print(predictions_df[predictions_df.member_id == row.member_id].sort_values(['pa_prediction'], ascending=False))"
   ]
  },
  {
   "cell_type": "code",
   "execution_count": 13,
   "metadata": {},
   "outputs": [
    {
     "data": {
      "text/plain": [
       "9    jolas-maria\n",
       "Name: member_id, dtype: object"
      ]
     },
     "execution_count": 13,
     "metadata": {},
     "output_type": "execute_result"
    }
   ],
   "source": [
    "partial_df[9:10].member_id"
   ]
  },
  {
   "cell_type": "code",
   "execution_count": 19,
   "metadata": {},
   "outputs": [
    {
     "data": {
      "text/html": [
       "<div>\n",
       "<style scoped>\n",
       "    .dataframe tbody tr th:only-of-type {\n",
       "        vertical-align: middle;\n",
       "    }\n",
       "\n",
       "    .dataframe tbody tr th {\n",
       "        vertical-align: top;\n",
       "    }\n",
       "\n",
       "    .dataframe thead th {\n",
       "        text-align: right;\n",
       "    }\n",
       "</style>\n",
       "<table border=\"1\" class=\"dataframe\">\n",
       "  <thead>\n",
       "    <tr style=\"text-align: right;\">\n",
       "      <th></th>\n",
       "      <th>member_id</th>\n",
       "      <th>item_uri</th>\n",
       "      <th>jc_prediction</th>\n",
       "      <th>pa_prediction</th>\n",
       "      <th>cn_prediction</th>\n",
       "      <th>aa_prediction</th>\n",
       "    </tr>\n",
       "  </thead>\n",
       "  <tbody>\n",
       "    <tr>\n",
       "      <th>1505</th>\n",
       "      <td>jolas-maria</td>\n",
       "      <td>clouston-lunatic-large-novel</td>\n",
       "      <td>NaN</td>\n",
       "      <td>10</td>\n",
       "      <td>NaN</td>\n",
       "      <td>NaN</td>\n",
       "    </tr>\n",
       "    <tr>\n",
       "      <th>1506</th>\n",
       "      <td>jolas-maria</td>\n",
       "      <td>fielding-history-tom-jones</td>\n",
       "      <td>NaN</td>\n",
       "      <td>5</td>\n",
       "      <td>NaN</td>\n",
       "      <td>NaN</td>\n",
       "    </tr>\n",
       "    <tr>\n",
       "      <th>1507</th>\n",
       "      <td>jolas-maria</td>\n",
       "      <td>strachey-eminent-victorians</td>\n",
       "      <td>NaN</td>\n",
       "      <td>10</td>\n",
       "      <td>NaN</td>\n",
       "      <td>NaN</td>\n",
       "    </tr>\n",
       "    <tr>\n",
       "      <th>1508</th>\n",
       "      <td>jolas-maria</td>\n",
       "      <td>foster-coquette-history-eliza</td>\n",
       "      <td>NaN</td>\n",
       "      <td>15</td>\n",
       "      <td>NaN</td>\n",
       "      <td>NaN</td>\n",
       "    </tr>\n",
       "    <tr>\n",
       "      <th>1509</th>\n",
       "      <td>jolas-maria</td>\n",
       "      <td>kaye-smith-green-apple-harvest</td>\n",
       "      <td>NaN</td>\n",
       "      <td>10</td>\n",
       "      <td>NaN</td>\n",
       "      <td>NaN</td>\n",
       "    </tr>\n",
       "    <tr>\n",
       "      <th>1510</th>\n",
       "      <td>jolas-maria</td>\n",
       "      <td>lawrence-trespasser</td>\n",
       "      <td>NaN</td>\n",
       "      <td>15</td>\n",
       "      <td>NaN</td>\n",
       "      <td>NaN</td>\n",
       "    </tr>\n",
       "    <tr>\n",
       "      <th>1511</th>\n",
       "      <td>jolas-maria</td>\n",
       "      <td>loving-fifty-contemporary-one</td>\n",
       "      <td>NaN</td>\n",
       "      <td>10</td>\n",
       "      <td>NaN</td>\n",
       "      <td>NaN</td>\n",
       "    </tr>\n",
       "    <tr>\n",
       "      <th>1512</th>\n",
       "      <td>jolas-maria</td>\n",
       "      <td>man-king</td>\n",
       "      <td>NaN</td>\n",
       "      <td>5</td>\n",
       "      <td>NaN</td>\n",
       "      <td>NaN</td>\n",
       "    </tr>\n",
       "    <tr>\n",
       "      <th>1513</th>\n",
       "      <td>jolas-maria</td>\n",
       "      <td>sayler-russian-theatre</td>\n",
       "      <td>NaN</td>\n",
       "      <td>10</td>\n",
       "      <td>NaN</td>\n",
       "      <td>NaN</td>\n",
       "    </tr>\n",
       "    <tr>\n",
       "      <th>1514</th>\n",
       "      <td>jolas-maria</td>\n",
       "      <td>andersen-nexo-ditte-daughter-man</td>\n",
       "      <td>NaN</td>\n",
       "      <td>5</td>\n",
       "      <td>NaN</td>\n",
       "      <td>NaN</td>\n",
       "    </tr>\n",
       "    <tr>\n",
       "      <th>1515</th>\n",
       "      <td>jolas-maria</td>\n",
       "      <td>butler-erewhon</td>\n",
       "      <td>NaN</td>\n",
       "      <td>10</td>\n",
       "      <td>NaN</td>\n",
       "      <td>NaN</td>\n",
       "    </tr>\n",
       "    <tr>\n",
       "      <th>1516</th>\n",
       "      <td>jolas-maria</td>\n",
       "      <td>cannan-stucco-house</td>\n",
       "      <td>NaN</td>\n",
       "      <td>10</td>\n",
       "      <td>NaN</td>\n",
       "      <td>NaN</td>\n",
       "    </tr>\n",
       "    <tr>\n",
       "      <th>1517</th>\n",
       "      <td>jolas-maria</td>\n",
       "      <td>chamberlin-private-character-queen</td>\n",
       "      <td>NaN</td>\n",
       "      <td>5</td>\n",
       "      <td>NaN</td>\n",
       "      <td>NaN</td>\n",
       "    </tr>\n",
       "    <tr>\n",
       "      <th>1518</th>\n",
       "      <td>jolas-maria</td>\n",
       "      <td>conrad-western-eyes</td>\n",
       "      <td>NaN</td>\n",
       "      <td>15</td>\n",
       "      <td>NaN</td>\n",
       "      <td>NaN</td>\n",
       "    </tr>\n",
       "    <tr>\n",
       "      <th>1519</th>\n",
       "      <td>jolas-maria</td>\n",
       "      <td>dane-regiment-women</td>\n",
       "      <td>NaN</td>\n",
       "      <td>10</td>\n",
       "      <td>NaN</td>\n",
       "      <td>NaN</td>\n",
       "    </tr>\n",
       "    <tr>\n",
       "      <th>1520</th>\n",
       "      <td>jolas-maria</td>\n",
       "      <td>joyce-dubliners</td>\n",
       "      <td>NaN</td>\n",
       "      <td>5</td>\n",
       "      <td>NaN</td>\n",
       "      <td>NaN</td>\n",
       "    </tr>\n",
       "    <tr>\n",
       "      <th>1521</th>\n",
       "      <td>jolas-maria</td>\n",
       "      <td>moore-untilled-field</td>\n",
       "      <td>NaN</td>\n",
       "      <td>5</td>\n",
       "      <td>NaN</td>\n",
       "      <td>NaN</td>\n",
       "    </tr>\n",
       "    <tr>\n",
       "      <th>1522</th>\n",
       "      <td>jolas-maria</td>\n",
       "      <td>nietzsche-selected-letters-friedrich</td>\n",
       "      <td>NaN</td>\n",
       "      <td>5</td>\n",
       "      <td>NaN</td>\n",
       "      <td>NaN</td>\n",
       "    </tr>\n",
       "    <tr>\n",
       "      <th>1523</th>\n",
       "      <td>jolas-maria</td>\n",
       "      <td>sinnett-growth-soul</td>\n",
       "      <td>NaN</td>\n",
       "      <td>10</td>\n",
       "      <td>NaN</td>\n",
       "      <td>NaN</td>\n",
       "    </tr>\n",
       "    <tr>\n",
       "      <th>1524</th>\n",
       "      <td>jolas-maria</td>\n",
       "      <td>wassermann-worlds-illusion</td>\n",
       "      <td>NaN</td>\n",
       "      <td>5</td>\n",
       "      <td>NaN</td>\n",
       "      <td>NaN</td>\n",
       "    </tr>\n",
       "  </tbody>\n",
       "</table>\n",
       "</div>"
      ],
      "text/plain": [
       "        member_id                              item_uri  jc_prediction  \\\n",
       "1505  jolas-maria          clouston-lunatic-large-novel            NaN   \n",
       "1506  jolas-maria            fielding-history-tom-jones            NaN   \n",
       "1507  jolas-maria           strachey-eminent-victorians            NaN   \n",
       "1508  jolas-maria         foster-coquette-history-eliza            NaN   \n",
       "1509  jolas-maria        kaye-smith-green-apple-harvest            NaN   \n",
       "1510  jolas-maria                   lawrence-trespasser            NaN   \n",
       "1511  jolas-maria         loving-fifty-contemporary-one            NaN   \n",
       "1512  jolas-maria                              man-king            NaN   \n",
       "1513  jolas-maria                sayler-russian-theatre            NaN   \n",
       "1514  jolas-maria      andersen-nexo-ditte-daughter-man            NaN   \n",
       "1515  jolas-maria                        butler-erewhon            NaN   \n",
       "1516  jolas-maria                   cannan-stucco-house            NaN   \n",
       "1517  jolas-maria    chamberlin-private-character-queen            NaN   \n",
       "1518  jolas-maria                   conrad-western-eyes            NaN   \n",
       "1519  jolas-maria                   dane-regiment-women            NaN   \n",
       "1520  jolas-maria                       joyce-dubliners            NaN   \n",
       "1521  jolas-maria                  moore-untilled-field            NaN   \n",
       "1522  jolas-maria  nietzsche-selected-letters-friedrich            NaN   \n",
       "1523  jolas-maria                   sinnett-growth-soul            NaN   \n",
       "1524  jolas-maria            wassermann-worlds-illusion            NaN   \n",
       "\n",
       "      pa_prediction  cn_prediction  aa_prediction  \n",
       "1505             10            NaN            NaN  \n",
       "1506              5            NaN            NaN  \n",
       "1507             10            NaN            NaN  \n",
       "1508             15            NaN            NaN  \n",
       "1509             10            NaN            NaN  \n",
       "1510             15            NaN            NaN  \n",
       "1511             10            NaN            NaN  \n",
       "1512              5            NaN            NaN  \n",
       "1513             10            NaN            NaN  \n",
       "1514              5            NaN            NaN  \n",
       "1515             10            NaN            NaN  \n",
       "1516             10            NaN            NaN  \n",
       "1517              5            NaN            NaN  \n",
       "1518             15            NaN            NaN  \n",
       "1519             10            NaN            NaN  \n",
       "1520              5            NaN            NaN  \n",
       "1521              5            NaN            NaN  \n",
       "1522              5            NaN            NaN  \n",
       "1523             10            NaN            NaN  \n",
       "1524              5            NaN            NaN  "
      ]
     },
     "execution_count": 19,
     "metadata": {},
     "output_type": "execute_result"
    }
   ],
   "source": [
    "predictions_df[predictions_df.member_id == 'jolas-maria'].sort_values(\n",
    "    by=['jc_prediction'], ascending=False)[0:20]\n"
   ]
  },
  {
   "cell_type": "code",
   "execution_count": null,
   "metadata": {},
   "outputs": [],
   "source": [
    "top_books = predictions_df[predictions_df.member_id == 'colens'].sort_values(by='jc_prediction', ascending=False)\n",
    "top_books"
   ]
  },
  {
   "cell_type": "code",
   "execution_count": null,
   "metadata": {},
   "outputs": [],
   "source": [
    "top_books[top_books.jc_prediction.isna() == False]"
   ]
  },
  {
   "cell_type": "code",
   "execution_count": null,
   "metadata": {},
   "outputs": [],
   "source": [
    "circulation_events_bipartite_nodelist[circulation_events_bipartite_nodelist.group == 'books'].sort_values(by='global_degree', ascending=False)[0:10]\n"
   ]
  },
  {
   "cell_type": "code",
   "execution_count": null,
   "metadata": {},
   "outputs": [],
   "source": [
    "popular_books"
   ]
  },
  {
   "cell_type": "code",
   "execution_count": null,
   "metadata": {},
   "outputs": [],
   "source": [
    "book_list = top_books.item_uri.tolist()\n",
    "top_books_nodes = circulation_events_bipartite_nodelist[circulation_events_bipartite_nodelist.uri.isin(book_list)]\n",
    "# top_books_nodes[['global_degree', 'local_degree',\n",
    "#                  'global_clustering', 'local_clustering', 'global_closeness',\n",
    "#                  'local_closeness', 'global_betweenness', 'local_betweenness',\n",
    "#                  'local_katz', 'local_HITS',\n",
    "#                  'local_CoHITS', 'local_BiRank', 'local_BGRM', 'global_katz',\n",
    "#                  'global_HITS', 'global_CoHITS', 'global_BiRank',\n",
    "#                  'global_BGRM']].corr()\n",
    "top_books_nodes"
   ]
  },
  {
   "cell_type": "code",
   "execution_count": null,
   "metadata": {},
   "outputs": [],
   "source": [
    "# not_top_books = circulation_events_bipartite_nodelist[circulation_events_bipartite_nodelist.uri.isin(book_list) == False]\n",
    "# not_top_books[['global_degree', 'local_degree',\n",
    "#                'global_clustering', 'local_clustering', 'global_closeness',\n",
    "#                'local_closeness', 'global_betweenness', 'local_betweenness',\n",
    "#                'local_katz', 'local_HITS',\n",
    "#                'local_CoHITS', 'local_BiRank', 'local_BGRM', 'global_katz',\n",
    "#                'global_HITS', 'global_CoHITS', 'global_BiRank',\n",
    "#                'global_BGRM']].corr()\n"
   ]
  },
  {
   "cell_type": "code",
   "execution_count": null,
   "metadata": {},
   "outputs": [],
   "source": [
    "for idx, book in top_books.iterrows():\n",
    "    # print(events_df[(events_df.member_id == 'hemingway') & (events_df.item_uri == book.item_uri)])\n",
    "    print(circulation_events_bipartite_nodelist[circulation_events_bipartite_nodelist.uri == book.item_uri])\n"
   ]
  },
  {
   "cell_type": "code",
   "execution_count": null,
   "metadata": {},
   "outputs": [],
   "source": [
    "[title_lookup[x] for x in top_books.item_uri.values]"
   ]
  },
  {
   "cell_type": "code",
   "execution_count": null,
   "metadata": {},
   "outputs": [],
   "source": [
    "\n"
   ]
  },
  {
   "cell_type": "code",
   "execution_count": null,
   "metadata": {},
   "outputs": [],
   "source": [
    "for d, v in circulation_events_bipartite_graph.nodes(data=True):\n",
    "    if d == 'martin-maud':\n",
    "        print(d, v)\n"
   ]
  },
  {
   "cell_type": "code",
   "execution_count": null,
   "metadata": {},
   "outputs": [],
   "source": [
    "predictions_df[predictions_df.member_id == 'martin-maud']\n"
   ]
  },
  {
   "cell_type": "markdown",
   "metadata": {},
   "source": [
    "### Unipartite Link Predictions"
   ]
  },
  {
   "cell_type": "code",
   "execution_count": null,
   "metadata": {},
   "outputs": [],
   "source": [
    "member_attrs = {'uri': 'member_id'}\n",
    "book_attrs = {'uri': 'item_uri'}\n",
    "edge_attrs = {'weight': 'counts'}\n",
    "node_attrs = {}\n",
    "should_process = True\n",
    "write_to_file = True\n",
    "sk_metrics = ['katz', 'louvain']\n",
    "link_metrics = ['pagerank', 'hubs', 'auth']\n",
    "is_projected = True\n",
    "all_events_grouped = all_events.groupby(\n",
    "    ['member_id', 'item_uri']).size().reset_index(name='counts')\n",
    "\n",
    "\n",
    "projected_members_graph, projected_members_nodelist, projected_members_edgelist, projected_members, projected_books_graph, projected_books_nodelist, projected_books_edgelist, projected_books = check_reload_build_unipartite_graphs(\n",
    "    all_events_grouped, all_events, member_attrs, book_attrs, edge_attrs, node_attrs, should_process, write_to_file, './data/all_events_unipartite_projected', sk_metrics, link_metrics, members_df, books_df, is_projected)\n"
   ]
  },
  {
   "cell_type": "code",
   "execution_count": 30,
   "metadata": {},
   "outputs": [],
   "source": [
    "\n",
    "def get_link_predictions(graph, nodelist):\n",
    "    # nodelist, edgelist = generate_dataframes(graph, False, True)\n",
    "    jaccard_coefs = list(nx.jaccard_coefficient(graph))\n",
    "    jaccard_df = pd.DataFrame(jaccard_coefs, columns=['source', 'target', 'jaccard_coef_prediction'])\n",
    "    jaccard_df['updated_source'] = jaccard_df['source'].progress_apply(lambda x: nodelist[nodelist.uri == x].uri.values[0])\n",
    "    jaccard_df['updated_target'] = jaccard_df['target'].progress_apply(\n",
    "        lambda x: nodelist[nodelist.uri == x].uri.values[0])\n",
    "\n",
    "\n",
    "    pref_attach = nx.preferential_attachment(graph)\n",
    "    pref_attach_df = pd.DataFrame(list(pref_attach), columns=['source', 'target', 'preferential_attachment_prediction'])\n",
    "    pref_attach_df['updated_source'] = pref_attach_df['source'].progress_apply(lambda x: nodelist[nodelist.uri == x].uri.values[0])\n",
    "    pref_attach_df['updated_target'] = pref_attach_df['target'].progress_apply(\n",
    "        lambda x: nodelist[nodelist.uri == x].uri.values[0])\n",
    "\n",
    "    pred_edges = pd.merge(jaccard_df, pref_attach_df, on=['updated_source', 'updated_target', 'source', 'target'])\n",
    "    return pred_edges\n",
    "\n"
   ]
  },
  {
   "cell_type": "code",
   "execution_count": 21,
   "metadata": {},
   "outputs": [],
   "source": [
    "from networkx.algorithms import bipartite\n",
    "member_nodes = [\n",
    "    n for n in circulation_events_bipartite_graph.nodes if circulation_events_bipartite_graph.nodes[n]['group'] == 'members']\n",
    "members_graph = bipartite.weighted_projected_graph(\n",
    "    circulation_events_bipartite_graph, member_nodes)\n"
   ]
  },
  {
   "cell_type": "code",
   "execution_count": 22,
   "metadata": {},
   "outputs": [],
   "source": [
    "nodelist ,edgelist = generate_dataframes(members_graph, False, True)"
   ]
  },
  {
   "cell_type": "code",
   "execution_count": 31,
   "metadata": {},
   "outputs": [
    {
     "data": {
      "application/vnd.jupyter.widget-view+json": {
       "model_id": "fa9c8d11618c4e1d98c76cc512dd9c41",
       "version_major": 2,
       "version_minor": 0
      },
      "text/plain": [
       "  0%|          | 0/572 [00:00<?, ?it/s]"
      ]
     },
     "metadata": {},
     "output_type": "display_data"
    },
    {
     "data": {
      "application/vnd.jupyter.widget-view+json": {
       "model_id": "f54b21e57ebb4498a9b38b09c36d38fe",
       "version_major": 2,
       "version_minor": 0
      },
      "text/plain": [
       "  0%|          | 0/572 [00:00<?, ?it/s]"
      ]
     },
     "metadata": {},
     "output_type": "display_data"
    },
    {
     "data": {
      "application/vnd.jupyter.widget-view+json": {
       "model_id": "65408aa45e064b9f9ba6f277f4f16801",
       "version_major": 2,
       "version_minor": 0
      },
      "text/plain": [
       "  0%|          | 0/572 [00:00<?, ?it/s]"
      ]
     },
     "metadata": {},
     "output_type": "display_data"
    },
    {
     "data": {
      "application/vnd.jupyter.widget-view+json": {
       "model_id": "5ba402ce7c1e4001baa6dc30b988dd97",
       "version_major": 2,
       "version_minor": 0
      },
      "text/plain": [
       "  0%|          | 0/572 [00:00<?, ?it/s]"
      ]
     },
     "metadata": {},
     "output_type": "display_data"
    }
   ],
   "source": [
    "pred_edges = get_link_predictions(\n",
    "    members_graph, nodelist)\n"
   ]
  },
  {
   "cell_type": "code",
   "execution_count": 32,
   "metadata": {},
   "outputs": [
    {
     "data": {
      "text/html": [
       "<div>\n",
       "<style scoped>\n",
       "    .dataframe tbody tr th:only-of-type {\n",
       "        vertical-align: middle;\n",
       "    }\n",
       "\n",
       "    .dataframe tbody tr th {\n",
       "        vertical-align: top;\n",
       "    }\n",
       "\n",
       "    .dataframe thead th {\n",
       "        text-align: right;\n",
       "    }\n",
       "</style>\n",
       "<table border=\"1\" class=\"dataframe\">\n",
       "  <thead>\n",
       "    <tr style=\"text-align: right;\">\n",
       "      <th></th>\n",
       "      <th>source</th>\n",
       "      <th>target</th>\n",
       "      <th>jaccard_coef_prediction</th>\n",
       "      <th>updated_source</th>\n",
       "      <th>updated_target</th>\n",
       "      <th>preferential_attachment_prediction</th>\n",
       "    </tr>\n",
       "  </thead>\n",
       "  <tbody>\n",
       "    <tr>\n",
       "      <th>547</th>\n",
       "      <td>milhaud</td>\n",
       "      <td>wilder-thornton</td>\n",
       "      <td>0.666667</td>\n",
       "      <td>milhaud</td>\n",
       "      <td>wilder-thornton</td>\n",
       "      <td>6</td>\n",
       "    </tr>\n",
       "    <tr>\n",
       "      <th>329</th>\n",
       "      <td>raphael-france</td>\n",
       "      <td>ottocar</td>\n",
       "      <td>0.500000</td>\n",
       "      <td>raphael-france</td>\n",
       "      <td>ottocar</td>\n",
       "      <td>35</td>\n",
       "    </tr>\n",
       "    <tr>\n",
       "      <th>168</th>\n",
       "      <td>treirse</td>\n",
       "      <td>ottensooser</td>\n",
       "      <td>0.500000</td>\n",
       "      <td>treirse</td>\n",
       "      <td>ottensooser</td>\n",
       "      <td>2</td>\n",
       "    </tr>\n",
       "    <tr>\n",
       "      <th>319</th>\n",
       "      <td>raphael-france</td>\n",
       "      <td>lucas-mrs</td>\n",
       "      <td>0.428571</td>\n",
       "      <td>raphael-france</td>\n",
       "      <td>lucas-mrs</td>\n",
       "      <td>21</td>\n",
       "    </tr>\n",
       "    <tr>\n",
       "      <th>37</th>\n",
       "      <td>rolland-madeleine</td>\n",
       "      <td>wyck</td>\n",
       "      <td>0.400000</td>\n",
       "      <td>rolland-madeleine</td>\n",
       "      <td>wyck</td>\n",
       "      <td>48</td>\n",
       "    </tr>\n",
       "    <tr>\n",
       "      <th>...</th>\n",
       "      <td>...</td>\n",
       "      <td>...</td>\n",
       "      <td>...</td>\n",
       "      <td>...</td>\n",
       "      <td>...</td>\n",
       "      <td>...</td>\n",
       "    </tr>\n",
       "    <tr>\n",
       "      <th>559</th>\n",
       "      <td>martin-simone</td>\n",
       "      <td>summerell</td>\n",
       "      <td>0.000000</td>\n",
       "      <td>martin-simone</td>\n",
       "      <td>summerell</td>\n",
       "      <td>0</td>\n",
       "    </tr>\n",
       "    <tr>\n",
       "      <th>563</th>\n",
       "      <td>violette</td>\n",
       "      <td>summerell</td>\n",
       "      <td>0.000000</td>\n",
       "      <td>violette</td>\n",
       "      <td>summerell</td>\n",
       "      <td>0</td>\n",
       "    </tr>\n",
       "    <tr>\n",
       "      <th>567</th>\n",
       "      <td>summerell</td>\n",
       "      <td>marsland</td>\n",
       "      <td>0.000000</td>\n",
       "      <td>summerell</td>\n",
       "      <td>marsland</td>\n",
       "      <td>0</td>\n",
       "    </tr>\n",
       "    <tr>\n",
       "      <th>568</th>\n",
       "      <td>summerell</td>\n",
       "      <td>ottensooser</td>\n",
       "      <td>0.000000</td>\n",
       "      <td>summerell</td>\n",
       "      <td>ottensooser</td>\n",
       "      <td>0</td>\n",
       "    </tr>\n",
       "    <tr>\n",
       "      <th>569</th>\n",
       "      <td>summerell</td>\n",
       "      <td>wilder-charlotte</td>\n",
       "      <td>0.000000</td>\n",
       "      <td>summerell</td>\n",
       "      <td>wilder-charlotte</td>\n",
       "      <td>0</td>\n",
       "    </tr>\n",
       "  </tbody>\n",
       "</table>\n",
       "<p>572 rows × 6 columns</p>\n",
       "</div>"
      ],
      "text/plain": [
       "                source            target  jaccard_coef_prediction  \\\n",
       "547            milhaud   wilder-thornton                 0.666667   \n",
       "329     raphael-france           ottocar                 0.500000   \n",
       "168            treirse       ottensooser                 0.500000   \n",
       "319     raphael-france         lucas-mrs                 0.428571   \n",
       "37   rolland-madeleine              wyck                 0.400000   \n",
       "..                 ...               ...                      ...   \n",
       "559      martin-simone         summerell                 0.000000   \n",
       "563           violette         summerell                 0.000000   \n",
       "567          summerell          marsland                 0.000000   \n",
       "568          summerell       ottensooser                 0.000000   \n",
       "569          summerell  wilder-charlotte                 0.000000   \n",
       "\n",
       "        updated_source    updated_target  preferential_attachment_prediction  \n",
       "547            milhaud   wilder-thornton                                   6  \n",
       "329     raphael-france           ottocar                                  35  \n",
       "168            treirse       ottensooser                                   2  \n",
       "319     raphael-france         lucas-mrs                                  21  \n",
       "37   rolland-madeleine              wyck                                  48  \n",
       "..                 ...               ...                                 ...  \n",
       "559      martin-simone         summerell                                   0  \n",
       "563           violette         summerell                                   0  \n",
       "567          summerell          marsland                                   0  \n",
       "568          summerell       ottensooser                                   0  \n",
       "569          summerell  wilder-charlotte                                   0  \n",
       "\n",
       "[572 rows x 6 columns]"
      ]
     },
     "execution_count": 32,
     "metadata": {},
     "output_type": "execute_result"
    }
   ],
   "source": [
    "pred_edges.sort_values(by=['jaccard_coef_prediction',\n",
    "                       'preferential_attachment_prediction'], ascending=False)\n"
   ]
  },
  {
   "cell_type": "code",
   "execution_count": 34,
   "metadata": {},
   "outputs": [
    {
     "data": {
      "text/html": [
       "<div>\n",
       "<style scoped>\n",
       "    .dataframe tbody tr th:only-of-type {\n",
       "        vertical-align: middle;\n",
       "    }\n",
       "\n",
       "    .dataframe tbody tr th {\n",
       "        vertical-align: top;\n",
       "    }\n",
       "\n",
       "    .dataframe thead th {\n",
       "        text-align: right;\n",
       "    }\n",
       "</style>\n",
       "<table border=\"1\" class=\"dataframe\">\n",
       "  <thead>\n",
       "    <tr style=\"text-align: right;\">\n",
       "      <th></th>\n",
       "      <th>source</th>\n",
       "      <th>target</th>\n",
       "      <th>jaccard_coef_prediction</th>\n",
       "      <th>updated_source</th>\n",
       "      <th>updated_target</th>\n",
       "      <th>preferential_attachment_prediction</th>\n",
       "    </tr>\n",
       "  </thead>\n",
       "  <tbody>\n",
       "    <tr>\n",
       "      <th>5</th>\n",
       "      <td>renoir</td>\n",
       "      <td>jolas-maria</td>\n",
       "      <td>0.0</td>\n",
       "      <td>renoir</td>\n",
       "      <td>jolas-maria</td>\n",
       "      <td>0</td>\n",
       "    </tr>\n",
       "    <tr>\n",
       "      <th>35</th>\n",
       "      <td>rolland-madeleine</td>\n",
       "      <td>jolas-maria</td>\n",
       "      <td>0.0</td>\n",
       "      <td>rolland-madeleine</td>\n",
       "      <td>jolas-maria</td>\n",
       "      <td>0</td>\n",
       "    </tr>\n",
       "    <tr>\n",
       "      <th>62</th>\n",
       "      <td>linossier-raymonde</td>\n",
       "      <td>jolas-maria</td>\n",
       "      <td>0.0</td>\n",
       "      <td>linossier-raymonde</td>\n",
       "      <td>jolas-maria</td>\n",
       "      <td>0</td>\n",
       "    </tr>\n",
       "    <tr>\n",
       "      <th>92</th>\n",
       "      <td>rice-matilda</td>\n",
       "      <td>jolas-maria</td>\n",
       "      <td>0.0</td>\n",
       "      <td>rice-matilda</td>\n",
       "      <td>jolas-maria</td>\n",
       "      <td>0</td>\n",
       "    </tr>\n",
       "    <tr>\n",
       "      <th>118</th>\n",
       "      <td>stein-gertrude</td>\n",
       "      <td>jolas-maria</td>\n",
       "      <td>0.0</td>\n",
       "      <td>stein-gertrude</td>\n",
       "      <td>jolas-maria</td>\n",
       "      <td>0</td>\n",
       "    </tr>\n",
       "    <tr>\n",
       "      <th>150</th>\n",
       "      <td>treirse</td>\n",
       "      <td>jolas-maria</td>\n",
       "      <td>0.0</td>\n",
       "      <td>treirse</td>\n",
       "      <td>jolas-maria</td>\n",
       "      <td>0</td>\n",
       "    </tr>\n",
       "    <tr>\n",
       "      <th>171</th>\n",
       "      <td>varney</td>\n",
       "      <td>jolas-maria</td>\n",
       "      <td>0.0</td>\n",
       "      <td>varney</td>\n",
       "      <td>jolas-maria</td>\n",
       "      <td>0</td>\n",
       "    </tr>\n",
       "  </tbody>\n",
       "</table>\n",
       "</div>"
      ],
      "text/plain": [
       "                 source       target  jaccard_coef_prediction  \\\n",
       "5                renoir  jolas-maria                      0.0   \n",
       "35    rolland-madeleine  jolas-maria                      0.0   \n",
       "62   linossier-raymonde  jolas-maria                      0.0   \n",
       "92         rice-matilda  jolas-maria                      0.0   \n",
       "118      stein-gertrude  jolas-maria                      0.0   \n",
       "150             treirse  jolas-maria                      0.0   \n",
       "171              varney  jolas-maria                      0.0   \n",
       "\n",
       "         updated_source updated_target  preferential_attachment_prediction  \n",
       "5                renoir    jolas-maria                                   0  \n",
       "35    rolland-madeleine    jolas-maria                                   0  \n",
       "62   linossier-raymonde    jolas-maria                                   0  \n",
       "92         rice-matilda    jolas-maria                                   0  \n",
       "118      stein-gertrude    jolas-maria                                   0  \n",
       "150             treirse    jolas-maria                                   0  \n",
       "171              varney    jolas-maria                                   0  "
      ]
     },
     "execution_count": 34,
     "metadata": {},
     "output_type": "execute_result"
    }
   ],
   "source": [
    "pred_edges[pred_edges.target == 'jolas-maria']"
   ]
  },
  {
   "cell_type": "code",
   "execution_count": null,
   "metadata": {},
   "outputs": [],
   "source": [
    "pred_edges[['preferential_attachment_prediction', 'jaccard_coef_prediction']].corr()\n"
   ]
  },
  {
   "cell_type": "code",
   "execution_count": null,
   "metadata": {},
   "outputs": [],
   "source": [
    "nodelist, edgelist = generate_dataframes(projected_books_graph, False, True)\n"
   ]
  },
  {
   "cell_type": "code",
   "execution_count": null,
   "metadata": {},
   "outputs": [],
   "source": []
  },
  {
   "cell_type": "code",
   "execution_count": null,
   "metadata": {},
   "outputs": [],
   "source": [
    "pred_edges_books, books_nodelist = get_link_predictions(projected_books_graph, nodelist)\n"
   ]
  },
  {
   "cell_type": "code",
   "execution_count": null,
   "metadata": {},
   "outputs": [],
   "source": [
    "components = [c for c in sorted(\n",
    "    nx.connected_components(projected_members_graph), key=len, reverse=True)]\n",
    "\n",
    "preds_dfs = []\n",
    "for c in components:\n",
    "    subgraph = projected_members_graph.subgraph(c)\n",
    "    # print(len(subgraph))\n",
    "    preds = nx.common_neighbor_centrality(subgraph)\n",
    "    pred_df = pd.DataFrame(\n",
    "        list(preds), columns=['source', 'target', 'common_neighbor_centrality_prediction'])\n",
    "    preds_dfs.append(pred_df)\n"
   ]
  },
  {
   "cell_type": "code",
   "execution_count": null,
   "metadata": {},
   "outputs": [],
   "source": [
    "preds = list(nx.resource_allocation_index(projected_members_graph))\n",
    "\n",
    "\n",
    "pred_df = pd.DataFrame(preds, columns=['source', 'target', 'resource_allocation_prediction'])\n"
   ]
  },
  {
   "cell_type": "code",
   "execution_count": null,
   "metadata": {},
   "outputs": [],
   "source": [
    "def update_edge_labels(rows):\n",
    "\n",
    "    return nodes_df[nodes_df.label == rows].label.values[0]\n",
    "pred_df['updated_target'] = pred_df.target.apply(update_edge_labels)\n",
    "pred_df['updated_source'] = pred_df.source.apply(update_edge_labels)\n"
   ]
  },
  {
   "cell_type": "code",
   "execution_count": null,
   "metadata": {},
   "outputs": [],
   "source": [
    "\n"
   ]
  },
  {
   "cell_type": "code",
   "execution_count": null,
   "metadata": {},
   "outputs": [],
   "source": [
    "members = projected_members.copy()\n",
    "partial_members = partial_df.member_id.unique().tolist()\n",
    "members.loc[(members.exceptional_types.isna() == True),\n",
    "            'is_exceptional'] = False\n",
    "members.loc[(members.exceptional_types.isna() == False),\n",
    "            'is_exceptional'] = True\n",
    "members.loc[(members.member_id.isin(partial_members)), 'is_partial'] = True\n",
    "members.loc[(members.member_id.isin(partial_members)\n",
    "             == False), 'is_partial'] = False\n"
   ]
  },
  {
   "cell_type": "code",
   "execution_count": null,
   "metadata": {},
   "outputs": [],
   "source": [
    "members = all_events[all_events.start_datetime < '1925-01-01'].member_id.unique().tolist()\n",
    "books = all_events[all_events.start_datetime <'1925-01-01'].item_uri.unique().tolist()\n"
   ]
  },
  {
   "cell_type": "code",
   "execution_count": null,
   "metadata": {},
   "outputs": [],
   "source": [
    "combos = list(itertools.product(members, books))\n",
    "len(combos)"
   ]
  },
  {
   "cell_type": "code",
   "execution_count": null,
   "metadata": {},
   "outputs": [],
   "source": [
    "combo_df = pd.DataFrame(data=combos, columns=['source', 'target'])\n"
   ]
  },
  {
   "cell_type": "code",
   "execution_count": null,
   "metadata": {},
   "outputs": [],
   "source": [
    "edgelist = pd.merge(combo_df, edges_df, on=['source', 'target'], how='outer')\n",
    "edgelist.weight.fillna(0, inplace=True)"
   ]
  },
  {
   "cell_type": "code",
   "execution_count": null,
   "metadata": {},
   "outputs": [],
   "source": [
    "nodelist = pd.merge(members_df[['gender', 'is_organization', 'member_id', 'borrow_count', 'subscription_count', 'exceptional_types',\n",
    "            'exceptional_counts']], nodes_df, left_on='member_id', right_on='uri')\n"
   ]
  },
  {
   "cell_type": "code",
   "execution_count": null,
   "metadata": {},
   "outputs": [],
   "source": [
    "import random\n",
    "training = edgelist[edgelist.weight > 0 ].sample(frac=0.5)\n"
   ]
  },
  {
   "cell_type": "code",
   "execution_count": null,
   "metadata": {},
   "outputs": [],
   "source": [
    "# Degree Centrality features\n",
    "# out_degree_centrality = nx.out_degree_centrality(members_graph)\n",
    "# in_degree_centrality = nx.in_degree_centrality(members_graph)\n",
    "# # training['source_out_centrality'] = training.apply(lambda row: degree_centrality[row.source],axis=1)\n",
    "# # training['target_in_centrality'] = training.apply(lambda row: in_degree_centrality[row.target],axis=1)\n",
    "\n",
    "# # Page rank\n",
    "page_rank = nx.pagerank_scipy(members_graph)\n",
    "training['target_pagerank'] = training.apply(lambda row: page_rank[row.target],axis=1)\n",
    "\n",
    "# # Preferential Attachment\n",
    "# # For a directed graph, is equal to K_out_source * K_in_target with K the number of neighbors. Which is equivalent to multiply the available centralities.\n",
    "# training['preferencial_attachment'] = training.apply(lambda row: row.source_out_centrality * row.target_in_centrality,axis=1)\n",
    "\n",
    "# # HITS algorithm\n",
    "hub_score, authority_score = nx.hits(members_graph)\n",
    "training['source_hub_score'] = training.apply(lambda row: hub_score[row.source],axis=1)\n",
    "training['target_authority_score'] = training.apply(lambda row: authority_score[row.target],axis=1)\n"
   ]
  },
  {
   "cell_type": "code",
   "execution_count": null,
   "metadata": {},
   "outputs": [],
   "source": [
    "import seaborn as sns\n",
    "import matplotlib.pyplot as plt\n",
    "\n",
    "plt.figure(figsize=(14, 12))\n",
    "sns.heatmap(training.corr(),\n",
    "            vmax=0.5,\n",
    "            square=True,\n",
    "            annot=True)\n"
   ]
  },
  {
   "cell_type": "code",
   "execution_count": null,
   "metadata": {},
   "outputs": [],
   "source": [
    "training.loc[training.weight > 0, 'edge_exists'] = 1\n",
    "training.loc[training.weight == 0, 'edge_exists'] = 0"
   ]
  },
  {
   "cell_type": "code",
   "execution_count": null,
   "metadata": {},
   "outputs": [],
   "source": [
    "from sklearn.model_selection import train_test_split\n",
    "\n",
    "X_train, X_test, y_train, y_test = train_test_split(training.drop(\n",
    "    ['source', 'target', 'edge_exists'], axis=1), training.edge_exists, test_size=0.2)\n"
   ]
  },
  {
   "cell_type": "code",
   "execution_count": null,
   "metadata": {},
   "outputs": [],
   "source": [
    "from sklearn.ensemble import RandomForestClassifier\n",
    "\n",
    "RF_classifer = RandomForestClassifier(n_estimators=1000)\n",
    "RF_classifer.fit(X_train, y_train)\n"
   ]
  },
  {
   "cell_type": "code",
   "execution_count": null,
   "metadata": {},
   "outputs": [],
   "source": [
    "# rf = RandomForestClassifier(bootstrap=True, class_weight=None, criterion='gini',\n",
    "#                        max_depth=None, max_features='auto', max_leaf_nodes=None,\n",
    "#                        min_impurity_decrease=0.0,\n",
    "#                        min_samples_leaf=1, min_samples_split=2,\n",
    "#                        min_weight_fraction_leaf=0.0, n_estimators=1000, n_jobs=1,\n",
    "#                        oob_score=False, random_state=None, verbose=0,\n",
    "#                        warm_start=False)\n"
   ]
  },
  {
   "cell_type": "code",
   "execution_count": null,
   "metadata": {},
   "outputs": [],
   "source": [
    "RF_classifer.score(X_test, y_test)\n"
   ]
  },
  {
   "cell_type": "code",
   "execution_count": null,
   "metadata": {},
   "outputs": [],
   "source": [
    "from sklearn.ensemble import RandomForestRegressor\n",
    "rf = RandomForestRegressor(n_estimators=100,\n",
    "                           n_jobs=-1,\n",
    "                           oob_score=True,\n",
    "                           bootstrap=True,\n",
    "                           random_state=42)\n",
    "rf.fit(X_train, y_train)\n"
   ]
  },
  {
   "cell_type": "code",
   "execution_count": null,
   "metadata": {},
   "outputs": [],
   "source": [
    "print('R^2 Training Score: {:.2f} \\nOOB Score: {:.2f} \\nR^2 Validation Score: {:.2f}'.format(rf.score(X_train, y_train), rf.oob_score_,rf.score(X_test, y_test)))\n"
   ]
  }
 ],
 "metadata": {
  "interpreter": {
   "hash": "64bc08f1a64889c0d194e5f8836772fcdd5223ec9e3efb4bcd3e9cf106aac237"
  },
  "kernelspec": {
   "display_name": "Python 3.9.7 64-bit ('unknown_borrowers_env': venv)",
   "name": "python3"
  },
  "language_info": {
   "codemirror_mode": {
    "name": "ipython",
    "version": 3
   },
   "file_extension": ".py",
   "mimetype": "text/x-python",
   "name": "python",
   "nbconvert_exporter": "python",
   "pygments_lexer": "ipython3",
   "version": "3.9.7"
  },
  "orig_nbformat": 4
 },
 "nbformat": 4,
 "nbformat_minor": 2
}
