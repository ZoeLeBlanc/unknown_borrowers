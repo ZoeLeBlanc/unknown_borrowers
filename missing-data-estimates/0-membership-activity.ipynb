{
 "cells": [
  {
   "cell_type": "markdown",
   "metadata": {},
   "source": [
    "# Estimate Membership Activity\n",
    "\n",
    "There are well-defined gaps in our logbooks, and logbooks largely inform the dataset's membership activity (e.g. subscriptions, renewals, etc.) Given those gaps, how accurately can we predict membership activity over a given time interval?"
   ]
  },
  {
   "cell_type": "code",
   "execution_count": 1,
   "metadata": {},
   "outputs": [],
   "source": [
    "import pandas as pd\n",
    "import json\n",
    "from dateutil.parser import parse as date_parse\n",
    "from datetime import datetime, timedelta\n",
    "import matplotlib.pyplot as plt\n",
    "\n",
    "%matplotlib inline"
   ]
  },
  {
   "cell_type": "code",
   "execution_count": 2,
   "metadata": {},
   "outputs": [
    {
     "name": "stdout",
     "output_type": "stream",
     "text": [
      "There are 11601 membership activity events in the dataset sourced from the logbook\n"
     ]
    }
   ],
   "source": [
    "date_parser = lambda x : pd.to_datetime(x, errors='coerce')\n",
    "events_df = pd.read_csv(\n",
    "    '../dataset_generator/source_data/SCoData_events_v1.2_2022-01.csv',\n",
    "    parse_dates=['subscription_purchase_date'], low_memory=False, date_parser=date_parser,\n",
    ")\n",
    "print(f\"There are {events_df[events_df.item_uri.isna() & events_df.source_type.str.contains('Logbook')].shape[0]} membership activity events in the dataset sourced from the logbook\")"
   ]
  },
  {
   "cell_type": "code",
   "execution_count": 3,
   "metadata": {},
   "outputs": [
    {
     "name": "stdout",
     "output_type": "stream",
     "text": [
      "8839 membership activity events remain when dropping those without dates.\n"
     ]
    }
   ],
   "source": [
    "# Only select membership activity events that are sourced by the logbooks\n",
    "# Select only the columns that are immediately useful\n",
    "df = events_df[\n",
    "    events_df.item_uri.isna() &\n",
    "    events_df.source_type.str.contains('Logbook')\n",
    "][[\n",
    "    'member_names',\n",
    "    'event_type', 'start_date', 'end_date', 'subscription_purchase_date',\n",
    "   'subscription_duration', 'subscription_duration_days',\n",
    "   'subscription_volumes', 'subscription_category',\n",
    "   'source_type'\n",
    "]].dropna(subset=['subscription_purchase_date'])\n",
    "\n",
    "df['subscription_purchase_date'] = pd.to_datetime(df['subscription_purchase_date'])\n",
    "df['subscription_purchase_date'] = pd.to_datetime(df['subscription_purchase_date'])\n",
    "\n",
    "print(f\"{df.shape[0]} membership activity events remain when dropping those without dates.\")"
   ]
  },
  {
   "cell_type": "markdown",
   "metadata": {},
   "source": [
    "# Determine Logbook Gaps"
   ]
  },
  {
   "cell_type": "code",
   "execution_count": 4,
   "metadata": {},
   "outputs": [
    {
     "name": "stdout",
     "output_type": "stream",
     "text": [
      "The 6 large gaps in the logbooks\n",
      "\tDecember 31 1927 to March 01 1928 (61 days)\n",
      "\tJanuary 02 1930 to June 02 1930 (151 days)\n",
      "\tJuly 31 1930 to January 01 1931 (154 days)\n",
      "\tFebruary 16 1931 to September 26 1932 (588 days)\n",
      "\tDecember 31 1936 to February 17 1938 (413 days)\n",
      "\tMay 05 1938 to October 21 1938 (169 days)\n",
      "\n",
      "The 8 small gaps in the logbooks that will be skipped\n",
      "\tDecember 31 1923 to January 02 1924 (2 days)\n",
      "\tOctober 29 1927 to November 02 1927 (4 days)\n",
      "\tApril 30 1928 to May 01 1928 (1 days)\n",
      "\tDecember 31 1928 to January 02 1929 (2 days)\n",
      "\tNovember 30 1929 to December 02 1929 (2 days)\n",
      "\tFebruary 06 1934 to February 09 1934 (3 days)\n",
      "\tDecember 31 1934 to January 12 1935 (12 days)\n",
      "\tDecember 28 1935 to January 02 1936 (5 days)\n"
     ]
    }
   ],
   "source": [
    "with open('logbook-dates.json') as f:\n",
    "    logbook_dates = json.load(f)\n",
    "    for d in logbook_dates:\n",
    "        d['startDate'] = date_parse(d['startDate'])\n",
    "        d['endDate'] = date_parse(d['endDate'])\n",
    "\n",
    "logbook_gaps = []\n",
    "skipped = []\n",
    "for i, _ in enumerate(logbook_dates[1:-1]):\n",
    "    start = logbook_dates[i]['endDate']\n",
    "    end = logbook_dates[i+1]['startDate']\n",
    "    interval = end - start\n",
    "    interval_dict = { 'start': start, 'end': end, 'interval': interval.days }\n",
    "    if interval.days > 12:\n",
    "        logbook_gaps.append(interval_dict)\n",
    "    else:\n",
    "        skipped.append(interval_dict)\n",
    "\n",
    "print(f\"The {len(logbook_gaps)} large gaps in the logbooks\")\n",
    "for date_dict in logbook_gaps:\n",
    "    print(f\"\\t{date_dict['start'].strftime('%B %d %Y')} to {date_dict['end'].strftime('%B %d %Y')} ({date_dict['interval']} days)\")\n",
    "\n",
    "print(f\"\\nThe {len(skipped)} small gaps in the logbooks that will be skipped\")\n",
    "for date_dict in skipped:\n",
    "    print(f\"\\t{date_dict['start'].strftime('%B %d %Y')} to {date_dict['end'].strftime('%B %d %Y')} ({date_dict['interval']} days)\")\n"
   ]
  },
  {
   "cell_type": "code",
   "execution_count": 5,
   "metadata": {},
   "outputs": [
    {
     "name": "stdout",
     "output_type": "stream",
     "text": [
      "Number of membership events that occur during the logbook gaps: 8. (These come from other sources like Lending Cards)\n"
     ]
    }
   ],
   "source": [
    "dfs = []\n",
    "for gap in logbook_gaps:\n",
    "    dfs.append(df[df['subscription_purchase_date'].between(gap['start'], gap['end'], inclusive=False)])\n",
    "print(f\"Number of membership events that occur during the logbook gaps: {pd.concat(dfs).shape[0]}. (These come from other sources like Lending Cards)\")"
   ]
  },
  {
   "cell_type": "markdown",
   "metadata": {},
   "source": [
    "## Generate event per day distribution"
   ]
  },
  {
   "cell_type": "code",
   "execution_count": 6,
   "metadata": {},
   "outputs": [
    {
     "data": {
      "text/plain": [
       "<matplotlib.axes._subplots.AxesSubplot at 0x7fb160d17c50>"
      ]
     },
     "execution_count": 6,
     "metadata": {},
     "output_type": "execute_result"
    },
    {
     "data": {
      "image/png": "[encoded data removed]",
      "text/plain": [
       "<Figure size 432x288 with 1 Axes>"
      ]
     },
     "metadata": {
      "needs_background": "light"
     },
     "output_type": "display_data"
    }
   ],
   "source": [
    "# Calculate distribution of events per day\n",
    "event_per_day_distribution = df.groupby('subscription_purchase_date').count()['event_type']\n",
    "# Make distribution continuous\n",
    "event_per_day_distribution = df.groupby('subscription_purchase_date').count()['event_type']\n",
    "day_delta = (event_per_day_distribution.index.max() - event_per_day_distribution.index.min()).days\n",
    "for i in range(day_delta):\n",
    "    new_date = event_per_day_distribution.index.min() + timedelta(days=i)\n",
    "    if new_date not in event_per_day_distribution.index:\n",
    "        event_per_day_distribution.loc[new_date] = 0\n",
    "\n",
    "# Filter logbook gaps dates out of the dataset\n",
    "for gap in logbook_gaps:\n",
    "    event_per_day_distribution = event_per_day_distribution[\n",
    "        ~((gap['start'] < event_per_day_distribution.index) & (gap['end'] > event_per_day_distribution.index))\n",
    "    ]\n",
    "\n",
    "event_per_day_distribution.hist()"
   ]
  },
  {
   "cell_type": "markdown",
   "metadata": {},
   "source": [
    "## Calculation Summary"
   ]
  },
  {
   "cell_type": "code",
   "execution_count": 7,
   "metadata": {},
   "outputs": [
    {
     "name": "stdout",
     "output_type": "stream",
     "text": [
      "Number of missing days: 1536\n",
      "Percent of all days missing: 19.06\n",
      "Average number of membership events per day: 1.352373660030628\n",
      "Surviving membership activity event count: 13039\n",
      "Estimated total number of membership events: 15116.245941807045\n",
      "Estimated number of missing membership events: 2077\n",
      "Estimated percent of surviving membership events: 86.26\n"
     ]
    }
   ],
   "source": [
    "number_of_missing_days = sum([date_dict['interval'] for date_dict in logbook_gaps])\n",
    "missing_membership_event_count = event_per_day_distribution.mean() * number_of_missing_days\n",
    "logbook_timespan = (events_df.subscription_purchase_date.dropna().max() - events_df.subscription_purchase_date.dropna().min()).days\n",
    "logbook_missing_day_percentage = round(number_of_missing_days / logbook_timespan*100, 2)\n",
    "surviving_membership_event_count = events_df[events_df.item_uri.isna()].shape[0]\n",
    "total_membership_event_count = surviving_membership_event_count + missing_membership_event_count  # Assumption by definition that all membership events would be included in the logbook\n",
    "percent_surviving_membership_events = round(surviving_membership_event_count / total_membership_event_count * 100, 2)\n",
    "\n",
    "# Results\n",
    "print(f\"Number of missing days: {number_of_missing_days}\")\n",
    "print(f\"Percent of all days missing: {logbook_missing_day_percentage}\")\n",
    "print(f\"Average number of membership events per day: {event_per_day_distribution.mean()}\")\n",
    "print(f\"Surviving membership activity event count: {surviving_membership_event_count}\")\n",
    "print(f\"Estimated total number of membership events: {total_membership_event_count}\")\n",
    "print(f\"Estimated number of missing membership events: {int(missing_membership_event_count)}\")\n",
    "print(f\"Estimated percent of surviving membership events: {float(percent_surviving_membership_events)}\")"
   ]
  }
 ],
 "metadata": {
  "interpreter": {
   "hash": "aee8b7b246df8f9039afb4144a1f6fd8d2ca17a180786b69acc140d282b71a49"
  },
  "kernelspec": {
   "display_name": "Python 3.9.7 64-bit",
   "language": "python",
   "name": "python3"
  },
  "language_info": {
   "codemirror_mode": {
    "name": "ipython",
    "version": 3
   },
   "file_extension": ".py",
   "mimetype": "text/x-python",
   "name": "python",
   "nbconvert_exporter": "python",
   "pygments_lexer": "ipython3",
   "version": "3.7.6"
  },
  "orig_nbformat": 4
 },
 "nbformat": 4,
 "nbformat_minor": 2
}
