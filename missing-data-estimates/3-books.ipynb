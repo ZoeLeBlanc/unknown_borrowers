{
 "cells": [
  {
   "cell_type": "markdown",
   "source": [
    "# Estimate the number of books that were borrowed\n",
    "\n",
    "We know that the number of books included in the dataset decreases with each new book event added. If we fit a function to the surviving data, how well can we extrapolate to the missing data?"
   ],
   "metadata": {}
  },
  {
   "cell_type": "code",
   "execution_count": 1,
   "source": [
    "import pandas as pd\n",
    "from datetime import datetime\n",
    "\n",
    "from scipy import stats\n",
    "import numpy as np\n",
    "import matplotlib.pyplot as plt\n",
    "from scipy.optimize import curve_fit\n"
   ],
   "outputs": [],
   "metadata": {}
  },
  {
   "cell_type": "code",
   "execution_count": 2,
   "source": [
    "csv_urls = {\n",
    "    'members': '../recommender/data/SCoData_members_v1.1_2021-01.csv',\n",
    "    'books': '../recommender/data/SCoData_books_v1.1_2021-01.csv',\n",
    "    'events': '../recommender/data/SCoData_events_v1.1_2021-01.csv'\n",
    "\n",
    "}\n",
    "\n",
    "# load members, books, events as csv\n",
    "members_df = pd.read_csv(csv_urls['members'])\n",
    "books_df = pd.read_csv(csv_urls['books'])\n",
    "events_df = pd.read_csv(csv_urls['events'])"
   ],
   "outputs": [],
   "metadata": {}
  },
  {
   "cell_type": "code",
   "execution_count": 3,
   "source": [
    "# Calculation from 2-book-activity.ipynb\n",
    "MISSING_BOOK_EVENT_ESTIMATE = 0.2734"
   ],
   "outputs": [],
   "metadata": {}
  },
  {
   "cell_type": "code",
   "execution_count": 4,
   "source": [
    "book_events = events_df[~events_df.item_uri.isna()].copy()\n",
    "book_events['start_date'] = pd.to_datetime(book_events['start_date'], errors='coerce')\n",
    "book_events = book_events.dropna(subset=['start_date'])\n",
    "book_events = book_events[book_events['start_date'] < datetime(1942, 1, 1)]"
   ],
   "outputs": [],
   "metadata": {}
  },
  {
   "cell_type": "code",
   "execution_count": 5,
   "source": [
    "xs = []\n",
    "ys = []\n",
    "\n",
    "df_shuffle = book_events.sample(frac=1).copy()\n",
    "\n",
    "# randomly shuffle rows when performing this analysis\n",
    "for i in range(1, df_shuffle.shape[0], 50): \n",
    "    portion = df_shuffle.head(i)\n",
    "    xs.append(i)\n",
    "    ys.append(portion['item_uri'].unique().shape[0])\n",
    "\n",
    "\n",
    "def approximate_function(x, a, b, c, d):\n",
    "    return a * np.sqrt(b * x) + c*x**.25 + d*x**.125\n",
    "\n",
    "xdata = xs\n",
    "ydata = ys\n",
    "plt.plot(xs, ys, 'b-', label='data')\n",
    "popt, pcov = curve_fit(approximate_function, xdata, ydata)\n",
    " \n",
    "x_pred = range(0, 79000, 100)\n",
    "y_pred = [approximate_function(x, *popt) for x in x_pred]\n",
    "plt.plot(x_pred, y_pred, 'g--', label='fit: a=%5.3f, b=%5.3f, c=%5.3f, d=%5.3f' % tuple(popt))"
   ],
   "outputs": [
    {
     "output_type": "stream",
     "name": "stderr",
     "text": [
      "/Users/kmcelwee/anaconda3/lib/python3.7/site-packages/ipykernel_launcher.py:14: RuntimeWarning: invalid value encountered in sqrt\n",
      "  \n"
     ]
    },
    {
     "output_type": "execute_result",
     "data": {
      "text/plain": [
       "[<matplotlib.lines.Line2D at 0x7f8250cca510>]"
      ]
     },
     "metadata": {},
     "execution_count": 5
    },
    {
     "output_type": "display_data",
     "data": {
      "image/png": "[encoded data removed]",
      "text/plain": [
       "<Figure size 432x288 with 1 Axes>"
      ]
     },
     "metadata": {
      "needs_background": "light"
     }
    }
   ],
   "metadata": {}
  },
  {
   "cell_type": "code",
   "execution_count": 6,
   "source": [
    "surviving_book_event_count = book_events.shape[0]\n",
    "total_book_event_count = surviving_book_event_count / MISSING_BOOK_EVENT_ESTIMATE\n",
    "surviving_book_count = books_df.shape[0]\n",
    "total_book_count = approximate_function(total_book_event_count, *popt)\n",
    "\n",
    "percent_surviving_books = round(surviving_book_count / total_book_count * 100, 2)\n",
    "n_missing_books = total_book_count - surviving_book_count\n",
    "\n",
    "print(f\"Number of surviving book events: {surviving_book_event_count}\")\n",
    "print(f\"Number of surviving books from book events: {surviving_book_count}\")\n",
    "print(f\"Estimated number of book events [from calculation elsewhere]: {total_book_event_count}\")\n",
    "print(f\"Estimated number of books from book events: {total_book_count}\")\n",
    "print(f\"Estimated percent of books that survived {percent_surviving_books}\")\n",
    "print(f\"Estimated number of missing books {n_missing_books}\")"
   ],
   "outputs": [
    {
     "output_type": "stream",
     "name": "stdout",
     "text": [
      "Number of surviving book events: 21767\n",
      "Number of surviving books from book events: 6018\n",
      "Estimated number of book events [from calculation elsewhere]: 79615.94732991954\n",
      "Estimated number of books from book events: 10625.078910868579\n",
      "Estimated percent of books that survived 56.64\n",
      "Estimated number of missing books 4607.0789108685785\n"
     ]
    }
   ],
   "metadata": {}
  }
 ],
 "metadata": {
  "orig_nbformat": 4,
  "language_info": {
   "name": "python",
   "version": "3.7.6",
   "mimetype": "text/x-python",
   "codemirror_mode": {
    "name": "ipython",
    "version": 3
   },
   "pygments_lexer": "ipython3",
   "nbconvert_exporter": "python",
   "file_extension": ".py"
  },
  "kernelspec": {
   "name": "python3",
   "display_name": "Python 3.7.6 64-bit ('base': conda)"
  },
  "interpreter": {
   "hash": "3573578575fac81f377c7485c4dc718c7f533c6663a440ab670027df27ed6eea"
  }
 },
 "nbformat": 4,
 "nbformat_minor": 2
}