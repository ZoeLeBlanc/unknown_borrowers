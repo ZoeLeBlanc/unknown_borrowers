{
 "cells": [
  {
   "cell_type": "markdown",
   "metadata": {},
   "source": [
    "# Estimate the number of books that were borrowed\n",
    "\n",
    "We know that the number of books included in the dataset decreases with each new book event added. If we fit a function to the surviving data, how well can we extrapolate to the missing data?"
   ]
  },
  {
   "cell_type": "code",
   "execution_count": 4,
   "metadata": {},
   "outputs": [],
   "source": [
    "import pandas as pd\n",
    "from datetime import datetime\n",
    "\n",
    "from scipy import stats\n",
    "import numpy as np\n",
    "import matplotlib.pyplot as plt\n",
    "from scipy.optimize import curve_fit\n"
   ]
  },
  {
   "cell_type": "code",
   "execution_count": 5,
   "metadata": {},
   "outputs": [],
   "source": [
    "csv_urls = {\n",
    "    'members': '../dataset_generator/data/SCoData_members_v1.1_2021-01.csv',\n",
    "    'books': '../dataset_generator/data/SCoData_books_v1.1_2021-01.csv',\n",
    "    'events': '../dataset_generator/data/SCoData_events_v1.1_2021-01.csv'\n",
    "\n",
    "}\n",
    "\n",
    "# load members, books, events as csv\n",
    "members_df = pd.read_csv(csv_urls['members'])\n",
    "books_df = pd.read_csv(csv_urls['books'])\n",
    "events_df = pd.read_csv(csv_urls['events'])"
   ]
  },
  {
   "cell_type": "code",
   "execution_count": 6,
   "metadata": {},
   "outputs": [],
   "source": [
    "# Calculation from 2-book-activity.ipynb\n",
    "MISSING_BOOK_EVENT_ESTIMATE = 0.2734"
   ]
  },
  {
   "cell_type": "code",
   "execution_count": 7,
   "metadata": {},
   "outputs": [],
   "source": [
    "book_events = events_df[~events_df.item_uri.isna()].copy()\n",
    "book_events['start_date'] = pd.to_datetime(book_events['start_date'], errors='coerce')\n",
    "book_events = book_events.dropna(subset=['start_date'])\n",
    "book_events = book_events[book_events['start_date'] < datetime(1942, 1, 1)]"
   ]
  },
  {
   "cell_type": "code",
   "execution_count": 13,
   "metadata": {},
   "outputs": [
    {
     "name": "stderr",
     "output_type": "stream",
     "text": [
      "/Users/kmcelwee/anaconda3/lib/python3.7/site-packages/ipykernel_launcher.py:14: RuntimeWarning: invalid value encountered in sqrt\n",
      "  \n"
     ]
    },
    {
     "data": {
      "text/plain": [
       "[<matplotlib.lines.Line2D at 0x7ff2e080f950>]"
      ]
     },
     "execution_count": 13,
     "metadata": {},
     "output_type": "execute_result"
    },
    {
     "data": {
      "image/png": "[encoded data removed]",
      "text/plain": [
       "<Figure size 432x288 with 1 Axes>"
      ]
     },
     "metadata": {
      "needs_background": "light"
     },
     "output_type": "display_data"
    }
   ],
   "source": [
    "xs = []\n",
    "ys = []\n",
    "\n",
    "df_shuffle = book_events.sample(frac=1, random_state=42).copy()\n",
    "\n",
    "# randomly shuffle rows when performing this analysis\n",
    "for i in range(1, df_shuffle.shape[0], 50): \n",
    "    portion = df_shuffle.head(i)\n",
    "    xs.append(i)\n",
    "    ys.append(portion['item_uri'].unique().shape[0])\n",
    "\n",
    "\n",
    "def approximate_function(x, a, b, c, d):\n",
    "    return a * np.sqrt(b * x) + c*x**.25 + d*x**.125\n",
    "\n",
    "xdata = xs\n",
    "ydata = ys\n",
    "plt.plot(xs, ys, 'b-', label='data')\n",
    "popt, pcov = curve_fit(approximate_function, xdata, ydata)\n",
    " \n",
    "x_pred = range(0, 79000, 100)\n",
    "y_pred = [approximate_function(x, *popt) for x in x_pred]\n",
    "plt.plot(x_pred, y_pred, 'g--', label='fit: a=%5.3f, b=%5.3f, c=%5.3f, d=%5.3f' % tuple(popt))"
   ]
  },
  {
   "cell_type": "code",
   "execution_count": 14,
   "metadata": {},
   "outputs": [
    {
     "name": "stdout",
     "output_type": "stream",
     "text": [
      "Number of surviving book events: 21767\n",
      "Number of surviving books from book events: 6018\n",
      "Estimated number of book events [from calculation elsewhere]: 79615.94732991954\n",
      "Estimated number of books from book events: 10840.523062057791\n",
      "Estimated percent of books that survived 55.51\n",
      "Estimated number of missing books 4822.523062057791\n"
     ]
    }
   ],
   "source": [
    "surviving_book_event_count = book_events.shape[0]\n",
    "total_book_event_count = surviving_book_event_count / MISSING_BOOK_EVENT_ESTIMATE\n",
    "surviving_book_count = books_df.shape[0]\n",
    "total_book_count = approximate_function(total_book_event_count, *popt)\n",
    "\n",
    "percent_surviving_books = round(surviving_book_count / total_book_count * 100, 2)\n",
    "n_missing_books = total_book_count - surviving_book_count\n",
    "\n",
    "print(f\"Number of surviving book events: {surviving_book_event_count}\")\n",
    "print(f\"Number of surviving books from book events: {surviving_book_count}\")\n",
    "print(f\"Estimated number of book events [from calculation elsewhere]: {total_book_event_count}\")\n",
    "print(f\"Estimated number of books from book events: {total_book_count}\")\n",
    "print(f\"Estimated percent of books that survived {percent_surviving_books}\")\n",
    "print(f\"Estimated number of missing books {n_missing_books}\")"
   ]
  }
 ],
 "metadata": {
  "interpreter": {
   "hash": "fdeb411d57c7d8f2fe5bf4e3226c5d30512972aa2bb0877a2ea73a17a913780c"
  },
  "kernelspec": {
   "display_name": "Python 3.7.6 64-bit ('base': conda)",
   "name": "python3"
  },
  "language_info": {
   "codemirror_mode": {
    "name": "ipython",
    "version": 3
   },
   "file_extension": ".py",
   "mimetype": "text/x-python",
   "name": "python",
   "nbconvert_exporter": "python",
   "pygments_lexer": "ipython3",
   "version": "3.7.6"
  },
  "orig_nbformat": 4
 },
 "nbformat": 4,
 "nbformat_minor": 2
}
