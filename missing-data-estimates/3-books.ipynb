{
 "cells": [
  {
   "cell_type": "markdown",
   "metadata": {},
   "source": [
    "# Estimate the number of books missing from the dataset\n",
    "\n",
    "We know that we have approximately 27 percent of the missing borrow events. Can we use this to determine how many books are missing from the dataset? Or how many books were in the S&Co library?"
   ]
  },
  {
   "cell_type": "code",
   "execution_count": 1,
   "metadata": {},
   "outputs": [],
   "source": [
    "import pandas as pd\n",
    "from datetime import datetime\n",
    "\n",
    "from scipy import stats\n",
    "import numpy as np\n",
    "import matplotlib.pyplot as plt\n",
    "from scipy.optimize import curve_fit"
   ]
  },
  {
   "cell_type": "code",
   "execution_count": 2,
   "metadata": {},
   "outputs": [],
   "source": [
    "csv_urls = {\n",
    "    'members': '../dataset_generator/data/SCoData_members_v1.1_2021-01.csv',\n",
    "    'books': '../dataset_generator/data/SCoData_books_v1.1_2021-01.csv',\n",
    "    'events': '../dataset_generator/data/SCoData_events_v1.1_2021-01.csv'\n",
    "\n",
    "}\n",
    "\n",
    "# load members, books, events as csv\n",
    "members_df = pd.read_csv(csv_urls['members'])\n",
    "books_df = pd.read_csv(csv_urls['books'])\n",
    "events_df = pd.read_csv(csv_urls['events'])"
   ]
  },
  {
   "cell_type": "code",
   "execution_count": 16,
   "metadata": {},
   "outputs": [
    {
     "data": {
      "text/plain": [
       "2.65764447695684"
      ]
     },
     "execution_count": 16,
     "metadata": {},
     "output_type": "execute_result"
    }
   ],
   "source": [
    "# Calculation from 2-book-activity.ipynb\n",
    "SURVIVING_BOOK_EVENT_ESTIMATE = 0.2734\n",
    "\n",
    "# In the function psi of t, t is a multiple of the number of samples N.\n",
    "#  To know what the number of books missing from the book events are, we need\n",
    "#  to know the how many multiples of N we need to make our estimate.\n",
    "total_book_event_multiplier = (1 - SURVIVING_BOOK_EVENT_ESTIMATE) / SURVIVING_BOOK_EVENT_ESTIMATE\n",
    "total_book_event_multiplier"
   ]
  },
  {
   "cell_type": "code",
   "execution_count": 28,
   "metadata": {},
   "outputs": [
    {
     "name": "stdout",
     "output_type": "stream",
     "text": [
      "Number of missing books from book events: 59\n",
      "Percent surviving: 99.03\n",
      "Number of books missing from library: 82\n",
      "Percent surviving: 98.64\n"
     ]
    }
   ],
   "source": [
    "def stopping_criterion(U_is, delta):\n",
    "    return len(U_is) >= 2 and U_is[-1] - U_is[-2] < delta\n",
    "\n",
    "def psi_hat_at_infinity(N_ks, delta=0.0001):\n",
    "    # Suggested algorithm by BBC, see Appendix B\n",
    "    # Solving U ( 1 - exp(-N_1 / U)) = U_o\n",
    "    ks_and_N_ks = [(i+1, v) for i, v in enumerate(N_ks)]\n",
    "    U_o = sum([N_k*np.exp(-k) for k, N_k in ks_and_N_ks])\n",
    "    U_is = [U_o]\n",
    "    N_1 = N_ks[0]\n",
    "\n",
    "    while not stopping_criterion(U_is, delta):\n",
    "        if U_o >= N_1:\n",
    "            U_i = 0\n",
    "        U_i = U_o + U_is[-1] * np.exp(-N_1 / U_is[-1])\n",
    "        U_is.append(U_i)\n",
    "    \n",
    "    return U_is[-1]\n",
    "\n",
    "def psi_hat_t(t, N_ks):\n",
    "    ks_and_N_ks = [(i+1, v) for i, v in enumerate(N_ks)]\n",
    "    return sum([N_k*np.exp(-k) for k, N_k in ks_and_N_ks]) - sum([N_k*np.exp(-k*(1+t)) for k, N_k in ks_and_N_ks])\n",
    "\n",
    "books_df = pd.read_csv(csv_urls['books'])\n",
    "surviving_book_count = books_df.shape[0]\n",
    "\n",
    "book_events_df = events_df[~events_df['item_uri'].isna()]\n",
    "book_events_df = book_events_df[book_events_df['event_type'] == 'Borrow']\n",
    "N_ks = book_events_df.groupby('item_uri')['item_uri'].count().sort_values(ascending=False).values\n",
    "# N_ks = books_df['event_count'].sort_values(ascending=False).values\n",
    "\n",
    "number_of_missing_book_event_books = psi_hat_t(total_book_event_multiplier, N_ks)\n",
    "book_events_percent_surviving = round(surviving_book_count/(number_of_missing_book_event_books + surviving_book_count) * 100, 2)\n",
    "\n",
    "number_of_missing_library_books = psi_hat_at_infinity(N_ks)\n",
    "library_percent_surviving = round(surviving_book_count/(number_of_missing_library_books + surviving_book_count) * 100, 2)\n",
    "\n",
    "print(f'Number of missing books from book events: {int(number_of_missing_book_event_books)}')\n",
    "print(f'Percent surviving: {book_events_percent_surviving}')\n",
    "print(f'Number of books missing from library: {int(number_of_missing_library_books)}')\n",
    "print(f'Percent surviving: {library_percent_surviving}')"
   ]
  }
 ],
 "metadata": {
  "interpreter": {
   "hash": "fdeb411d57c7d8f2fe5bf4e3226c5d30512972aa2bb0877a2ea73a17a913780c"
  },
  "kernelspec": {
   "display_name": "Python 3.7.6 64-bit ('base': conda)",
   "name": "python3"
  },
  "language_info": {
   "codemirror_mode": {
    "name": "ipython",
    "version": 3
   },
   "file_extension": ".py",
   "mimetype": "text/x-python",
   "name": "python",
   "nbconvert_exporter": "python",
   "pygments_lexer": "ipython3",
   "version": "3.7.6"
  }
 },
 "nbformat": 4,
 "nbformat_minor": 4
}
